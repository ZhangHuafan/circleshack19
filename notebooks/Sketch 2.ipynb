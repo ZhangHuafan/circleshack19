{
 "cells": [
  {
   "cell_type": "code",
   "execution_count": 2,
   "metadata": {
    "collapsed": true
   },
   "outputs": [],
   "source": [
    "import pandas as pd\n",
    "import numpy as np\n",
    "import matplotlib.pyplot as plt\n",
    "%matplotlib inline"
   ]
  },
  {
   "cell_type": "code",
   "execution_count": 3,
   "metadata": {
    "collapsed": true
   },
   "outputs": [],
   "source": [
    "df = pd.read_csv(\"data2015.csv\")\n",
    "income_vs_housing = pd.read_csv(\"Income_lvl_vs_House_price.csv\", index_col = 'town')"
   ]
  },
  {
   "cell_type": "code",
   "execution_count": 4,
   "metadata": {},
   "outputs": [
    {
     "data": {
      "text/html": [
       "<div>\n",
       "<style>\n",
       "    .dataframe thead tr:only-child th {\n",
       "        text-align: right;\n",
       "    }\n",
       "\n",
       "    .dataframe thead th {\n",
       "        text-align: left;\n",
       "    }\n",
       "\n",
       "    .dataframe tbody tr th {\n",
       "        vertical-align: top;\n",
       "    }\n",
       "</style>\n",
       "<table border=\"1\" class=\"dataframe\">\n",
       "  <thead>\n",
       "    <tr style=\"text-align: right;\">\n",
       "      <th></th>\n",
       "      <th>block</th>\n",
       "      <th>flat_model</th>\n",
       "      <th>flat_type</th>\n",
       "      <th>floor_area_sqm</th>\n",
       "      <th>lease_commence_date</th>\n",
       "      <th>month</th>\n",
       "      <th>remaining_lease</th>\n",
       "      <th>resale_price</th>\n",
       "      <th>storey_range</th>\n",
       "      <th>street_name</th>\n",
       "      <th>town</th>\n",
       "      <th>year</th>\n",
       "    </tr>\n",
       "  </thead>\n",
       "  <tbody>\n",
       "    <tr>\n",
       "      <th>0</th>\n",
       "      <td>174</td>\n",
       "      <td>Improved</td>\n",
       "      <td>3 ROOM</td>\n",
       "      <td>60.0</td>\n",
       "      <td>1986</td>\n",
       "      <td>2015-01</td>\n",
       "      <td>70.0</td>\n",
       "      <td>255000.0</td>\n",
       "      <td>07 TO 09</td>\n",
       "      <td>ANG MO KIO AVE 4</td>\n",
       "      <td>ANG MO KIO</td>\n",
       "      <td>2015</td>\n",
       "    </tr>\n",
       "    <tr>\n",
       "      <th>1</th>\n",
       "      <td>541</td>\n",
       "      <td>New Generation</td>\n",
       "      <td>3 ROOM</td>\n",
       "      <td>68.0</td>\n",
       "      <td>1981</td>\n",
       "      <td>2015-01</td>\n",
       "      <td>65.0</td>\n",
       "      <td>275000.0</td>\n",
       "      <td>01 TO 03</td>\n",
       "      <td>ANG MO KIO AVE 10</td>\n",
       "      <td>ANG MO KIO</td>\n",
       "      <td>2015</td>\n",
       "    </tr>\n",
       "    <tr>\n",
       "      <th>2</th>\n",
       "      <td>163</td>\n",
       "      <td>New Generation</td>\n",
       "      <td>3 ROOM</td>\n",
       "      <td>69.0</td>\n",
       "      <td>1980</td>\n",
       "      <td>2015-01</td>\n",
       "      <td>64.0</td>\n",
       "      <td>285000.0</td>\n",
       "      <td>01 TO 03</td>\n",
       "      <td>ANG MO KIO AVE 4</td>\n",
       "      <td>ANG MO KIO</td>\n",
       "      <td>2015</td>\n",
       "    </tr>\n",
       "    <tr>\n",
       "      <th>3</th>\n",
       "      <td>446</td>\n",
       "      <td>New Generation</td>\n",
       "      <td>3 ROOM</td>\n",
       "      <td>68.0</td>\n",
       "      <td>1979</td>\n",
       "      <td>2015-01</td>\n",
       "      <td>63.0</td>\n",
       "      <td>290000.0</td>\n",
       "      <td>01 TO 03</td>\n",
       "      <td>ANG MO KIO AVE 10</td>\n",
       "      <td>ANG MO KIO</td>\n",
       "      <td>2015</td>\n",
       "    </tr>\n",
       "    <tr>\n",
       "      <th>4</th>\n",
       "      <td>557</td>\n",
       "      <td>New Generation</td>\n",
       "      <td>3 ROOM</td>\n",
       "      <td>68.0</td>\n",
       "      <td>1980</td>\n",
       "      <td>2015-01</td>\n",
       "      <td>64.0</td>\n",
       "      <td>290000.0</td>\n",
       "      <td>07 TO 09</td>\n",
       "      <td>ANG MO KIO AVE 10</td>\n",
       "      <td>ANG MO KIO</td>\n",
       "      <td>2015</td>\n",
       "    </tr>\n",
       "  </tbody>\n",
       "</table>\n",
       "</div>"
      ],
      "text/plain": [
       "  block      flat_model flat_type  floor_area_sqm  lease_commence_date  \\\n",
       "0   174        Improved    3 ROOM            60.0                 1986   \n",
       "1   541  New Generation    3 ROOM            68.0                 1981   \n",
       "2   163  New Generation    3 ROOM            69.0                 1980   \n",
       "3   446  New Generation    3 ROOM            68.0                 1979   \n",
       "4   557  New Generation    3 ROOM            68.0                 1980   \n",
       "\n",
       "     month remaining_lease  resale_price storey_range        street_name  \\\n",
       "0  2015-01            70.0      255000.0     07 TO 09   ANG MO KIO AVE 4   \n",
       "1  2015-01            65.0      275000.0     01 TO 03  ANG MO KIO AVE 10   \n",
       "2  2015-01            64.0      285000.0     01 TO 03   ANG MO KIO AVE 4   \n",
       "3  2015-01            63.0      290000.0     01 TO 03  ANG MO KIO AVE 10   \n",
       "4  2015-01            64.0      290000.0     07 TO 09  ANG MO KIO AVE 10   \n",
       "\n",
       "         town  year  \n",
       "0  ANG MO KIO  2015  \n",
       "1  ANG MO KIO  2015  \n",
       "2  ANG MO KIO  2015  \n",
       "3  ANG MO KIO  2015  \n",
       "4  ANG MO KIO  2015  "
      ]
     },
     "execution_count": 4,
     "metadata": {},
     "output_type": "execute_result"
    }
   ],
   "source": [
    "df.drop(\"Unnamed: 0\", axis = 1, inplace =True)\n",
    "df.head()"
   ]
  },
  {
   "cell_type": "code",
   "execution_count": 5,
   "metadata": {
    "collapsed": true
   },
   "outputs": [],
   "source": [
    "df['address'] = \"BLK \" + df[\"block\"].astype(str) + \" \" + df[\"street_name\"]"
   ]
  },
  {
   "cell_type": "code",
   "execution_count": 6,
   "metadata": {},
   "outputs": [
    {
     "data": {
      "text/plain": [
       "Index(['block', 'flat_model', 'flat_type', 'floor_area_sqm',\n",
       "       'lease_commence_date', 'month', 'remaining_lease', 'resale_price',\n",
       "       'storey_range', 'street_name', 'town', 'year', 'address'],\n",
       "      dtype='object')"
      ]
     },
     "execution_count": 6,
     "metadata": {},
     "output_type": "execute_result"
    }
   ],
   "source": [
    "df.columns"
   ]
  },
  {
   "cell_type": "code",
   "execution_count": 7,
   "metadata": {
    "collapsed": true
   },
   "outputs": [],
   "source": [
    "df.drop(['block', 'flat_model', 'flat_type', 'floor_area_sqm',\n",
    "       'lease_commence_date', 'month', 'remaining_lease',\n",
    "       'storey_range', 'street_name', 'year'], axis = 1, inplace=True)"
   ]
  },
  {
   "cell_type": "code",
   "execution_count": 8,
   "metadata": {},
   "outputs": [
    {
     "data": {
      "text/html": [
       "<div>\n",
       "<style>\n",
       "    .dataframe thead tr:only-child th {\n",
       "        text-align: right;\n",
       "    }\n",
       "\n",
       "    .dataframe thead th {\n",
       "        text-align: left;\n",
       "    }\n",
       "\n",
       "    .dataframe tbody tr th {\n",
       "        vertical-align: top;\n",
       "    }\n",
       "</style>\n",
       "<table border=\"1\" class=\"dataframe\">\n",
       "  <thead>\n",
       "    <tr style=\"text-align: right;\">\n",
       "      <th></th>\n",
       "      <th>resale_price</th>\n",
       "      <th>town</th>\n",
       "      <th>address</th>\n",
       "    </tr>\n",
       "  </thead>\n",
       "  <tbody>\n",
       "    <tr>\n",
       "      <th>0</th>\n",
       "      <td>255000.0</td>\n",
       "      <td>ANG MO KIO</td>\n",
       "      <td>BLK 174 ANG MO KIO AVE 4</td>\n",
       "    </tr>\n",
       "    <tr>\n",
       "      <th>1</th>\n",
       "      <td>275000.0</td>\n",
       "      <td>ANG MO KIO</td>\n",
       "      <td>BLK 541 ANG MO KIO AVE 10</td>\n",
       "    </tr>\n",
       "    <tr>\n",
       "      <th>2</th>\n",
       "      <td>285000.0</td>\n",
       "      <td>ANG MO KIO</td>\n",
       "      <td>BLK 163 ANG MO KIO AVE 4</td>\n",
       "    </tr>\n",
       "    <tr>\n",
       "      <th>3</th>\n",
       "      <td>290000.0</td>\n",
       "      <td>ANG MO KIO</td>\n",
       "      <td>BLK 446 ANG MO KIO AVE 10</td>\n",
       "    </tr>\n",
       "    <tr>\n",
       "      <th>4</th>\n",
       "      <td>290000.0</td>\n",
       "      <td>ANG MO KIO</td>\n",
       "      <td>BLK 557 ANG MO KIO AVE 10</td>\n",
       "    </tr>\n",
       "  </tbody>\n",
       "</table>\n",
       "</div>"
      ],
      "text/plain": [
       "   resale_price        town                    address\n",
       "0      255000.0  ANG MO KIO   BLK 174 ANG MO KIO AVE 4\n",
       "1      275000.0  ANG MO KIO  BLK 541 ANG MO KIO AVE 10\n",
       "2      285000.0  ANG MO KIO   BLK 163 ANG MO KIO AVE 4\n",
       "3      290000.0  ANG MO KIO  BLK 446 ANG MO KIO AVE 10\n",
       "4      290000.0  ANG MO KIO  BLK 557 ANG MO KIO AVE 10"
      ]
     },
     "execution_count": 8,
     "metadata": {},
     "output_type": "execute_result"
    }
   ],
   "source": [
    "df.head()"
   ]
  },
  {
   "cell_type": "code",
   "execution_count": 9,
   "metadata": {},
   "outputs": [
    {
     "name": "stdout",
     "output_type": "stream",
     "text": [
      "0.37328562911025553 km\n"
     ]
    }
   ],
   "source": [
    "import address_to_postal_code as geofuncs"
   ]
  },
  {
   "cell_type": "code",
   "execution_count": 10,
   "metadata": {
    "collapsed": true
   },
   "outputs": [],
   "source": [
    "addresses = df['address'].unique()"
   ]
  },
  {
   "cell_type": "code",
   "execution_count": 11,
   "metadata": {},
   "outputs": [
    {
     "data": {
      "text/plain": [
       "8708"
      ]
     },
     "execution_count": 11,
     "metadata": {},
     "output_type": "execute_result"
    }
   ],
   "source": [
    "len(addresses)"
   ]
  },
  {
   "cell_type": "code",
   "execution_count": 12,
   "metadata": {},
   "outputs": [
    {
     "data": {
      "text/plain": [
       "93488"
      ]
     },
     "execution_count": 12,
     "metadata": {},
     "output_type": "execute_result"
    }
   ],
   "source": [
    "df.shape[0]"
   ]
  },
  {
   "cell_type": "code",
   "execution_count": 17,
   "metadata": {},
   "outputs": [],
   "source": [
    "with open('save.txt', 'a+') as save_file:\n",
    "    detail = geofuncs.get_detail_from_address(address=addresses[0], client=geofuncs.gmaps)\n",
    "    save_file.write(str(addresses[0]) + ',' + str(detail) + '\\n')"
   ]
  },
  {
   "cell_type": "code",
   "execution_count": 18,
   "metadata": {},
   "outputs": [
    {
     "name": "stdout",
     "output_type": "stream",
     "text": [
      "Current progress: 100.0 % 8708 / 8708\n"
     ]
    }
   ],
   "source": [
    "from IPython.display import clear_output\n",
    "lst = []\n",
    "exceptions = []\n",
    "cnt = 0\n",
    "\n",
    "with open('save.txt', 'a+') as save_file:\n",
    "    for address in addresses:\n",
    "        clear_output(wait=True)\n",
    "        try:\n",
    "            detail = geofuncs.get_detail_from_address(address=address, client=geofuncs.gmaps)\n",
    "            lst.append((address, detail))\n",
    "            save_file.write(str(address) + ',' + str(detail) + '\\n')\n",
    "        except:\n",
    "            exceptions.append(address)\n",
    "        cnt = cnt + 1\n",
    "        print(\"Current progress:\",np.round(cnt / len(addresses)*100, 2),\"%\",cnt,\"/\",len(addresses))\n",
    "        \n",
    "d = dict(lst)"
   ]
  },
  {
   "cell_type": "code",
   "execution_count": 19,
   "metadata": {
    "collapsed": true
   },
   "outputs": [],
   "source": [
    "d[\"BLK 83 C'WEALTH CL\"] = 140083\n",
    "d[\"BLK 97 C'WEALTH CRES\"] = 140097\n",
    "d[\"BLK 98 C'WEALTH CRES\"] = 140098\n",
    "d[\"BLK 93 C'WEALTH DR\"] = 140093\n",
    "d[\"BLK 85 C'WEALTH CL\"] = 140085\n",
    "d[\"BLK 110 C'WEALTH CRES\"] = 140110\n",
    "d[\"BLK 88 C'WEALTH CL\"] = 140088\n",
    "d[\"BLK 84 C'WEALTH CL\"] = 140084\n",
    "d[\"BLK 23 HAIG RD\"] = 430023\n",
    "d[\"BLK 81 C'WEALTH CL\"] = 140081\n",
    "d[\"BLK 87 C'WEALTH CL\"] = 140087\n",
    "d[\"BLK 255 YISHUN RING RD\"] = 760255\n",
    "d[\"BLK 702 WEST COAST RD\"] = 120702\n",
    "d[\"BLK 96 C'WEALTH CRES\"] = 140096\n",
    "d[\"BLK 86 C'WEALTH CL\"] = 140086\n",
    "d[\"BLK 82 C'WEALTH CL\"] = 140082\n",
    "d[\"BLK 102 C'WEALTH CRES\"] = 140102\n",
    "d[\"BLK 111 C'WEALTH CRES\"] = 140111\n",
    "d[\"BLK 108 C'WEALTH CRES\"] = 140108\n",
    "d[\"BLK 109 C'WEALTH CRES\"] = 140109\n",
    "d[\"BLK 94 C'WEALTH DR\"] = 140094\n",
    "d[\"BLK 318 WOODLANDS ST 31\"] = 730318\n",
    "d[\"BLK 112 C'WEALTH CRES\"] = 140112\n",
    "d[\"BLK 445 YISHUN AVE 11\"] = 760445\n",
    "d[\"BLK 99 C'WEALTH CRES\"] = 140099\n",
    "d[\"BLK 311A ANCHORVALE LANE\"] = 541311\n",
    "d[\"BLK 434B FERNVALE RD\"] = 792434\n",
    "d[\"BLK 7A C'WEALTH AVE\"] = 141007"
   ]
  },
  {
   "cell_type": "code",
   "execution_count": 47,
   "metadata": {},
   "outputs": [
    {
     "data": {
      "text/plain": [
       "8708"
      ]
     },
     "execution_count": 47,
     "metadata": {},
     "output_type": "execute_result"
    }
   ],
   "source": [
    "len(d)"
   ]
  },
  {
   "cell_type": "code",
   "execution_count": 55,
   "metadata": {},
   "outputs": [
    {
     "data": {
      "text/plain": [
       "('BLK 333 ANG MO KIO AVE 1', 560333)"
      ]
     },
     "execution_count": 55,
     "metadata": {},
     "output_type": "execute_result"
    }
   ],
   "source": [
    "list(d.items())[7]"
   ]
  },
  {
   "cell_type": "code",
   "execution_count": 46,
   "metadata": {},
   "outputs": [
    {
     "name": "stdout",
     "output_type": "stream",
     "text": [
      "{'formatted_address': 'Singapore', 'geometry': {'location': {'lat': 1.3743, 'lng': 103.8376728}, 'viewport': {'northeast': {'lat': 1.375636129892722, 'lng': 103.8390447798927}, 'southwest': {'lat': 1.372936470107278, 'lng': 103.8363451201073}}}, 'icon': 'https://maps.gstatic.com/mapfiles/place_api/icons/generic_business-71.png', 'id': '2da5dbd35e554745c7ba1644fd6dc84f6fb169bc', 'name': 'BLK 163', 'photos': [{'height': 2988, 'html_attributions': ['<a href=\"https://maps.google.com/maps/contrib/108249944013054916657/photos\">Alex Tan</a>'], 'photo_reference': 'CmRaAAAACw3XwXN8vUybRCwidK3Udtp95-YVXjQbesiA--ZLveCwOyV-y6gjkNCIBRu7o034G8Fqn2gXx1fTmZoLpGq-pewk1QAYs3mlq7BkD-Disul4o8e_bh066vGU1oFqtG5bEhDeMAEZkAnbJugBfHVkaywOGhR9SGobBtF7dypJH5MVM0_LMZKJAg', 'width': 5312}], 'place_id': 'ChIJNRrJuMQW2jERLvhf9cKk8wM', 'plus_code': {'compound_code': '9RFQ+P3 Singapore', 'global_code': '6PH59RFQ+P3'}, 'rating': 2.5, 'reference': 'ChIJNRrJuMQW2jERLvhf9cKk8wM', 'types': ['transit_station', 'point_of_interest', 'establishment'], 'user_ratings_total': 2}\n",
      "{'formatted_address': 'Singapore', 'geometry': {'location': {'lat': 1.3616798, 'lng': 103.850928}, 'viewport': {'northeast': {'lat': 1.362989029892722, 'lng': 103.8522443298927}, 'southwest': {'lat': 1.360289370107278, 'lng': 103.8495446701073}}}, 'icon': 'https://maps.gstatic.com/mapfiles/place_api/icons/generic_business-71.png', 'id': '750ab9a67d635e063cbe1b8a466df5353a609307', 'name': 'BLK 331', 'photos': [{'height': 2160, 'html_attributions': ['<a href=\"https://maps.google.com/maps/contrib/101549718883620066305/photos\">A Google User</a>'], 'photo_reference': 'CmRaAAAATO-C-soRILQiSyNgcpTh71QEes4nPv6xTmb9VvZdz01laVG2e0vlnzs1xWH7Znm6Evlcer7G7HydIpBJC2YHGtaJuVnPikCuiuWT1oA4TYWVjjIeTMDUvu59pnz5fxzMEhCF5WqghhB9sVkU4MkVer2WGhS1k5sQg9S0Zjnvzrli8nylEjZxCQ', 'width': 3840}], 'place_id': 'ChIJufCQ1B0X2jERlWpn0SCZdTs', 'plus_code': {'compound_code': '9V62+M9 Singapore', 'global_code': '6PH59V62+M9'}, 'rating': 0, 'reference': 'ChIJufCQ1B0X2jERlWpn0SCZdTs', 'types': ['transit_station', 'point_of_interest', 'establishment'], 'user_ratings_total': 0}\n",
      "{'formatted_address': 'Singapore', 'geometry': {'location': {'lat': 1.3659533, 'lng': 103.8377307}, 'viewport': {'northeast': {'lat': 1.367236479892722, 'lng': 103.8390562798927}, 'southwest': {'lat': 1.364536820107278, 'lng': 103.8363566201073}}}, 'icon': 'https://maps.gstatic.com/mapfiles/place_api/icons/generic_business-71.png', 'id': 'f5bf75e9c476b2b83c4d51313e93460ea4743f95', 'name': 'BLK 223', 'photos': [{'height': 2382, 'html_attributions': ['<a href=\"https://maps.google.com/maps/contrib/115043612064603123230/photos\">winson chng</a>'], 'photo_reference': 'CmRaAAAAMZ3b573XEeTRRs9PMoz7KLwSIU9in0kALWbPaecrR2ZVHIK3pSfbM8bqu7yuRSRe-fA6Y6NYId2R8Cl_PlJoVv_3-B-0I5h4ygy93RhjNuNihAZth4sNKY0evWYWZwH9EhBdgzaHOCJf4VaPENVtdUPMGhQ1iObS-5PA9f0l8Dctxr-TH78aBQ', 'width': 4032}], 'place_id': 'ChIJR5EV3dgW2jERYt-02NXgjDo', 'plus_code': {'compound_code': '9R8Q+93 Singapore', 'global_code': '6PH59R8Q+93'}, 'rating': 4, 'reference': 'ChIJR5EV3dgW2jERYt-02NXgjDo', 'types': ['transit_station', 'point_of_interest', 'establishment'], 'user_ratings_total': 2}\n",
      "{'formatted_address': 'Singapore', 'geometry': {'location': {'lat': 1.3441708, 'lng': 103.7564481}, 'viewport': {'northeast': {'lat': 1.345560029892722, 'lng': 103.7577704798927}, 'southwest': {'lat': 1.342860370107278, 'lng': 103.7550708201073}}}, 'icon': 'https://maps.gstatic.com/mapfiles/place_api/icons/generic_business-71.png', 'id': '606048093a60e543b748a9faec595bc1d4f81788', 'name': 'Blk 291A', 'photos': [{'height': 4032, 'html_attributions': ['<a href=\"https://maps.google.com/maps/contrib/116996573355205360230/photos\">Godwin Ponraj</a>'], 'photo_reference': 'CmRZAAAAWUtl6iycbR308SRvWuAQl8_Zkf3GTSS82e-y2ihxrvRK6ls6kvJlP1FSLJDvTSMTgym0P3UK6y8xLMK1oH8OOBkSq1qFBvouRbwPv-hzOkzWL-HT27p1YOaVJVdLR8_4EhDg56oVpQWR3dp-3huYHBqoGhTYoeHPLpUZA9NoAvAbVNlkb7vIrQ', 'width': 3024}], 'place_id': 'ChIJGd-xSGoQ2jERZMKCVtbS8QI', 'plus_code': {'compound_code': '8QV4+MH Singapore', 'global_code': '6PH58QV4+MH'}, 'rating': 0, 'reference': 'ChIJGd-xSGoQ2jERZMKCVtbS8QI', 'types': ['transit_station', 'point_of_interest', 'establishment'], 'user_ratings_total': 0}\n",
      "{'formatted_address': '515 E Coast Rd, Singapore', 'geometry': {'location': {'lat': 1.3120846, 'lng': 103.925292}, 'viewport': {'northeast': {'lat': 1.313434429892722, 'lng': 103.9266418298927}, 'southwest': {'lat': 1.310734770107278, 'lng': 103.9239421701073}}}, 'icon': 'https://maps.gstatic.com/mapfiles/place_api/icons/geocode-71.png', 'id': '2e0538af81e709bf875385e29a887a61ba09ebff', 'name': '515 E Coast Rd', 'place_id': 'Ehk1MTUgRSBDb2FzdCBSZCwgU2luZ2Fwb3JlIhsSGQoUChIJy-CgWKMi2jERXJSlETDyieMQgwQ', 'reference': 'Ehk1MTUgRSBDb2FzdCBSZCwgU2luZ2Fwb3JlIhsSGQoUChIJy-CgWKMi2jERXJSlETDyieMQgwQ', 'types': ['street_address']}\n",
      "{'formatted_address': '703 E Coast Rd, Singapore', 'geometry': {'location': {'lat': 1.3120846, 'lng': 103.925292}, 'viewport': {'northeast': {'lat': 1.313434429892722, 'lng': 103.9266418298927}, 'southwest': {'lat': 1.310734770107278, 'lng': 103.9239421701073}}}, 'icon': 'https://maps.gstatic.com/mapfiles/place_api/icons/geocode-71.png', 'id': 'd01c003b1ff75dcd331ce577e00c062374460121', 'name': '703 E Coast Rd', 'place_id': 'Ehk3MDMgRSBDb2FzdCBSZCwgU2luZ2Fwb3JlIhsSGQoUChIJy-CgWKMi2jERXJSlETDyieMQvwU', 'reference': 'Ehk3MDMgRSBDb2FzdCBSZCwgU2luZ2Fwb3JlIhsSGQoUChIJy-CgWKMi2jERXJSlETDyieMQvwU', 'types': ['street_address']}\n",
      "{'formatted_address': 'Hougang Ave 5, Singapore', 'geometry': {'location': {'lat': 1.368094, 'lng': 103.895889}, 'viewport': {'northeast': {'lat': 1.369436179892722, 'lng': 103.8972290298927}, 'southwest': {'lat': 1.366736520107278, 'lng': 103.8945293701073}}}, 'icon': 'https://maps.gstatic.com/mapfiles/place_api/icons/generic_business-71.png', 'id': '6600d6382871b9fbf99915d943a6b75e739c8832', 'name': 'Blk 327', 'photos': [{'height': 2327, 'html_attributions': ['<a href=\"https://maps.google.com/maps/contrib/116968639964397496913/photos\">A Google User</a>'], 'photo_reference': 'CmRaAAAAYod48vqBKCzYOrV910sZq9DUuPQ9Es7dN4vbV7My9WVYBqoSAXTyYX9NTakal_f9wpTsBHJ6cq5zhO8K2-n4Grz9zNL2m_GlL2Pdo0o4_pIQrksOghzE0Ke6tUnXtFtpEhCIZL7CxAiNiEOw5ntPabPVGhTHnGvRV1cVcAth4FCHkwClvaSfSw', 'width': 1597}], 'place_id': 'ChIJ-ydXGTQW2jEREecA1pZy0TA', 'plus_code': {'compound_code': '9V9W+69 Singapore', 'global_code': '6PH59V9W+69'}, 'rating': 4.6, 'reference': 'ChIJ-ydXGTQW2jEREecA1pZy0TA', 'types': ['transit_station', 'point_of_interest', 'establishment'], 'user_ratings_total': 5}\n",
      "{'formatted_address': '17 Hougang Ave 3, Singapore', 'geometry': {'location': {'lat': 1.3634853, 'lng': 103.8910588}, 'viewport': {'northeast': {'lat': 1.364897529892722, 'lng': 103.8924146298927}, 'southwest': {'lat': 1.362197870107278, 'lng': 103.8897149701073}}}, 'icon': 'https://maps.gstatic.com/mapfiles/place_api/icons/geocode-71.png', 'id': '5eb44a49a1413f0cc87c0fcd3943b77d58689f93', 'name': '17 Hougang Ave 3', 'place_id': 'ChIJjSXQwMoX2jERvfNhrQ6V5u8', 'plus_code': {'compound_code': '9V7R+9C Singapore', 'global_code': '6PH59V7R+9C'}, 'reference': 'ChIJjSXQwMoX2jERvfNhrQ6V5u8', 'types': ['street_address']}\n",
      "{'formatted_address': '851 Hougang Central, Block 851, Singapore', 'geometry': {'location': {'lat': 1.370122, 'lng': 103.8937132}, 'viewport': {'northeast': {'lat': 1.371452079892722, 'lng': 103.8951221798927}, 'southwest': {'lat': 1.368752420107278, 'lng': 103.8924225201073}}}, 'icon': 'https://maps.gstatic.com/mapfiles/place_api/icons/geocode-71.png', 'id': '99c0de3183c7b2026906309ce678b5fbe55ca716', 'name': 'Block 851', 'place_id': 'ChIJW8CAUDYW2jERszUu3NG1yRo', 'reference': 'ChIJW8CAUDYW2jERszUu3NG1yRo', 'types': ['premise']}\n",
      "{'formatted_address': 'Singapore', 'geometry': {'location': {'lat': 1.319242, 'lng': 103.748459}, 'viewport': {'northeast': {'lat': 1.320603079892722, 'lng': 103.7497858298927}, 'southwest': {'lat': 1.317903420107278, 'lng': 103.7470861701073}}}, 'icon': 'https://maps.gstatic.com/mapfiles/place_api/icons/generic_business-71.png', 'id': 'f4d76faf10d1603d638930616d4c14af82e75980', 'name': 'Blk 407', 'place_id': 'ChIJCf2gEKMa2jERQzSVMDrv7bM', 'plus_code': {'compound_code': '8P9X+M9 Singapore', 'global_code': '6PH58P9X+M9'}, 'rating': 5, 'reference': 'ChIJCf2gEKMa2jERQzSVMDrv7bM', 'types': ['transit_station', 'point_of_interest', 'establishment'], 'user_ratings_total': 1}\n",
      "{'formatted_address': '463 Jurong West Street 41, Singapore', 'geometry': {'location': {'lat': 1.3505819, 'lng': 103.7232408}, 'viewport': {'northeast': {'lat': 1.351868829892722, 'lng': 103.7245837298927}, 'southwest': {'lat': 1.349169170107278, 'lng': 103.7218840701073}}}, 'icon': 'https://maps.gstatic.com/mapfiles/place_api/icons/geocode-71.png', 'id': '5f6615c2ba3aa6e256f4b059bdf3019f297d7233', 'name': '463 Jurong West Street 41', 'place_id': 'ChIJC2_pqt4P2jERbdD1zfhyVFI', 'plus_code': {'compound_code': '9P2F+67 Singapore', 'global_code': '6PH59P2F+67'}, 'reference': 'ChIJC2_pqt4P2jERbdD1zfhyVFI', 'types': ['street_address']}\n",
      "{'formatted_address': '156 Yung Loh Rd, Singapore', 'geometry': {'location': {'lat': 1.3275751, 'lng': 103.7224648}, 'viewport': {'northeast': {'lat': 1.328924929892722, 'lng': 103.7238146298927}, 'southwest': {'lat': 1.326225270107278, 'lng': 103.7211149701073}}}, 'icon': 'https://maps.gstatic.com/mapfiles/place_api/icons/geocode-71.png', 'id': '176679f5a3de7084ddecd423f5eaa757b2151000', 'name': '156 Yung Loh Rd', 'place_id': 'EhoxNTYgWXVuZyBMb2ggUmQsIFNpbmdhcG9yZSIbEhkKFAoSCTUITa_4D9oxEdEzzb-tzJZdEJwB', 'reference': 'EhoxNTYgWXVuZyBMb2ggUmQsIFNpbmdhcG9yZSIbEhkKFAoSCTUITa_4D9oxEdEzzb-tzJZdEJwB', 'types': ['street_address']}\n",
      "{'formatted_address': 'Singapore', 'geometry': {'location': {'lat': 1.34805, 'lng': 103.700874}, 'viewport': {'northeast': {'lat': 1.349355079892722, 'lng': 103.7021937798927}, 'southwest': {'lat': 1.346655420107278, 'lng': 103.6994941201073}}}, 'icon': 'https://maps.gstatic.com/mapfiles/place_api/icons/generic_business-71.png', 'id': '4f287b7d1e4b55a055fc9309eaaba7bbea6d82bb', 'name': 'Blk 755', 'photos': [{'height': 4032, 'html_attributions': ['<a href=\"https://maps.google.com/maps/contrib/118396831301482162535/photos\">Akhil</a>'], 'photo_reference': 'CmRaAAAAK4Xtq45WKBQvY9yj69Bb0H1gtNZGR4O2_bwMm4W-74CbnxC_Q4_Vys-dTMlOuWF9TAlqLXuEM30CW8Aa_X9s-U9GlIp_NzBq6ta8qV_Q2CwI3ZzJ1TzLp9bj3eES-cjQEhAfFOVncEeW_0PLWFrPXe9CGhSKcLzSn64gvRVOLCP9zZCRyr8NTw', 'width': 3024}], 'place_id': 'ChIJYS1YZL4P2jERCWoi3zgWhxk', 'plus_code': {'compound_code': '8PX2+68 Singapore', 'global_code': '6PH58PX2+68'}, 'rating': 5, 'reference': 'ChIJYS1YZL4P2jERCWoi3zgWhxk', 'types': ['transit_station', 'point_of_interest', 'establishment'], 'user_ratings_total': 2}\n",
      "{'formatted_address': '607 Jurong West Street 65, Singapore', 'geometry': {'location': {'lat': 1.338009, 'lng': 103.69969}, 'viewport': {'northeast': {'lat': 1.339286779892722, 'lng': 103.7010471298927}, 'southwest': {'lat': 1.336587120107278, 'lng': 103.6983474701073}}}, 'icon': 'https://maps.gstatic.com/mapfiles/place_api/icons/geocode-71.png', 'id': 'fe0df4c574092c6476590cbbcdb20cb196411452', 'name': '607 Jurong West Street 65', 'place_id': 'ChIJjZgxi5EP2jERVP5KEnEY-xY', 'plus_code': {'compound_code': '8MQX+6V Singapore', 'global_code': '6PH58MQX+6V'}, 'reference': 'ChIJjZgxi5EP2jERVP5KEnEY-xY', 'types': ['street_address']}\n",
      "{'formatted_address': '681 Race Course Rd, Block 681, Singapore', 'geometry': {'location': {'lat': 1.3140759, 'lng': 103.855277}, 'viewport': {'northeast': {'lat': 1.315091079892722, 'lng': 103.8568544298927}, 'southwest': {'lat': 1.312391420107278, 'lng': 103.8541547701073}}}, 'icon': 'https://maps.gstatic.com/mapfiles/place_api/icons/geocode-71.png', 'id': '7631341911106d253dc9b250d68bb0129e9e35ef', 'name': 'Block 681', 'photos': [{'height': 3246, 'html_attributions': ['<a href=\"https://maps.google.com/maps/contrib/101974870093925708792/photos\">A Google User</a>'], 'photo_reference': 'CmRaAAAADBlvlQD1pYDLfoXItOmA7nabRBu08cGjb2HDeJLZZlLsFFDTkQ1PujaEjPVQlgumvT1BM3WZhdndkUH6OqrUNcW3BlPEg6x92wWjWhLACDv2r7K8-eNy_PVsVD1qHGYUEhBuMPXthc_AYSlL5iJcjx2UGhR3TOss1XevLQpi8xSiwJeX1Asj2Q', 'width': 2994}], 'place_id': 'ChIJyxqblsUZ2jERXvLp7HbUZz0', 'reference': 'ChIJyxqblsUZ2jERXvLp7HbUZz0', 'types': ['premise']}\n",
      "{'formatted_address': '5 Changi Village Rd, Singapore', 'geometry': {'location': {'lat': 1.3887838, 'lng': 103.986908}, 'viewport': {'northeast': {'lat': 1.390112779892722, 'lng': 103.9881956798927}, 'southwest': {'lat': 1.387413120107278, 'lng': 103.9854960201073}}}, 'icon': 'https://maps.gstatic.com/mapfiles/place_api/icons/geocode-71.png', 'id': '6158d1e57c633a74f41fc0ea186f90a43f24fe57', 'name': '5 Changi Village Rd', 'place_id': 'ChIJyQJMUxY82jERH23drPZyXJM', 'reference': 'ChIJyQJMUxY82jERH23drPZyXJM', 'types': ['premise']}\n",
      "{'formatted_address': 'Singapore', 'geometry': {'location': {'lat': 1.296245, 'lng': 103.799522}, 'viewport': {'northeast': {'lat': 1.297594829892722, 'lng': 103.8008718298927}, 'southwest': {'lat': 1.294895170107278, 'lng': 103.7981721701073}}}, 'icon': 'https://maps.gstatic.com/mapfiles/place_api/icons/generic_business-71.png', 'id': 'a77d101351cdd945e5c760993b4914a6f610087a', 'name': \"Aft C'wealth Dr\", 'place_id': 'ChIJbTZ9MzYa2jERZ-40jbjlP3Q', 'plus_code': {'compound_code': '7QWX+FR Singapore', 'global_code': '6PH57QWX+FR'}, 'rating': 5, 'reference': 'ChIJbTZ9MzYa2jERZ-40jbjlP3Q', 'types': ['transit_station', 'point_of_interest', 'establishment'], 'user_ratings_total': 1}\n",
      "{'formatted_address': '290B Compassvale Cres, Singapore', 'geometry': {'location': {'lat': 1.3962788, 'lng': 103.8969541}, 'viewport': {'northeast': {'lat': 1.397452279892722, 'lng': 103.8983409298927}, 'southwest': {'lat': 1.394752620107278, 'lng': 103.8956412701073}}}, 'icon': 'https://maps.gstatic.com/mapfiles/place_api/icons/geocode-71.png', 'id': '05ee67b7a58fc83fa9e2795028695373908eb743', 'name': '290B Compassvale Cres', 'place_id': 'ChIJ5YH6AQwW2jERlZ8TmUJwmGo', 'plus_code': {'compound_code': '9VWW+GQ Singapore', 'global_code': '6PH59VWW+GQ'}, 'reference': 'ChIJ5YH6AQwW2jERlZ8TmUJwmGo', 'types': ['street_address']}\n",
      "{'formatted_address': '163 Tampines Street 12, Block 163, Singapore', 'geometry': {'location': {'lat': 1.3494776, 'lng': 103.9472561}, 'viewport': {'northeast': {'lat': 1.350950079892722, 'lng': 103.9485980298927}, 'southwest': {'lat': 1.348250420107278, 'lng': 103.9458983701073}}}, 'icon': 'https://maps.gstatic.com/mapfiles/place_api/icons/geocode-71.png', 'id': '4b735098daa64937145d0c00c9100c4dd21e204c', 'name': 'Block 163', 'place_id': 'ChIJQVS8zRA92jERmm3or7yMPFo', 'reference': 'ChIJQVS8zRA92jERmm3or7yMPFo', 'types': ['premise']}\n",
      "{'formatted_address': 'Singapore', 'geometry': {'location': {'lat': 1.341922, 'lng': 103.951759}, 'viewport': {'northeast': {'lat': 1.343247779892722, 'lng': 103.9530788298927}, 'southwest': {'lat': 1.340548120107278, 'lng': 103.9503791701073}}}, 'icon': 'https://maps.gstatic.com/mapfiles/place_api/icons/generic_business-71.png', 'id': 'e5e5d8bb21881d3431419c6d2e422de348d61b9b', 'name': 'Blk 254', 'place_id': 'ChIJG9eZBiM92jERYUik0ICrrUk', 'plus_code': {'compound_code': '8XR2+QP Singapore', 'global_code': '6PH58XR2+QP'}, 'rating': 4.5, 'reference': 'ChIJG9eZBiM92jERYUik0ICrrUk', 'types': ['transit_station', 'point_of_interest', 'establishment'], 'user_ratings_total': 2}\n",
      "{'formatted_address': 'Singapore', 'geometry': {'location': {'lat': 1.346464, 'lng': 103.955856}, 'viewport': {'northeast': {'lat': 1.347838929892722, 'lng': 103.9572078298927}, 'southwest': {'lat': 1.345139270107278, 'lng': 103.9545081701073}}}, 'icon': 'https://maps.gstatic.com/mapfiles/place_api/icons/generic_business-71.png', 'id': 'f75da317341cab20f43d63cb5c47e71cd2389f83', 'name': 'Blk 148', 'photos': [{'height': 4032, 'html_attributions': ['<a href=\"https://maps.google.com/maps/contrib/102541318227726465065/photos\">Elliot Munro</a>'], 'photo_reference': 'CmRaAAAA-PR4Ds0OtmYfWyBlP2NPtvZkgvmOTLlav0soxMibPptt6qXu6V8i2JlxP49tqpHRvuW45mcSwp0fe2VnjDNKFx9QMyxPwaVZCoGeZyk0_KVjc6NDe84PeX71SZnjXV5mEhBMnCy2ubf4zzQ9H9oxUSZxGhRyA_4UpRA7EWZ8pi0y3-h0PpMzsA', 'width': 3024}], 'place_id': 'ChIJ6_Q5JR892jERB_gl0UsWrpY', 'plus_code': {'compound_code': '8XW4+H8 Singapore', 'global_code': '6PH58XW4+H8'}, 'rating': 5, 'reference': 'ChIJ6_Q5JR892jERB_gl0UsWrpY', 'types': ['transit_station', 'point_of_interest', 'establishment'], 'user_ratings_total': 3}\n",
      "{'formatted_address': '195 Kim Keat Ave, Singapore', 'geometry': {'location': {'lat': 1.3305218, 'lng': 103.8588934}, 'viewport': {'northeast': {'lat': 1.331872379892722, 'lng': 103.8601695798927}, 'southwest': {'lat': 1.329172720107278, 'lng': 103.8574699201073}}}, 'icon': 'https://maps.gstatic.com/mapfiles/place_api/icons/geocode-71.png', 'id': '7e053e476c941f1afcabc19fe6048f4d09f024ed', 'name': '195 Kim Keat Ave', 'place_id': 'ChIJOfwNj3wX2jER0YsMqxfTsTo', 'reference': 'ChIJOfwNj3wX2jER0YsMqxfTsTo', 'types': ['premise']}\n",
      "{'formatted_address': '79 Toa Payoh Central, Singapore', 'geometry': {'location': {'lat': 1.3349582, 'lng': 103.8492865}, 'viewport': {'northeast': {'lat': 1.336294929892722, 'lng': 103.8506255798927}, 'southwest': {'lat': 1.333595270107278, 'lng': 103.8479259201073}}}, 'icon': 'https://maps.gstatic.com/mapfiles/place_api/icons/generic_business-71.png', 'id': 'e206737767f392e3eeb7a9233fc5447c342ef3ff', 'name': 'Blk 79E Playground', 'opening_hours': {'open_now': True}, 'photos': [{'height': 3024, 'html_attributions': ['<a href=\"https://maps.google.com/maps/contrib/108186185642898261390/photos\">CyZn Chantel</a>'], 'photo_reference': 'CmRaAAAAC0nSOYOOvGeX-rPPEwFXzg5Vjf40WenngPyrFxOnuTT39oL7CVVjMlG8QeJ7Wqx5u4ToTMG3l3_YDZVY617cazdNlOVUhpve0Xgqs1HeRZSlcl15Job1ubdVPk__EiiEEhBJnXnqG_hD9eHW6hkpyc9DGhSvkBVxE9ppzQ_NhsZofF48Q45vYQ', 'width': 3024}], 'place_id': 'ChIJlwHFFWYX2jER7FRyBJeQN_k', 'plus_code': {'compound_code': '8RMX+XP Singapore', 'global_code': '6PH58RMX+XP'}, 'rating': 4.2, 'reference': 'ChIJlwHFFWYX2jER7FRyBJeQN_k', 'types': ['point_of_interest', 'establishment'], 'user_ratings_total': 13}\n",
      "{'formatted_address': '771 Yishun Ave 3, Singapore', 'geometry': {'location': {'lat': 1.4241459, 'lng': 103.8327743}, 'viewport': {'northeast': {'lat': 1.425499729892722, 'lng': 103.8341242298927}, 'southwest': {'lat': 1.422800070107278, 'lng': 103.8314245701073}}}, 'icon': 'https://maps.gstatic.com/mapfiles/place_api/icons/geocode-71.png', 'id': '0ded0fc76232b3cb0cb6d4f1bb9faa515fafd537', 'name': '771 Yishun Ave 3', 'place_id': 'ChIJF04-DHIU2jERm2J-ZxvGG2I', 'plus_code': {'compound_code': 'CRFM+M4 Singapore', 'global_code': '6PH5CRFM+M4'}, 'reference': 'ChIJF04-DHIU2jERm2J-ZxvGG2I', 'types': ['street_address']}\n",
      "{'formatted_address': 'Singapore', 'geometry': {'location': {'lat': 1.423356, 'lng': 103.846962}, 'viewport': {'northeast': {'lat': 1.424684229892722, 'lng': 103.8483122798927}, 'southwest': {'lat': 1.421984570107278, 'lng': 103.8456126201073}}}, 'icon': 'https://maps.gstatic.com/mapfiles/place_api/icons/generic_business-71.png', 'id': '39fae92e291aab2e282d17e3718534d5170b4430', 'name': 'Opp Blk 419', 'place_id': 'ChIJbeHWukEU2jERvS97yt5nCYI', 'plus_code': {'compound_code': 'CRFW+8Q Singapore', 'global_code': '6PH5CRFW+8Q'}, 'rating': 5, 'reference': 'ChIJbeHWukEU2jERvS97yt5nCYI', 'types': ['transit_station', 'point_of_interest', 'establishment'], 'user_ratings_total': 1}\n",
      "{'formatted_address': 'Singapore', 'geometry': {'location': {'lat': 1.3699633, 'lng': 103.8535666}, 'viewport': {'northeast': {'lat': 1.371288279892722, 'lng': 103.8549174298927}, 'southwest': {'lat': 1.368588620107278, 'lng': 103.8522177701073}}}, 'icon': 'https://maps.gstatic.com/mapfiles/place_api/icons/generic_business-71.png', 'id': '88cd51750c85a25512061dd49c7ee3268bd05243', 'name': 'Blk 586', 'photos': [{'height': 2160, 'html_attributions': ['<a href=\"https://maps.google.com/maps/contrib/101549718883620066305/photos\">A Google User</a>'], 'photo_reference': 'CmRaAAAA4TiGTPoqlXTTfTQbyUg4d2KqhpEOpYQ6CdRvhImZqY3VLr5kOWiX3jaKqokkz_1zJgGlAYyfNvCuWA2YiFMB7LkBOoPRq7VWoFGucGdRCDvKeagN8QeDPJood9PwfXewEhAhGdSPSJTirWdm4YkxlyQwGhRz4JBsvgImCa91Ho4hwlQsoQbkoQ', 'width': 3840}], 'place_id': 'ChIJaypx9eQW2jERiAeG9RltokE', 'plus_code': {'compound_code': '9V93+XC Singapore', 'global_code': '6PH59V93+XC'}, 'rating': 0, 'reference': 'ChIJaypx9eQW2jERiAeG9RltokE', 'types': ['transit_station', 'point_of_interest', 'establishment'], 'user_ratings_total': 0}\n",
      "{'formatted_address': '211 New Upper Changi Rd, Singapore', 'geometry': {'location': {'lat': 1.3255108, 'lng': 103.931987}, 'viewport': {'northeast': {'lat': 1.326794379892722, 'lng': 103.9333429298927}, 'southwest': {'lat': 1.324094720107278, 'lng': 103.9306432701073}}}, 'icon': 'https://maps.gstatic.com/mapfiles/place_api/icons/geocode-71.png', 'id': 'c5194c3457ae91e68f63b5bc080bec39a9510905', 'name': '211 New Upper Changi Rd', 'place_id': 'ChIJKdNkP7Mi2jERLhoTEVnZKWA', 'plus_code': {'compound_code': '8WGJ+6Q Singapore', 'global_code': '6PH58WGJ+6Q'}, 'reference': 'ChIJKdNkP7Mi2jERLhoTEVnZKWA', 'types': ['street_address']}\n",
      "{'formatted_address': 'Singapore', 'geometry': {'location': {'lat': 1.335208, 'lng': 103.914017}, 'viewport': {'northeast': {'lat': 1.336557829892722, 'lng': 103.9153668298927}, 'southwest': {'lat': 1.333858170107278, 'lng': 103.9126671701073}}}, 'icon': 'https://maps.gstatic.com/mapfiles/place_api/icons/generic_business-71.png', 'id': 'b25e095cebeb3eb6d41c9c9825597af9769dde95', 'name': 'Blk 140', 'photos': [{'height': 1791, 'html_attributions': ['<a href=\"https://maps.google.com/maps/contrib/109551095632375637583/photos\">Soh HS</a>'], 'photo_reference': 'CmRaAAAAgrFdrva2f1xuLh7OrUJ_e_-_zr9G2P_Qo19knTO3mMJvkSj7gIdnFV9z2DOruIguBvocagSKmmgt2ySXwdQ9j2VA4sCjPC1Mhjb_D8miUwpV4cWE_XGzXDrGBexdbspYEhBbJlpjDx8HNZG_lDPdAjj2GhT-9qHy4b2CM5LwW4VXG0dcrE3YGA', 'width': 3110}], 'place_id': 'ChIJybEoUf0X2jERdU7cwuOKLQ0', 'plus_code': {'compound_code': '8WP7+3J Singapore', 'global_code': '6PH58WP7+3J'}, 'rating': 4, 'reference': 'ChIJybEoUf0X2jERdU7cwuOKLQ0', 'types': ['transit_station', 'point_of_interest', 'establishment'], 'user_ratings_total': 5}\n",
      "{'formatted_address': 'Singapore', 'geometry': {'location': {'lat': 1.332192, 'lng': 103.911842}, 'viewport': {'northeast': {'lat': 1.333505029892722, 'lng': 103.9132093298927}, 'southwest': {'lat': 1.330805370107278, 'lng': 103.9105096701073}}}, 'icon': 'https://maps.gstatic.com/mapfiles/place_api/icons/generic_business-71.png', 'id': '30ee9ab49ccde44ab062a6590900fb07ea25070e', 'name': 'Bedok Reservoir Rd', 'photos': [{'height': 2358, 'html_attributions': ['<a href=\"https://maps.google.com/maps/contrib/116297858667564013126/photos\">Kenny Chua</a>'], 'photo_reference': 'CmRaAAAA7UzLZnoN3T5VN9VfZt3TupkWwgObzLwdWXtdgQrQ6ZQbYOypi_z-yz-XtJECrA6MqBax7zI91_WNy6AYtjcQDImKwy-isU_huHpNsoW96xburGd2UYmCQobZsBjSMrmyEhB6kMVmHOftY9C9h8EQqEMnGhQ3anpr66oDvmT-Ys9QCiA12wXtAw', 'width': 4191}], 'place_id': 'ChIJ5zgztP0X2jERb_wMDDTEv3A', 'plus_code': {'compound_code': '8WJ6+VP Singapore', 'global_code': '6PH58WJ6+VP'}, 'rating': 4, 'reference': 'ChIJ5zgztP0X2jERb_wMDDTEv3A', 'types': ['transit_station', 'point_of_interest', 'establishment'], 'user_ratings_total': 2}\n",
      "{'formatted_address': '290 Bishan Street 24, Singapore', 'geometry': {'location': {'lat': 1.3563216, 'lng': 103.8448964}, 'viewport': {'northeast': {'lat': 1.357671429892722, 'lng': 103.8462462298927}, 'southwest': {'lat': 1.354971770107278, 'lng': 103.8435465701073}}}, 'icon': 'https://maps.gstatic.com/mapfiles/place_api/icons/geocode-71.png', 'id': '8218431c313cc59e69e0b37f35f190faac039453', 'name': '290 Bishan Street 24', 'place_id': 'ChIJY84rdhgX2jERcQqHTY1hNm4', 'plus_code': {'compound_code': '9R4V+GX Singapore', 'global_code': '6PH59R4V+GX'}, 'reference': 'ChIJY84rdhgX2jERcQqHTY1hNm4', 'types': ['street_address']}\n",
      "{'formatted_address': '141 Jalan Bukit Merah, Singapore', 'geometry': {'location': {'lat': 1.2771765, 'lng': 103.8289211}, 'viewport': {'northeast': {'lat': 1.278425829892722, 'lng': 103.8302893798927}, 'southwest': {'lat': 1.275726170107278, 'lng': 103.8275897201073}}}, 'icon': 'https://maps.gstatic.com/mapfiles/place_api/icons/geocode-71.png', 'id': '49e274985f93384110b413f13556ac98d91d3c15', 'name': '141 Jalan Bukit Merah', 'place_id': 'ChIJ_YnBXWQZ2jERfIAotxrV0Tc', 'plus_code': {'compound_code': '7RGH+VH Singapore', 'global_code': '6PH57RGH+VH'}, 'reference': 'ChIJ_YnBXWQZ2jERfIAotxrV0Tc', 'types': ['street_address']}\n",
      "{'formatted_address': '527 Jelapang Rd, Singapore', 'geometry': {'location': {'lat': 1.384475, 'lng': 103.765617}, 'viewport': {'northeast': {'lat': 1.385840129892722, 'lng': 103.7669633298927}, 'southwest': {'lat': 1.383140470107278, 'lng': 103.7642636701073}}}, 'icon': 'https://maps.gstatic.com/mapfiles/place_api/icons/geocode-71.png', 'id': '94a8efa22426cb508e8e18d9b7ecb5ea81727ad4', 'name': '527 Jelapang Rd', 'place_id': 'ChIJt21vQpgR2jER2_1f-2K9F7k', 'plus_code': {'compound_code': '9QM8+Q6 Singapore', 'global_code': '6PH59QM8+Q6'}, 'reference': 'ChIJt21vQpgR2jER2_1f-2K9F7k', 'types': ['street_address']}\n",
      "{'formatted_address': 'Singapore', 'geometry': {'location': {'lat': 1.3794851, 'lng': 103.7405688}, 'viewport': {'northeast': {'lat': 1.380865829892722, 'lng': 103.7418976298927}, 'southwest': {'lat': 1.378166170107278, 'lng': 103.7391979701073}}}, 'icon': 'https://maps.gstatic.com/mapfiles/place_api/icons/generic_business-71.png', 'id': '99f93a60dec1629fcf50dad2ff6348c32afae5d8', 'name': 'Blk 289', 'photos': [{'height': 1920, 'html_attributions': ['<a href=\"https://maps.google.com/maps/contrib/113372326724951199749/photos\">Solehin Sabtu</a>'], 'photo_reference': 'CmRaAAAA2hyrEJh15r3rhs7LaG5oPPZM1-QZcC9pYS8-o_oKzIOXtlbO_FoAGjdb79Z4QZIEd73_May2xknZVm7EOvlbLmkOSR9y5OEv_hRRsSY9m34eLSiPGzIlRL33Nu0QQx1jEhDIqWnOmhjE3gNsmoFqi_zsGhTRpGsD_9lvFbh1b4bAp6Arlkpu_w', 'width': 1080}], 'place_id': 'ChIJ60ToTMMR2jERbfvdqvbL_YM', 'plus_code': {'compound_code': '9PHR+Q6 Singapore', 'global_code': '6PH59PHR+Q6'}, 'rating': 5, 'reference': 'ChIJ60ToTMMR2jERbfvdqvbL_YM', 'types': ['transit_station', 'point_of_interest', 'establishment'], 'user_ratings_total': 2}\n",
      "{'formatted_address': '612 Clementi West Street 1, Singapore', 'geometry': {'location': {'lat': 1.303383, 'lng': 103.7683654}, 'viewport': {'northeast': {'lat': 1.304815879892722, 'lng': 103.7696934798927}, 'southwest': {'lat': 1.302116220107278, 'lng': 103.7669938201073}}}, 'icon': 'https://maps.gstatic.com/mapfiles/place_api/icons/geocode-71.png', 'id': '52d20a7da701992255beef870a49ae7398424873', 'name': '612 Clementi West Street 1', 'photos': [{'height': 4608, 'html_attributions': ['<a href=\"https://maps.google.com/maps/contrib/103044318343480755296/photos\">Mahasweta Mullick</a>'], 'photo_reference': 'CmRZAAAAwFPth3vwIw22WGUk46xqfK9d16JRfIBf-woCGDQQsphYFL8SYsKjtyos_THexg06hY55H6cU4R3K6yQms5gwC7jgb35bQ02-suolNM67xdSw8uXaGskqQhknwBykzjN9EhBgIm8xdP6k7xAfNXhgEq7wGhS4wCoBarkL9CY_VpVNnqvlGbJ0nw', 'width': 3456}], 'place_id': 'ChIJhah3Z_Ea2jERtHCykwoiHd4', 'reference': 'ChIJhah3Z_Ea2jERtHCykwoiHd4', 'types': ['premise']}\n",
      "{'formatted_address': 'Hougang Ave 5, Singapore', 'geometry': {'location': {'lat': 1.367127, 'lng': 103.896416}, 'viewport': {'northeast': {'lat': 1.368503729892722, 'lng': 103.8977970298927}, 'southwest': {'lat': 1.365804070107278, 'lng': 103.8950973701073}}}, 'icon': 'https://maps.gstatic.com/mapfiles/place_api/icons/generic_business-71.png', 'id': 'fb0d33b75fe689cf0b463632f2af00a719b53752', 'name': 'Blk 308', 'photos': [{'height': 3394, 'html_attributions': ['<a href=\"https://maps.google.com/maps/contrib/116968639964397496913/photos\">A Google User</a>'], 'photo_reference': 'CmRaAAAAAIudukQQ8z6p1ur0d7MmRsVXBW5sSPxfLH11trhrk2f5_TR-p9DnL7eTrkiVaksVdd0k-LQiZkzOTQUxwMdJ-i6dKOsCaShW6eG6tPRiEIX8F_BQv00HtqIftfvnTw4LEhA3LABXxdFRp5t5QpqzjJJtGhScB2EX2bDE0wMOy1sLHVSuzUtZog', 'width': 2160}], 'place_id': 'ChIJDcb6cjQW2jERpVPHASiNQ_I', 'plus_code': {'compound_code': '9V8W+VH Singapore', 'global_code': '6PH59V8W+VH'}, 'rating': 4, 'reference': 'ChIJDcb6cjQW2jERpVPHASiNQ_I', 'types': ['transit_station', 'point_of_interest', 'establishment'], 'user_ratings_total': 2}\n",
      "{'formatted_address': 'Singapore', 'geometry': {'location': {'lat': 1.379385, 'lng': 103.886406}, 'viewport': {'northeast': {'lat': 1.380786929892722, 'lng': 103.8877341798927}, 'southwest': {'lat': 1.378087270107278, 'lng': 103.8850345201073}}}, 'icon': 'https://maps.gstatic.com/mapfiles/place_api/icons/generic_business-71.png', 'id': '79edbf1966e11dd3ee036847bae2f42e82efe033', 'name': 'Blk 579', 'photos': [{'height': 4000, 'html_attributions': ['<a href=\"https://maps.google.com/maps/contrib/116297858667564013126/photos\">Kenny Chua</a>'], 'photo_reference': 'CmRaAAAAcIciQfwszDeACm-HdLpngNcN0y3yh46VWXnQIWqNgBj30v0UTxsjQWjPtc7pK7GVe5rAbU8qXDoDqoIlmvjeNjpSl8NLCF7zvqf2ALLau0WB2Y7C9LCeUwjCXhTn8JF_EhCGiiBc9MpUb5uBUpTnuCEaGhQ3-6tq-kdmUMsnNvl9uP0Q2P3TOw', 'width': 6000}], 'place_id': 'ChIJoeC_bkEW2jERap9Fvcs43_4', 'plus_code': {'compound_code': '9VHP+QH Singapore', 'global_code': '6PH59VHP+QH'}, 'rating': 4.5, 'reference': 'ChIJoeC_bkEW2jERap9Fvcs43_4', 'types': ['transit_station', 'point_of_interest', 'establishment'], 'user_ratings_total': 2}\n",
      "{'formatted_address': '510 Jurong West Street 52, Singapore', 'geometry': {'location': {'lat': 1.3478717, 'lng': 103.7176742}, 'viewport': {'northeast': {'lat': 1.349220079892722, 'lng': 103.7189992798927}, 'southwest': {'lat': 1.346520420107278, 'lng': 103.7162996201073}}}, 'icon': 'https://maps.gstatic.com/mapfiles/place_api/icons/geocode-71.png', 'id': 'eabca23359d914973693b6865c95cfe427f1d3a1', 'name': '510 Jurong West Street 52', 'place_id': 'ChIJ57F7Lt0P2jERL1QMoXuq7cs', 'plus_code': {'compound_code': '8PX9+43 Singapore', 'global_code': '6PH58PX9+43'}, 'reference': 'ChIJ57F7Lt0P2jERL1QMoXuq7cs', 'types': ['street_address']}\n",
      "{'formatted_address': '76 Limau Garden, Singapore', 'geometry': {'location': {'lat': 1.3233984, 'lng': 103.9500495}, 'viewport': {'northeast': {'lat': 1.324748229892722, 'lng': 103.9513993298927}, 'southwest': {'lat': 1.322048570107278, 'lng': 103.9486996701073}}}, 'icon': 'https://maps.gstatic.com/mapfiles/place_api/icons/geocode-71.png', 'id': '4a31581de389c1c91d5621e6aeb27c29780adf06', 'name': '76 Limau Garden', 'place_id': 'Eho3NiBMaW1hdSBHYXJkZW4sIFNpbmdhcG9yZSIaEhgKFAoSCeW8n2TSItoxES69DUa1OS9eEEw', 'reference': 'Eho3NiBMaW1hdSBHYXJkZW4sIFNpbmdhcG9yZSIaEhgKFAoSCeW8n2TSItoxES69DUa1OS9eEEw', 'types': ['street_address']}\n",
      "{'formatted_address': '134 Edgedale Plains, Singapore', 'geometry': {'location': {'lat': 1.393284, 'lng': 103.911078}, 'viewport': {'northeast': {'lat': 1.394633929892722, 'lng': 103.9124273298927}, 'southwest': {'lat': 1.391934270107278, 'lng': 103.9097276701073}}}, 'icon': 'https://maps.gstatic.com/mapfiles/place_api/icons/geocode-71.png', 'id': '5e30505455929c7ef4224f3075979939ff9d0175', 'name': '134 Edgedale Plains', 'place_id': 'ChIJN_PuGwMW2jERTQBwlTOQ5Lk', 'plus_code': {'compound_code': '9WV6+8C Singapore', 'global_code': '6PH59WV6+8C'}, 'reference': 'ChIJN_PuGwMW2jERTQBwlTOQ5Lk', 'types': ['street_address']}\n",
      "{'formatted_address': '47 Holland Dr, Singapore', 'geometry': {'location': {'lat': 1.3103499, 'lng': 103.7928202}, 'viewport': {'northeast': {'lat': 1.311699729892722, 'lng': 103.7941700298927}, 'southwest': {'lat': 1.309000070107278, 'lng': 103.7914703701073}}}, 'icon': 'https://maps.gstatic.com/mapfiles/place_api/icons/geocode-71.png', 'id': '67197cda156bc2ff25a3f23e6a663db93ccc3d78', 'name': '47 Holland Dr', 'place_id': 'Ehg0NyBIb2xsYW5kIERyLCBTaW5nYXBvcmUiGhIYChQKEgnFswkpahraMRFcZnq48mCzWBAv', 'reference': 'Ehg0NyBIb2xsYW5kIERyLCBTaW5nYXBvcmUiGhIYChQKEgnFswkpahraMRFcZnq48mCzWBAv', 'types': ['street_address']}\n",
      "{'formatted_address': '52 Strathmore Ave, Block 52, Singapore', 'geometry': {'location': {'lat': 1.2933452, 'lng': 103.808268}, 'viewport': {'northeast': {'lat': 1.294599979892722, 'lng': 103.8096352298927}, 'southwest': {'lat': 1.291900320107278, 'lng': 103.8069355701073}}}, 'icon': 'https://maps.gstatic.com/mapfiles/place_api/icons/geocode-71.png', 'id': '091dea40f057b4ecab7363b7c4461b9e7c680b74', 'name': 'Block 52', 'place_id': 'ChIJQZVeOzIa2jERUhHP8xQxyEM', 'reference': 'ChIJQZVeOzIa2jERUhHP8xQxyEM', 'types': ['premise']}\n",
      "{'formatted_address': 'Singapore', 'geometry': {'location': {'lat': 1.348202, 'lng': 103.941895}, 'viewport': {'northeast': {'lat': 1.349603779892722, 'lng': 103.9432477298927}, 'southwest': {'lat': 1.346904120107278, 'lng': 103.9405480701073}}}, 'icon': 'https://maps.gstatic.com/mapfiles/place_api/icons/bus-71.png', 'id': '53f1c9da1d6a6b6adf9ec261cd7a4103af4185d8', 'name': 'Blk 938', 'photos': [{'height': 3840, 'html_attributions': ['<a href=\"https://maps.google.com/maps/contrib/116968639964397496913/photos\">A Google User</a>'], 'photo_reference': 'CmRaAAAAwJfEnx9munYYldaljOjTROz83ZLzTUYp9ymBkIpgP7g-3XqoQ7SzpruaJZezL_S9KXr5NO16Id1AkvicnFq4BehuTl_0qeTh-n_fzvjSoLFlwV_ZEAgGBeBcOplCs6GYEhCq2PszXZI4dia6boVH2GdyGhQmmcbxNOXoj_Jwy3ULYeAb-j3ODQ', 'width': 2160}], 'place_id': 'ChIJK1MDQBQ92jERC4dEiIBgJSw', 'plus_code': {'compound_code': '8WXR+7Q Singapore', 'global_code': '6PH58WXR+7Q'}, 'rating': 4.5, 'reference': 'ChIJK1MDQBQ92jERC4dEiIBgJSw', 'types': ['bus_station', 'transit_station', 'point_of_interest', 'establishment'], 'user_ratings_total': 2}\n",
      "{'formatted_address': 'Blk, 688A Woodlands Drive 75, Singapore', 'geometry': {'location': {'lat': 1.4422777, 'lng': 103.8072861}, 'viewport': {'northeast': {'lat': 1.443607079892722, 'lng': 103.8086119798927}, 'southwest': {'lat': 1.440907420107278, 'lng': 103.8059123201073}}}, 'icon': 'https://maps.gstatic.com/mapfiles/place_api/icons/lodging-71.png', 'id': '1f7bd3cbaa0d21a3d27de25d816e527cab17f139', 'name': 'Blk 688A', 'place_id': 'ChIJ8_jxAc0T2jERRUIySaL42sw', 'plus_code': {'compound_code': 'CRR4+WW Singapore', 'global_code': '6PH5CRR4+WW'}, 'rating': 0, 'reference': 'ChIJ8_jxAc0T2jERRUIySaL42sw', 'types': ['lodging', 'point_of_interest', 'establishment'], 'user_ratings_total': 0}\n",
      "{'formatted_address': '796 Woodlands Drive 72, Block 796, Singapore', 'geometry': {'location': {'lat': 1.4431443, 'lng': 103.8031063}, 'viewport': {'northeast': {'lat': 1.444605579892722, 'lng': 103.8045295798927}, 'southwest': {'lat': 1.441905920107278, 'lng': 103.8018299201073}}}, 'icon': 'https://maps.gstatic.com/mapfiles/place_api/icons/geocode-71.png', 'id': '11e31aa6ffae87ae29e979e568fdfc71322a4d3b', 'name': 'Block 796', 'place_id': 'ChIJlc8mFHQT2jERFlnh1gy2D78', 'reference': 'ChIJlc8mFHQT2jERFlnh1gy2D78', 'types': ['premise']}\n",
      "{'formatted_address': 'Singapore', 'geometry': {'location': {'lat': 1.436096, 'lng': 103.842247}, 'viewport': {'northeast': {'lat': 1.437448079892722, 'lng': 103.8435994798927}, 'southwest': {'lat': 1.434748420107278, 'lng': 103.8408998201073}}}, 'icon': 'https://maps.gstatic.com/mapfiles/place_api/icons/generic_business-71.png', 'id': '50bf88f260bb0265816b00e09b8f0436ba2e4e56', 'name': 'Blk 250', 'photos': [{'height': 3920, 'html_attributions': ['<a href=\"https://maps.google.com/maps/contrib/112618664036006904996/photos\">Thiru selvan</a>'], 'photo_reference': 'CmRZAAAA6LLFLKeYq3OEM4UOgeahtmG5OnpS5lSAct62m7mdLUXEKhQlaPIG5dmZBUsp42dVnXIZOfpkFO-dbqtiMyIAOg4P59nO0QCBXd5jEVwyV5zPoZ2yE2XwgvXibl-DVg6-EhD5Luimudlc8wng75JfA6mRGhQIYlilXb1dR3WjPnVKhzAIta1d4Q', 'width': 2204}], 'place_id': 'ChIJUaBm42AU2jERYV54o_J8ekk', 'plus_code': {'compound_code': 'CRPR+CV Singapore', 'global_code': '6PH5CRPR+CV'}, 'rating': 2.5, 'reference': 'ChIJUaBm42AU2jERYV54o_J8ekk', 'types': ['transit_station', 'point_of_interest', 'establishment'], 'user_ratings_total': 2}\n",
      "{'formatted_address': 'Singapore', 'geometry': {'location': {'lat': 1.3648947, 'lng': 103.8405742}, 'viewport': {'northeast': {'lat': 1.366244529892722, 'lng': 103.8419240298927}, 'southwest': {'lat': 1.363544870107278, 'lng': 103.8392243701073}}}, 'icon': 'https://maps.gstatic.com/mapfiles/place_api/icons/generic_business-71.png', 'id': 'bc7b88e4a2800e610c61b2f5dbdfa8d410d40966', 'name': 'BLK 220', 'photos': [{'height': 2694, 'html_attributions': ['<a href=\"https://maps.google.com/maps/contrib/115043612064603123230/photos\">winson chng</a>'], 'photo_reference': 'CmRaAAAAvW5MK6h2oI1zPbwU5FCcaCX1VJwcT5M4BMoIJv6zEMOHr1pKU7uSMTSF5lY1ajNYlytmXByL-eneCazg_kN5AVcgYq3mNeqouuvwrJGAO2GgNqb5xZ0I0q6NDp70072HEhCAmQ-7nkRjike7ZMYyLrZNGhSQ9sMRutI_4frckvXM2bW-yXxphQ', 'width': 4031}], 'place_id': 'ChIJcWiiad8W2jER4x-fg-t8TIo', 'plus_code': {'compound_code': '9R7R+X6 Singapore', 'global_code': '6PH59R7R+X6'}, 'rating': 0, 'reference': 'ChIJcWiiad8W2jER4x-fg-t8TIo', 'types': ['transit_station', 'point_of_interest', 'establishment'], 'user_ratings_total': 0}\n",
      "{'formatted_address': 'Singapore', 'geometry': {'location': {'lat': 1.3694903, 'lng': 103.8560128}, 'viewport': {'northeast': {'lat': 1.370798679892722, 'lng': 103.8573500798927}, 'southwest': {'lat': 1.368099020107278, 'lng': 103.8546504201073}}}, 'icon': 'https://maps.gstatic.com/mapfiles/place_api/icons/generic_business-71.png', 'id': 'ea957402abc4b76c716948a01661eff976a78ea3', 'name': 'Blk 570', 'photos': [{'height': 3840, 'html_attributions': ['<a href=\"https://maps.google.com/maps/contrib/101549718883620066305/photos\">A Google User</a>'], 'photo_reference': 'CmRaAAAAwZWDcCkw-zEP2Od2EtLW5IJpJxTUbyZoWDhQGQDa4ptyblDTgy-fEwgOCPioY80BVrXsEATAsHnHUQ8qDJodc5NEZ_jYebNmDUI2797CBaX7CIUqPdhzcKQWDClxUbjMEhBSJj0fZljgnD7pqZPg5HLyGhS0srKBpv0bLi_2tcYREGbXnQr5bA', 'width': 2160}], 'place_id': 'ChIJh4lmseQW2jERImjCR6p8RCE', 'plus_code': {'compound_code': '9V94+QC Singapore', 'global_code': '6PH59V94+QC'}, 'rating': 0, 'reference': 'ChIJh4lmseQW2jERImjCR6p8RCE', 'types': ['transit_station', 'point_of_interest', 'establishment'], 'user_ratings_total': 0}\n",
      "{'formatted_address': 'Singapore', 'geometry': {'location': {'lat': 1.3697104, 'lng': 103.8419073}, 'viewport': {'northeast': {'lat': 1.370952779892722, 'lng': 103.8432433798927}, 'southwest': {'lat': 1.368253120107278, 'lng': 103.8405437201073}}}, 'icon': 'https://maps.gstatic.com/mapfiles/place_api/icons/bus-71.png', 'id': '517cd0effcd202b4eaaf87db4182818926dbb8e5', 'name': 'Blk 129', 'photos': [{'height': 2160, 'html_attributions': ['<a href=\"https://maps.google.com/maps/contrib/117095680566028592636/photos\">A Google User</a>'], 'photo_reference': 'CmRaAAAAy45h93KmDMF5qCG9vUALZ2WOjdeJw9oglxq8ZrIkChHskOaNpeUxeo8k2IXCWXdq1jU6v3p5XNIvWIX05vnOw8if0PvvptV3eVtEFqXJ-Z2H98yA4OMoF0D4rX8wx42dEhAZfy_ddkDdv679sgBulf0EGhSup95g72NGwMHukUksaGt556uGXg', 'width': 3840}], 'place_id': 'ChIJweZLy90W2jER6_TxoMke6K8', 'plus_code': {'compound_code': '9R9R+VQ Singapore', 'global_code': '6PH59R9R+VQ'}, 'rating': 4, 'reference': 'ChIJweZLy90W2jER6_TxoMke6K8', 'types': ['bus_station', 'transit_station', 'point_of_interest', 'establishment'], 'user_ratings_total': 2}\n",
      "{'formatted_address': '28 Jalan Bukit Merah, Singapore', 'geometry': {'location': {'lat': 1.286411, 'lng': 103.8098657}, 'viewport': {'northeast': {'lat': 1.287677329892722, 'lng': 103.8112018298927}, 'southwest': {'lat': 1.284977670107278, 'lng': 103.8085021701073}}}, 'icon': 'https://maps.gstatic.com/mapfiles/place_api/icons/geocode-71.png', 'id': 'ff081c9d447287bf5695f8d2509a616818dc2470', 'name': '28 Jalan Bukit Merah', 'place_id': 'ChIJQwr_js0b2jERVl5k8d6o-x8', 'plus_code': {'compound_code': '7RP5+HW Singapore', 'global_code': '6PH57RP5+HW'}, 'reference': 'ChIJQwr_js0b2jERVl5k8d6o-x8', 'types': ['street_address']}\n",
      "{'formatted_address': '518 E Coast Rd, Singapore', 'geometry': {'location': {'lat': 1.3119411, 'lng': 103.9247252}, 'viewport': {'northeast': {'lat': 1.313290929892722, 'lng': 103.9260750298927}, 'southwest': {'lat': 1.310591270107278, 'lng': 103.9233753701073}}}, 'icon': 'https://maps.gstatic.com/mapfiles/place_api/icons/geocode-71.png', 'id': '015cbf5c86bb53015a473dbc14b09063c6ef72f2', 'name': '518 E Coast Rd', 'place_id': 'Ehk1MTggRSBDb2FzdCBSZCwgU2luZ2Fwb3JlIhsSGQoUChIJh1O_oaQi2jER4PtRq0Cf-aUQhgQ', 'reference': 'Ehk1MTggRSBDb2FzdCBSZCwgU2luZ2Fwb3JlIhsSGQoUChIJh1O_oaQi2jER4PtRq0Cf-aUQhgQ', 'types': ['street_address']}\n",
      "{'formatted_address': 'Singapore', 'geometry': {'location': {'lat': 1.318511, 'lng': 103.746399}, 'viewport': {'northeast': {'lat': 1.319860829892722, 'lng': 103.7477488298927}, 'southwest': {'lat': 1.317161170107278, 'lng': 103.7450491701073}}}, 'icon': 'https://maps.gstatic.com/mapfiles/place_api/icons/generic_business-71.png', 'id': '7a8acf194f32f407f80730021ad7e4146b7923c3', 'name': 'Blk 411', 'photos': [{'height': 4032, 'html_attributions': ['<a href=\"https://maps.google.com/maps/contrib/112264105250640107375/photos\">debmalya jash</a>'], 'photo_reference': 'CmRaAAAAXYu-vrpsjeyqYkHqQv9Z3mNN5Nqfut5EAvTaQOTqIKBSAwF_rf4Aix0m3ycxCL9_0Xlp8gT3uEkLNSNZl8fLOo26wi9KCt9EOihU4X4tc-hLH1ylBTiigkH0xa_a2L3GEhABlaOW-8wxzZ2BK0NC6si-GhQB5gUDyPka8in6d1zlVK77E2lDkw', 'width': 3024}], 'place_id': 'ChIJDYvzWKMa2jERUbdsrmVaZtQ', 'plus_code': {'compound_code': '8P9W+CH Singapore', 'global_code': '6PH58P9W+CH'}, 'rating': 3, 'reference': 'ChIJDYvzWKMa2jERUbdsrmVaZtQ', 'types': ['transit_station', 'point_of_interest', 'establishment'], 'user_ratings_total': 1}\n",
      "{'formatted_address': '492 Jurong West Street 41, Block 492, Singapore', 'geometry': {'location': {'lat': 1.3501144, 'lng': 103.724983}, 'viewport': {'northeast': {'lat': 1.351548929892722, 'lng': 103.7263642298927}, 'southwest': {'lat': 1.348849270107278, 'lng': 103.7236645701073}}}, 'icon': 'https://maps.gstatic.com/mapfiles/place_api/icons/geocode-71.png', 'id': '1d8c01f52cd0010e3247073f889e70986c5cf27a', 'name': 'Block 492', 'photos': [{'height': 3840, 'html_attributions': ['<a href=\"https://maps.google.com/maps/contrib/108006416088996376660/photos\">A Google User</a>'], 'photo_reference': 'CmRaAAAAo0whDZWX5clzNQeYJUyHPomMVF09tYdBgtjPuHFK7xsHeffXqhrJzCY929vi97ED5zFxyriHVtZ6PirHh098lQpG7Ui6IQ7R-2vq__YdAqaGuSPzGr_1hzHGYmBQhUjXEhDkr6uDpXvPxcXl0BC4x-hbGhRDQWOzw-6qggalG-OG4MYvj7W2Jw', 'width': 2160}], 'place_id': 'ChIJFTMOwd4P2jERDWleyqIwAyw', 'reference': 'ChIJFTMOwd4P2jERDWleyqIwAyw', 'types': ['premise']}\n",
      "{'formatted_address': '338B-338B Kang Ching Rd, Singapore', 'geometry': {'location': {'lat': 1.3382623, 'lng': 103.7219443}, 'viewport': {'northeast': {'lat': 1.339463129892722, 'lng': 103.7233295798927}, 'southwest': {'lat': 1.336763470107278, 'lng': 103.7206299201073}}}, 'icon': 'https://maps.gstatic.com/mapfiles/place_api/icons/geocode-71.png', 'id': '1d2f4aaef840c85c79352e50e985599b06d37683', 'name': '338B-338B Kang Ching Rd', 'place_id': 'ChIJLdMpgeMP2jERWUdIC8ejQAI', 'plus_code': {'compound_code': '8PQC+8Q Singapore', 'global_code': '6PH58PQC+8Q'}, 'reference': 'ChIJLdMpgeMP2jERWUdIC8ejQAI', 'types': ['street_address']}\n",
      "{'formatted_address': '685 Race Course Rd, Singapore', 'geometry': {'location': {'lat': 1.3139721, 'lng': 103.8567281}, 'viewport': {'northeast': {'lat': 1.315185679892722, 'lng': 103.8583637798927}, 'southwest': {'lat': 1.312486020107278, 'lng': 103.8556641201073}}}, 'icon': 'https://maps.gstatic.com/mapfiles/place_api/icons/geocode-71.png', 'id': 'b6c8d0d5bdbfe8d0293d54c2f775d4483856a8b3', 'name': '685 Race Course Rd', 'place_id': 'ChIJuebdZM8Z2jERPB7rYfmjrJI', 'plus_code': {'compound_code': '8V74+HM Singapore', 'global_code': '6PH58V74+HM'}, 'reference': 'ChIJuebdZM8Z2jERPB7rYfmjrJI', 'types': ['street_address']}\n",
      "{'formatted_address': 'Singapore', 'geometry': {'location': {'lat': 1.38355, 'lng': 103.903648}, 'viewport': {'northeast': {'lat': 1.384876879892722, 'lng': 103.9050553298927}, 'southwest': {'lat': 1.382177220107278, 'lng': 103.9023556701073}}}, 'icon': 'https://maps.gstatic.com/mapfiles/place_api/icons/generic_business-71.png', 'id': '125d9cd5ef102a46bb8dffeae7e3d3ba8a691ee0', 'name': 'Blk 117C', 'photos': [{'height': 2120, 'html_attributions': ['<a href=\"https://maps.google.com/maps/contrib/116968639964397496913/photos\">A Google User</a>'], 'photo_reference': 'CmRaAAAAhGqlcMNfb9nclYpU5ZzQ-obxCilH2XoUJS_ZGL-chYwUY67Yqa800rU_TtsL6CHjwqWFFNGeUXdSLim7tdHKK1OBGEoLYyqSlAmqhGOFB4yKNkySOdSxYpG6FVr_vdmYEhC16GHthJocw92TXaLbLaZfGhRpEUwLHn5d9_L57crQ74b5XpDL1g', 'width': 1843}], 'place_id': 'ChIJM-YxFhgW2jERXsypooz_kRw', 'plus_code': {'compound_code': '9WM3+CF Singapore', 'global_code': '6PH59WM3+CF'}, 'rating': 0, 'reference': 'ChIJM-YxFhgW2jERXsypooz_kRw', 'types': ['transit_station', 'point_of_interest', 'establishment'], 'user_ratings_total': 0}\n",
      "{'formatted_address': '1 Serangoon North Ave 1, BLK 107, Singapore', 'geometry': {'location': {'lat': 1.3644344, 'lng': 103.8723348}, 'viewport': {'northeast': {'lat': 1.365867529892722, 'lng': 103.8738028298927}, 'southwest': {'lat': 1.363167870107278, 'lng': 103.8711031701073}}}, 'icon': 'https://maps.gstatic.com/mapfiles/place_api/icons/geocode-71.png', 'id': '2b8238c9b6e75213d144db0b62ac83f50640998c', 'name': 'BLK 107', 'place_id': 'EisxIFNlcmFuZ29vbiBOb3J0aCBBdmUgMSwgQkxLIDEwNywgU2luZ2Fwb3JlIiMaIQoWChQKEgnjgk8eFxfaMRHA0DTiLKDDURIHQkxLIDEwNw', 'reference': 'EisxIFNlcmFuZ29vbiBOb3J0aCBBdmUgMSwgQkxLIDEwNywgU2luZ2Fwb3JlIiMaIQoWChQKEgnjgk8eFxfaMRHA0DTiLKDDURIHQkxLIDEwNw', 'types': ['subpremise']}\n",
      "{'formatted_address': '361 Tampines Street 34, Singapore', 'geometry': {'location': {'lat': 1.3559017, 'lng': 103.9627326}, 'viewport': {'northeast': {'lat': 1.357241379892722, 'lng': 103.9639714298927}, 'southwest': {'lat': 1.354541720107278, 'lng': 103.9612717701073}}}, 'icon': 'https://maps.gstatic.com/mapfiles/place_api/icons/geocode-71.png', 'id': '76a65a3402a446ebb13a813c05098bbe5e7a7669', 'name': '361 Tampines Street 34', 'place_id': 'ChIJ1fhfdP082jER24LQUp-fjjs', 'plus_code': {'compound_code': '9X47+93 Singapore', 'global_code': '6PH59X47+93'}, 'reference': 'ChIJ1fhfdP082jER24LQUp-fjjs', 'types': ['street_address']}\n",
      "{'formatted_address': 'Tampines Street 71, Singapore', 'geometry': {'location': {'lat': 1.3566489, 'lng': 103.9335994}, 'viewport': {'northeast': {'lat': 1.357901579892722, 'lng': 103.9349024298927}, 'southwest': {'lat': 1.355201920107278, 'lng': 103.9322027701073}}}, 'icon': 'https://maps.gstatic.com/mapfiles/place_api/icons/generic_business-71.png', 'id': 'd2c4233832604ae85e5cbc5b6e3d7445c2fe6736', 'name': 'Blk 730', 'place_id': 'ChIJRTLws1c92jERamtE6TlTXuA', 'plus_code': {'compound_code': '9W4M+MC Singapore', 'global_code': '6PH59W4M+MC'}, 'rating': 0, 'reference': 'ChIJRTLws1c92jERamtE6TlTXuA', 'types': ['point_of_interest', 'establishment'], 'user_ratings_total': 0}\n",
      "{'formatted_address': '144 Yishun Street 11, Singapore', 'geometry': {'location': {'lat': 1.4322393, 'lng': 103.8330826}, 'viewport': {'northeast': {'lat': 1.433589129892722, 'lng': 103.8344324298927}, 'southwest': {'lat': 1.430889470107278, 'lng': 103.8317327701073}}}, 'icon': 'https://maps.gstatic.com/mapfiles/place_api/icons/geocode-71.png', 'id': '8e601ca6677f9d7f6bd9b5d98a4b5ee777237a6e', 'name': '144 Yishun Street 11', 'place_id': 'Eh8xNDQgWWlzaHVuIFN0cmVldCAxMSwgU2luZ2Fwb3JlIhsSGQoUChIJK_JUK2UU2jERRN2pu2HMY1wQkAE', 'reference': 'Eh8xNDQgWWlzaHVuIFN0cmVldCAxMSwgU2luZ2Fwb3JlIhsSGQoUChIJK_JUK2UU2jERRN2pu2HMY1wQkAE', 'types': ['street_address']}\n",
      "{'formatted_address': 'Singapore', 'geometry': {'location': {'lat': 1.41781, 'lng': 103.83835}, 'viewport': {'northeast': {'lat': 1.419231629892722, 'lng': 103.8396704298927}, 'southwest': {'lat': 1.416531970107278, 'lng': 103.8369707701073}}}, 'icon': 'https://maps.gstatic.com/mapfiles/place_api/icons/generic_business-71.png', 'id': '2f100d0b0eaf49860aa58d2b956d86d46e42160b', 'name': 'Blk 858', 'photos': [{'height': 3840, 'html_attributions': ['<a href=\"https://maps.google.com/maps/contrib/116968639964397496913/photos\">A Google User</a>'], 'photo_reference': 'CmRaAAAA9zIT87-D_efic9I9ResTj2dewOqnpSHMoP0anQH3FnMloHi8aPVH311Fko6tHGQOHJkyPM_Wusm6m41oKv4jqZdCGAEPSptDulxGE8rEAnmrBm4SKyNfGfeRX2oJRS9nEhAd7GVPQlsy-pW4H2LBrk0oGhTSVaZoqJxmhgT95_C-Uh0MeXlD3Q', 'width': 2160}], 'place_id': 'ChIJpUE5gxMU2jER4yHl0aGonA0', 'plus_code': {'compound_code': 'CR9Q+48 Singapore', 'global_code': '6PH5CR9Q+48'}, 'rating': 3.3, 'reference': 'ChIJpUE5gxMU2jER4yHl0aGonA0', 'types': ['transit_station', 'point_of_interest', 'establishment'], 'user_ratings_total': 3}\n",
      "{'formatted_address': '604 Yishun Street 61, Singapore', 'geometry': {'location': {'lat': 1.4223688, 'lng': 103.8357353}, 'viewport': {'northeast': {'lat': 1.423643479892722, 'lng': 103.8373056798927}, 'southwest': {'lat': 1.420943820107278, 'lng': 103.8346060201073}}}, 'icon': 'https://maps.gstatic.com/mapfiles/place_api/icons/geocode-71.png', 'id': '8baa72ff5571d0729871f5d3580aa77d0b52fb3f', 'name': '604 Yishun Street 61', 'place_id': 'ChIJDXgLBG0U2jERUs84ONT4GHQ', 'plus_code': {'compound_code': 'CRCP+W7 Singapore', 'global_code': '6PH5CRCP+W7'}, 'reference': 'ChIJDXgLBG0U2jERUs84ONT4GHQ', 'types': ['street_address']}\n",
      "{'formatted_address': '522 Ang Mo Kio Ave 5, Singapore', 'geometry': {'location': {'lat': 1.3730717, 'lng': 103.852131}, 'viewport': {'northeast': {'lat': 1.374555929892722, 'lng': 103.8534870298927}, 'southwest': {'lat': 1.371856270107278, 'lng': 103.8507873701073}}}, 'icon': 'https://maps.gstatic.com/mapfiles/place_api/icons/geocode-71.png', 'id': '9a4b521e997b0bb2c2ae156b3a6a0c5ad7371864', 'name': '522 Ang Mo Kio Ave 5', 'place_id': 'ChIJn0hfi-UW2jER-IQFiMh81xk', 'plus_code': {'compound_code': '9VF2+6V Singapore', 'global_code': '6PH59VF2+6V'}, 'reference': 'ChIJn0hfi-UW2jER-IQFiMh81xk', 'types': ['street_address']}\n",
      "{'formatted_address': '25 Sin Ming Rd, Singapore', 'geometry': {'location': {'lat': 1.3548142, 'lng': 103.8387831}, 'viewport': {'northeast': {'lat': 1.356127229892722, 'lng': 103.8401241798927}, 'southwest': {'lat': 1.353427570107278, 'lng': 103.8374245201073}}}, 'icon': 'https://maps.gstatic.com/mapfiles/place_api/icons/geocode-71.png', 'id': '7f2ea99914183ee69fdc8ff7cb8ef293f58ef376', 'name': '25 Sin Ming Rd', 'place_id': 'ChIJnTg2qyQX2jERXqp4lTD7zgs', 'plus_code': {'compound_code': '9R3Q+WG Singapore', 'global_code': '6PH59R3Q+WG'}, 'reference': 'ChIJnTg2qyQX2jERXqp4lTD7zgs', 'types': ['street_address']}\n",
      "{'formatted_address': '520 E Coast Rd, Singapore', 'geometry': {'location': {'lat': 1.3119411, 'lng': 103.9247252}, 'viewport': {'northeast': {'lat': 1.313290929892722, 'lng': 103.9260750298927}, 'southwest': {'lat': 1.310591270107278, 'lng': 103.9233753701073}}}, 'icon': 'https://maps.gstatic.com/mapfiles/place_api/icons/geocode-71.png', 'id': '1188c9fbb4c7767c0119be9c09b6e2e5c44d4f3c', 'name': '520 E Coast Rd', 'place_id': 'Ehk1MjAgRSBDb2FzdCBSZCwgU2luZ2Fwb3JlIhsSGQoUChIJh1O_oaQi2jER4PtRq0Cf-aUQiAQ', 'reference': 'Ehk1MjAgRSBDb2FzdCBSZCwgU2luZ2Fwb3JlIhsSGQoUChIJh1O_oaQi2jER4PtRq0Cf-aUQiAQ', 'types': ['street_address']}\n",
      "{'formatted_address': '512 West Coast Rd, Singapore', 'geometry': {'location': {'lat': 1.3086327, 'lng': 103.7609246}, 'viewport': {'northeast': {'lat': 1.309982529892722, 'lng': 103.7622744298927}, 'southwest': {'lat': 1.307282870107278, 'lng': 103.7595747701073}}}, 'icon': 'https://maps.gstatic.com/mapfiles/place_api/icons/geocode-71.png', 'id': 'eb7ce4e59b57306d2c8cb564284315af903b7efe', 'name': '512 West Coast Rd', 'place_id': 'Ehw1MTIgV2VzdCBDb2FzdCBSZCwgU2luZ2Fwb3JlIhsSGQoUChIJVxxo1pIa2jEReGvgSn8Y0mMQgAQ', 'reference': 'Ehw1MTIgV2VzdCBDb2FzdCBSZCwgU2luZ2Fwb3JlIhsSGQoUChIJVxxo1pIa2jEReGvgSn8Y0mMQgAQ', 'types': ['street_address']}\n",
      "{'formatted_address': '701 E Coast Rd, Singapore', 'geometry': {'location': {'lat': 1.3120846, 'lng': 103.925292}, 'viewport': {'northeast': {'lat': 1.313434429892722, 'lng': 103.9266418298927}, 'southwest': {'lat': 1.310734770107278, 'lng': 103.9239421701073}}}, 'icon': 'https://maps.gstatic.com/mapfiles/place_api/icons/geocode-71.png', 'id': 'd87fa1b43cb75475ae2c1fe4b021fd1eb6f26e41', 'name': '701 E Coast Rd', 'place_id': 'Ehk3MDEgRSBDb2FzdCBSZCwgU2luZ2Fwb3JlIhsSGQoUChIJy-CgWKMi2jERXJSlETDyieMQvQU', 'reference': 'Ehk3MDEgRSBDb2FzdCBSZCwgU2luZ2Fwb3JlIhsSGQoUChIJy-CgWKMi2jERXJSlETDyieMQvQU', 'types': ['street_address']}\n",
      "{'formatted_address': '360 Yung An Rd, Singapore', 'geometry': {'location': {'lat': 1.3355759, 'lng': 103.7217119}, 'viewport': {'northeast': {'lat': 1.336925729892722, 'lng': 103.7230617298927}, 'southwest': {'lat': 1.334226070107278, 'lng': 103.7203620701073}}}, 'icon': 'https://maps.gstatic.com/mapfiles/place_api/icons/geocode-71.png', 'id': '5265adafe693691863ba11383429bb9d4984ae5e', 'name': '360 Yung An Rd', 'place_id': 'EhkzNjAgWXVuZyBBbiBSZCwgU2luZ2Fwb3JlIhsSGQoUChIJtcKiQPsP2jER2z6x56UttlMQ6AI', 'reference': 'EhkzNjAgWXVuZyBBbiBSZCwgU2luZ2Fwb3JlIhsSGQoUChIJtcKiQPsP2jER2z6x56UttlMQ6AI', 'types': ['street_address']}\n",
      "{'formatted_address': '361 Yung An Rd, Singapore', 'geometry': {'location': {'lat': 1.3355759, 'lng': 103.7217124}, 'viewport': {'northeast': {'lat': 1.336925729892722, 'lng': 103.7230622298927}, 'southwest': {'lat': 1.334226070107278, 'lng': 103.7203625701073}}}, 'icon': 'https://maps.gstatic.com/mapfiles/place_api/icons/geocode-71.png', 'id': 'c6a30aec562c4c60804328e9b4cd128b06fefab0', 'name': '361 Yung An Rd', 'place_id': 'EhkzNjEgWXVuZyBBbiBSZCwgU2luZ2Fwb3JlIhsSGQoUChIJtcKiQPsP2jER2z6x56UttlMQ6QI', 'reference': 'EhkzNjEgWXVuZyBBbiBSZCwgU2luZ2Fwb3JlIhsSGQoUChIJtcKiQPsP2jER2z6x56UttlMQ6QI', 'types': ['street_address']}\n",
      "{'formatted_address': 'Singapore', 'geometry': {'location': {'lat': 1.34484, 'lng': 103.703079}, 'viewport': {'northeast': {'lat': 1.346198329892722, 'lng': 103.7044392798927}, 'southwest': {'lat': 1.343498670107278, 'lng': 103.7017396201073}}}, 'icon': 'https://maps.gstatic.com/mapfiles/place_api/icons/generic_business-71.png', 'id': '621b9ff80ac1f444a2192b7a69244b3690722dc0', 'name': 'Blk 678D', 'photos': [{'height': 2322, 'html_attributions': ['<a href=\"https://maps.google.com/maps/contrib/106949040414875257788/photos\">Shafiq chowdhury</a>'], 'photo_reference': 'CmRaAAAAr3Xm-GMEa0E9i46IT3JpBo0DLKijUT9FzMKAIkZB78j2ghS8hWDYkdcq3-qrGWM0lpWrbBC3FeJzYSHN3GHOaAhqhjI-DnIdo-WIXf8NI5s2ksB5DOGDKxJn1fM1-6kEEhCIYhW_aWhhFKmI0v9SJ8hTGhR3mF5joaAoGfssdqgjh8PH1dWESw', 'width': 4128}], 'place_id': 'ChIJS9FsC5UP2jERD11LWoF9FSY', 'plus_code': {'compound_code': '8PV3+W6 Singapore', 'global_code': '6PH58PV3+W6'}, 'rating': 5, 'reference': 'ChIJS9FsC5UP2jERD11LWoF9FSY', 'types': ['transit_station', 'point_of_interest', 'establishment'], 'user_ratings_total': 1}\n",
      "{'formatted_address': 'Singapore', 'geometry': {'location': {'lat': 1.3376815, 'lng': 103.7030238}, 'viewport': {'northeast': {'lat': 1.339039579892722, 'lng': 103.7043832298927}, 'southwest': {'lat': 1.336339920107278, 'lng': 103.7016835701073}}}, 'icon': 'https://maps.gstatic.com/mapfiles/place_api/icons/generic_business-71.png', 'id': 'd2fa975b96f24d41c5f1e19448fe86c736cd6f55', 'name': 'Blk 662A', 'place_id': 'ChIJwalHipIP2jERfIc9Rzyb9fE', 'plus_code': {'compound_code': '8PQ3+36 Singapore', 'global_code': '6PH58PQ3+36'}, 'rating': 0, 'reference': 'ChIJwalHipIP2jERfIc9Rzyb9fE', 'types': ['transit_station', 'point_of_interest', 'establishment'], 'user_ratings_total': 0}\n",
      "{'formatted_address': 'Singapore', 'geometry': {'location': {'lat': 1.304255, 'lng': 103.912323}, 'viewport': {'northeast': {'lat': 1.305639679892722, 'lng': 103.9136770798927}, 'southwest': {'lat': 1.302940020107278, 'lng': 103.9109774201073}}}, 'icon': 'https://maps.gstatic.com/mapfiles/place_api/icons/generic_business-71.png', 'id': 'd43c162cf3ef51c61a52f76599c10f4821867284', 'name': 'Blk 34', 'photos': [{'height': 2448, 'html_attributions': ['<a href=\"https://maps.google.com/maps/contrib/116093657258632042808/photos\">Penghao Chen</a>'], 'photo_reference': 'CmRaAAAAhSSF24sczUHmQyXi7bF1SGnsew6gE6Gt1agF9IsjzWkgKWxCejML34nCik92W-mskBw4Sgd55LldLSInQ51XxpGwmzZFRyD4md6ner-HHgtwt9dXPV8YsbyBgtyqxYRyEhDB737m1OPWU00aIYQdcK3dGhQKPf-yXWVfcU-yWlth2BEzlnWJHg', 'width': 3264}], 'place_id': 'ChIJ36s7unUY2jERpdOyhQWf1Tk', 'plus_code': {'compound_code': '8W36+PW Singapore', 'global_code': '6PH58W36+PW'}, 'rating': 4, 'reference': 'ChIJ36s7unUY2jERpdOyhQWf1Tk', 'types': ['transit_station', 'point_of_interest', 'establishment'], 'user_ratings_total': 2}\n",
      "{'formatted_address': '121A Rivervale Dr, Singapore', 'geometry': {'location': {'lat': 1.3866632, 'lng': 103.9053762}, 'viewport': {'northeast': {'lat': 1.388150279892722, 'lng': 103.9066368798927}, 'southwest': {'lat': 1.385450620107278, 'lng': 103.9039372201073}}}, 'icon': 'https://maps.gstatic.com/mapfiles/place_api/icons/geocode-71.png', 'id': '8c5190ef7ec1ebf32ee89ee82a2310732d4f4d74', 'name': '121A Rivervale Dr', 'place_id': 'ChIJm8p5gxkW2jER4ijQJIkGmXc', 'plus_code': {'compound_code': '9WP4+M5 Singapore', 'global_code': '6PH59WP4+M5'}, 'reference': 'ChIJm8p5gxkW2jER4ijQJIkGmXc', 'types': ['street_address']}\n",
      "{'formatted_address': 'Singapore', 'geometry': {'location': {'lat': 1.384615, 'lng': 103.90062}, 'viewport': {'northeast': {'lat': 1.385960479892722, 'lng': 103.9019137798927}, 'southwest': {'lat': 1.383260820107278, 'lng': 103.8992141201073}}}, 'icon': 'https://maps.gstatic.com/mapfiles/place_api/icons/bus-71.png', 'id': '95cf1ed0c973ae0e9852370c5fd043bc6fc67238', 'name': 'Blk 111', 'photos': [{'height': 3840, 'html_attributions': ['<a href=\"https://maps.google.com/maps/contrib/116968639964397496913/photos\">A Google User</a>'], 'photo_reference': 'CmRaAAAACUPLZK4sXEojD6h1as1qaIuU_UCzCFT-8xD7hXT-x0xw2SO-UygKiIQ5jsp0e-D8K6zqr1GqKBPsvR_xJ7plUQoFp_ShkariB4ICS_9zaMchVWlKlDPN-9cgLxGjY2V7EhBIGrDrOcuMfMqv72z9MMk1GhSs7mOReS5qOBlsOaogVgt-SkpiFg', 'width': 2160}], 'place_id': 'ChIJ6c-CqBcW2jER1XhYR7bxdHM', 'plus_code': {'compound_code': '9WM2+R6 Singapore', 'global_code': '6PH59WM2+R6'}, 'rating': 5, 'reference': 'ChIJ6c-CqBcW2jER1XhYR7bxdHM', 'types': ['bus_station', 'transit_station', 'point_of_interest', 'establishment'], 'user_ratings_total': 1}\n",
      "{'formatted_address': '97 Woodlands Drive 60, Singapore', 'geometry': {'location': {'lat': 1.4469166, 'lng': 103.7995822}, 'viewport': {'northeast': {'lat': 1.448266979892722, 'lng': 103.8009318298927}, 'southwest': {'lat': 1.445567320107278, 'lng': 103.7982321701073}}}, 'icon': 'https://maps.gstatic.com/mapfiles/place_api/icons/school-71.png', 'id': '6d1bc6b0a98bc6e97f82503683d5c03606c32cad', 'name': 'PCF Sembawang Blk 786B', 'permanently_closed': True, 'place_id': 'ChIJ6USQ3HIT2jERLMiw1a_N6RU', 'plus_code': {'compound_code': 'CQWX+QR Singapore', 'global_code': '6PH5CQWX+QR'}, 'rating': 5, 'reference': 'ChIJ6USQ3HIT2jERLMiw1a_N6RU', 'types': ['point_of_interest', 'establishment'], 'user_ratings_total': 2}\n",
      "{'formatted_address': 'Singapore', 'geometry': {'location': {'lat': 1.430462, 'lng': 103.794701}, 'viewport': {'northeast': {'lat': 1.431799229892722, 'lng': 103.7960726798927}, 'southwest': {'lat': 1.429099570107278, 'lng': 103.7933730201073}}}, 'icon': 'https://maps.gstatic.com/mapfiles/place_api/icons/generic_business-71.png', 'id': '8a10f4f2917f891938872806735f0f0f258f5ca4', 'name': 'Woodlands Dr 16', 'place_id': 'ChIJnaQyMKMT2jER9NleCwm85_k', 'plus_code': {'compound_code': 'CQJV+5V Singapore', 'global_code': '6PH5CQJV+5V'}, 'rating': 0, 'reference': 'ChIJnaQyMKMT2jER9NleCwm85_k', 'types': ['transit_station', 'point_of_interest', 'establishment'], 'user_ratings_total': 0}\n",
      "{'formatted_address': 'Yishun Ring Rd, Singapore', 'geometry': {'location': {'lat': 1.431463, 'lng': 103.8271757}, 'viewport': {'northeast': {'lat': 1.432812829892722, 'lng': 103.8285255298927}, 'southwest': {'lat': 1.430113170107278, 'lng': 103.8258258701073}}}, 'icon': 'https://maps.gstatic.com/mapfiles/place_api/icons/generic_business-71.png', 'id': '0caaaeb69c6813c165697cc837f135753325298e', 'name': 'Blk 106', 'photos': [{'height': 1080, 'html_attributions': ['<a href=\"https://maps.google.com/maps/contrib/114143095034686229314/photos\">Hong Lim Park</a>'], 'photo_reference': 'CmRaAAAAuCK5uqAhQhCo0QaAfVNcPkW2503Q7pJqqQbH8FZHYAIvUAf4zJQf3q_Qr2DI3cAvtCz3EC-2xgKy6k9vcAKl-8BPxN6HtR_V0Y0SXSPSLPB6Yt3QF5i3PU9dqsu5oQkAEhBQULDRYyudIDgA0P8J91atGhQuC_Y07giSDUOAx_uHTTZIR3_a9w', 'width': 1920}], 'place_id': 'ChIJqTCa7nEU2jERNGkFgcRQ0bU', 'plus_code': {'compound_code': 'CRJG+HV Singapore', 'global_code': '6PH5CRJG+HV'}, 'rating': 3.8, 'reference': 'ChIJqTCa7nEU2jERNGkFgcRQ0bU', 'types': ['point_of_interest', 'establishment'], 'user_ratings_total': 4}\n",
      "{'formatted_address': 'Singapore', 'geometry': {'location': {'lat': 1.41743, 'lng': 103.83503}, 'viewport': {'northeast': {'lat': 1.418814229892722, 'lng': 103.8363972298927}, 'southwest': {'lat': 1.416114570107278, 'lng': 103.8336975701073}}}, 'icon': 'https://maps.gstatic.com/mapfiles/place_api/icons/generic_business-71.png', 'id': '96836aee18e1a8a9b77d3bd8bff3e46b2b5d6789', 'name': 'Blk 846', 'opening_hours': {'open_now': False}, 'photos': [{'height': 2304, 'html_attributions': ['<a href=\"https://maps.google.com/maps/contrib/111691385084715764354/photos\">Karen Ooi</a>'], 'photo_reference': 'CmRaAAAAXedR_pV7pTsXilm4vsk8Khelj5hwEcZBrFyaqvOY9265n9yTAmichjgW1AkDZbQOkKvTCO7QRT4eC6AA6Mop--ZE_xmBQ2S6hokTxBcBDTxHIKBnOnIImo56o_HfA3I0EhAoASM8RHNM0cZv-CPbIW6zGhTWBDcWnK5182poQssSu13KZIZarg', 'width': 4096}], 'place_id': 'ChIJY8-4XBIU2jERMu7_-x97oRg', 'plus_code': {'compound_code': 'CR8P+X2 Singapore', 'global_code': '6PH5CR8P+X2'}, 'rating': 5, 'reference': 'ChIJY8-4XBIU2jERMu7_-x97oRg', 'types': ['transit_station', 'point_of_interest', 'establishment'], 'user_ratings_total': 1}\n",
      "{'formatted_address': '228 Bukit Batok Central, Singapore', 'geometry': {'location': {'lat': 1.348675, 'lng': 103.753633}, 'viewport': {'northeast': {'lat': 1.349968879892722, 'lng': 103.7549585798927}, 'southwest': {'lat': 1.347269220107278, 'lng': 103.7522589201073}}}, 'icon': 'https://maps.gstatic.com/mapfiles/place_api/icons/geocode-71.png', 'id': '80e6b8958459b738fa06b008904b391ad207b84c', 'name': '228 Bukit Batok Central', 'place_id': 'ChIJScCV8kAQ2jERq0ICNVT1E9I', 'plus_code': {'compound_code': '8QX3+FF Singapore', 'global_code': '6PH58QX3+FF'}, 'reference': 'ChIJScCV8kAQ2jERq0ICNVT1E9I', 'types': ['street_address']}\n",
      "{'formatted_address': 'Block 119D, Singapore', 'geometry': {'location': {'lat': 1.2816113, 'lng': 103.827649}, 'viewport': {'northeast': {'lat': 1.283012229892722, 'lng': 103.8290251798927}, 'southwest': {'lat': 1.280312570107278, 'lng': 103.8263255201073}}}, 'icon': 'https://maps.gstatic.com/mapfiles/place_api/icons/geocode-71.png', 'id': '97937f54f7f575fd476bc16b247175fb13afc390', 'name': 'Block 119D', 'place_id': 'ChIJhWwZeXsZ2jER5XrXZb-TEj8', 'reference': 'ChIJhWwZeXsZ2jER5XrXZb-TEj8', 'types': ['premise']}\n",
      "{'formatted_address': '43 Jln Tiga, Block 43, Singapore', 'geometry': {'location': {'lat': 1.3081302, 'lng': 103.8847179}, 'viewport': {'northeast': {'lat': 1.309423929892722, 'lng': 103.8859330298927}, 'southwest': {'lat': 1.306724270107278, 'lng': 103.8832333701073}}}, 'icon': 'https://maps.gstatic.com/mapfiles/place_api/icons/geocode-71.png', 'id': '724bdce7685ee4d920176ab4cee27f79e3ca882e', 'name': 'Block 43', 'place_id': 'ChIJ94CoujgY2jERBwkVEwpZhQo', 'reference': 'ChIJ94CoujgY2jERBwkVEwpZhQo', 'types': ['premise']}\n",
      "{'formatted_address': 'Singapore', 'geometry': {'location': {'lat': 1.366872, 'lng': 103.889236}, 'viewport': {'northeast': {'lat': 1.368221829892722, 'lng': 103.8905858298927}, 'southwest': {'lat': 1.365522170107278, 'lng': 103.8878861701073}}}, 'icon': 'https://maps.gstatic.com/mapfiles/place_api/icons/generic_business-71.png', 'id': 'a6ea7ce928bb513fcff3951903a0d845c1538dec', 'name': 'Blk 708', 'photos': [{'height': 2107, 'html_attributions': ['<a href=\"https://maps.google.com/maps/contrib/116968639964397496913/photos\">A Google User</a>'], 'photo_reference': 'CmRaAAAAWwUQubuhbGLHbMLVG0CnC9aBTpg-s7XNoz8fdShHLR5dwsFW8gYK39lAFcQgEUgzDy5CNrnU-Vxg5MWddtv2X2W8xWj0C2pqOsaxfjWUEvDwDMoiIVfZeV4_UMLkssU2EhCShflvR_liAfyboWWzvlnNGhRotBhoC2pmOuXPKOfwoM4admIvXw', 'width': 2012}], 'place_id': 'ChIJP5dRREoW2jERTxe0Bgm_ea8', 'plus_code': {'compound_code': '9V8Q+PM Singapore', 'global_code': '6PH59V8Q+PM'}, 'rating': 4, 'reference': 'ChIJP5dRREoW2jERTxe0Bgm_ea8', 'types': ['transit_station', 'point_of_interest', 'establishment'], 'user_ratings_total': 4}\n",
      "{'formatted_address': '544 Hougang Ave 8, Singapore', 'geometry': {'location': {'lat': 1.3784567, 'lng': 103.8919154}, 'viewport': {'northeast': {'lat': 1.379632279892722, 'lng': 103.8932445798927}, 'southwest': {'lat': 1.376932620107278, 'lng': 103.8905449201073}}}, 'icon': 'https://maps.gstatic.com/mapfiles/place_api/icons/geocode-71.png', 'id': 'cc1f31af10e8adb77f265880eb65c83f6aa95678', 'name': '544 Hougang Ave 8', 'place_id': 'ChIJv8ZbYUcW2jERXKVS6Oei0Mw', 'plus_code': {'compound_code': '9VHR+9Q Singapore', 'global_code': '6PH59VHR+9Q'}, 'reference': 'ChIJv8ZbYUcW2jERXKVS6Oei0Mw', 'types': ['street_address']}\n",
      "{'formatted_address': '320 Hougang Ave 5, Singapore', 'geometry': {'location': {'lat': 1.3667746, 'lng': 103.8987817}, 'viewport': {'northeast': {'lat': 1.368191779892722, 'lng': 103.9001138798927}, 'southwest': {'lat': 1.365492120107278, 'lng': 103.8974142201073}}}, 'icon': 'https://maps.gstatic.com/mapfiles/place_api/icons/geocode-71.png', 'id': 'fdaf30e6fb9cd5d0d3486d8f1833a1257f2e0968', 'name': '320 Hougang Ave 5', 'place_id': 'ChIJw-WGvDMW2jERU4JOuc0LzH8', 'plus_code': {'compound_code': '9V8X+PG Singapore', 'global_code': '6PH59V8X+PG'}, 'reference': 'ChIJw-WGvDMW2jERU4JOuc0LzH8', 'types': ['street_address']}\n",
      "{'formatted_address': '491 Jurong West Ave 1, Singapore', 'geometry': {'location': {'lat': 1.3496047, 'lng': 103.726248}, 'viewport': {'northeast': {'lat': 1.350870279892722, 'lng': 103.7275980298927}, 'southwest': {'lat': 1.348170620107278, 'lng': 103.7248983701073}}}, 'icon': 'https://maps.gstatic.com/mapfiles/place_api/icons/geocode-71.png', 'id': '1cd8f42d5b633b288e1a7a0aa654b5728d22e841', 'name': '491 Jurong West Ave 1', 'place_id': 'ChIJsQT4It8P2jERh9hAwsxCRFw', 'plus_code': {'compound_code': '8PXG+RF Singapore', 'global_code': '6PH58PXG+RF'}, 'reference': 'ChIJsQT4It8P2jERh9hAwsxCRFw', 'types': ['street_address']}\n",
      "{'formatted_address': '130 Edgedale Plains, Singapore', 'geometry': {'location': {'lat': 1.393372, 'lng': 103.909791}, 'viewport': {'northeast': {'lat': 1.394726079892722, 'lng': 103.9111649798927}, 'southwest': {'lat': 1.392026420107278, 'lng': 103.9084653201073}}}, 'icon': 'https://maps.gstatic.com/mapfiles/place_api/icons/geocode-71.png', 'id': '1bdc3544f1a5adaaab0b1102f8f372beabc67ebe', 'name': '130 Edgedale Plains', 'place_id': 'ChIJ489LbAMW2jERRCGmOupziiQ', 'plus_code': {'compound_code': '9WV5+8W Singapore', 'global_code': '6PH59WV5+8W'}, 'reference': 'ChIJ489LbAMW2jERRCGmOupziiQ', 'types': ['street_address']}\n",
      "{'formatted_address': 'Singapore', 'geometry': {'location': {'lat': 1.361886, 'lng': 103.955048}, 'viewport': {'northeast': {'lat': 1.363217029892722, 'lng': 103.9564176798927}, 'southwest': {'lat': 1.360517370107278, 'lng': 103.9537180201073}}}, 'icon': 'https://maps.gstatic.com/mapfiles/place_api/icons/generic_business-71.png', 'id': '2d2962022c0ca2e766009497834d49a65fff8764', 'name': 'Blk 491C', 'photos': [{'height': 4160, 'html_attributions': ['<a href=\"https://maps.google.com/maps/contrib/101076236713297649495/photos\">Swesh</a>'], 'photo_reference': 'CmRaAAAA2hliEq0NI44a-Lkv0YwoN99tRrYkalH34dZd29cbgyD7_vxGPmS1jnFwa0S9kVIqHPQtZwgKKlbhAUcawdnKnOcVMypRUj0VLjQlq0BW0Tyoq3IR2v9UjtkTVPCE4UaCEhC193EbS7t4B91SmUqFcguyGhTRugi3pLjjDdlVyv2bVSTZ-0V_Jg', 'width': 3120}], 'place_id': 'ChIJF99VywA92jERRxm0N5ClVEM', 'plus_code': {'compound_code': '9X64+Q2 Singapore', 'global_code': '6PH59X64+Q2'}, 'rating': 3.3, 'reference': 'ChIJF99VywA92jERRxm0N5ClVEM', 'types': ['transit_station', 'point_of_interest', 'establishment'], 'user_ratings_total': 3}\n",
      "{'formatted_address': '69 Bedok South Ave 3, Singapore', 'geometry': {'location': {'lat': 1.3193589, 'lng': 103.9435005}, 'viewport': {'northeast': {'lat': 1.320678979892722, 'lng': 103.9446103298927}, 'southwest': {'lat': 1.317979320107278, 'lng': 103.9419106701073}}}, 'icon': 'https://maps.gstatic.com/mapfiles/place_api/icons/geocode-71.png', 'id': '5bb69a8d3ef64012fe57c1bd757e398f59643cea', 'name': '69 Bedok South Ave 3', 'place_id': 'ChIJWTebLMki2jERriYUFbhQcsI', 'plus_code': {'compound_code': '8W9V+PC Singapore', 'global_code': '6PH58W9V+PC'}, 'reference': 'ChIJWTebLMki2jERriYUFbhQcsI', 'types': ['street_address']}\n",
      "{'formatted_address': 'Singapore', 'geometry': {'location': {'lat': 1.331599, 'lng': 103.93531}, 'viewport': {'northeast': {'lat': 1.333000729892722, 'lng': 103.9366474298927}, 'southwest': {'lat': 1.330301070107278, 'lng': 103.9339477701073}}}, 'icon': 'https://maps.gstatic.com/mapfiles/place_api/icons/generic_business-71.png', 'id': '3cace24b4ea6d5d493bbca653c34fb6ac4b61560', 'name': 'Blk 111', 'photos': [{'height': 3024, 'html_attributions': ['<a href=\"https://maps.google.com/maps/contrib/108333055052140661429/photos\">Samuel Edyson</a>'], 'photo_reference': 'CmRaAAAA2EaIEIwjEF_gLsz4P2ypXlo0TitvKxsMYx0MS2pjwI5DtDjQg30LDF2NI3QHWjOOWokdhh_kk0Ey77tpYUYT7ZyuqbpWM6a2ge2sdETPUwWroAX9WdFS-zTGSyxk3ChQEhAP1N-ecfgZ8WFdgkLGZ_KUGhRLoV-kxSMmVc1Br83x3c1aHbsdNA', 'width': 4032}], 'place_id': 'ChIJCS2ImUk92jERcuDrWXR__C8', 'plus_code': {'compound_code': '8WJP+J4 Singapore', 'global_code': '6PH58WJP+J4'}, 'rating': 4, 'reference': 'ChIJCS2ImUk92jERcuDrWXR__C8', 'types': ['transit_station', 'point_of_interest', 'establishment'], 'user_ratings_total': 1}\n",
      "{'formatted_address': 'Bukit Purmei Rd, Singapore', 'geometry': {'location': {'lat': 1.2738033, 'lng': 103.8263975}, 'viewport': {'northeast': {'lat': 1.275152429892722, 'lng': 103.8277788298927}, 'southwest': {'lat': 1.272452770107278, 'lng': 103.8250791701073}}}, 'icon': 'https://maps.gstatic.com/mapfiles/place_api/icons/generic_business-71.png', 'id': '94c5d04886ef7d0da02d1cf6cd02a0380c459a85', 'name': 'Blk 110', 'place_id': 'ChIJf47q8YMZ2jER-x9GJhR9qBU', 'plus_code': {'compound_code': '7RFG+GH Singapore', 'global_code': '6PH57RFG+GH'}, 'rating': 4.3, 'reference': 'ChIJf47q8YMZ2jER-x9GJhR9qBU', 'types': ['point_of_interest', 'establishment'], 'user_ratings_total': 3}\n",
      "{'formatted_address': '328 Clementi Ave 2, Block 328, Singapore', 'geometry': {'location': {'lat': 1.3139144, 'lng': 103.7670701}, 'viewport': {'northeast': {'lat': 1.315261829892722, 'lng': 103.7685202298927}, 'southwest': {'lat': 1.312562170107278, 'lng': 103.7658205701073}}}, 'icon': 'https://maps.gstatic.com/mapfiles/place_api/icons/geocode-71.png', 'id': '400f99a166bb916c45563dd6d5107b55cd1a5390', 'name': 'Block 328', 'photos': [{'height': 2976, 'html_attributions': ['<a href=\"https://maps.google.com/maps/contrib/108051078680040068935/photos\">A Google User</a>'], 'photo_reference': 'CmRaAAAAm3PkNcsBMfomcHt4QakroxqfhkJUvS-L8D5uzN_44zL7VWdJtJjM83TPrZJlLZwktxLTJRr7GKIPwOAkD1TeiR6PSM7wfpWstXSrmupaGJIDOgSNMthWOwN_nR_GECK0EhD2M1gHT4yNZpFZ1r5GIj9PGhT7DcWycFJsz6yhQUSkvPQvQ_R2pA', 'width': 3968}], 'place_id': 'ChIJJ7ZljI4a2jERk7wP8MfXBKI', 'reference': 'ChIJJ7ZljI4a2jERk7wP8MfXBKI', 'types': ['premise']}\n",
      "{'formatted_address': '515 Hougang Ave 10, Singapore', 'geometry': {'location': {'lat': 1.372218, 'lng': 103.8895768}, 'viewport': {'northeast': {'lat': 1.373567829892722, 'lng': 103.8909266298927}, 'southwest': {'lat': 1.370868170107278, 'lng': 103.8882269701073}}}, 'icon': 'https://maps.gstatic.com/mapfiles/place_api/icons/geocode-71.png', 'id': 'c1810dfba93cbe8f85f582bd7029b92640b82d7a', 'name': '515 Hougang Ave 10', 'place_id': 'Eh01MTUgSG91Z2FuZyBBdmUgMTAsIFNpbmdhcG9yZSIbEhkKFAoSCcGZhGlIFtoxESij45qJawENEIME', 'reference': 'Eh01MTUgSG91Z2FuZyBBdmUgMTAsIFNpbmdhcG9yZSIbEhkKFAoSCcGZhGlIFtoxESij45qJawENEIME', 'types': ['street_address']}\n",
      "{'formatted_address': '25 Teban Gardens Rd, Singapore', 'geometry': {'location': {'lat': 1.3220276, 'lng': 103.7413627}, 'viewport': {'northeast': {'lat': 1.323377429892722, 'lng': 103.7427125298927}, 'southwest': {'lat': 1.320677770107278, 'lng': 103.7400128701073}}}, 'icon': 'https://maps.gstatic.com/mapfiles/place_api/icons/geocode-71.png', 'id': 'bd40b464aa49766409be7763f82caf97073f047d', 'name': '25 Teban Gardens Rd', 'place_id': 'Eh4yNSBUZWJhbiBHYXJkZW5zIFJkLCBTaW5nYXBvcmUiGhIYChQKEgmlmDT7pRraMRGkVOTXoIRFLBAZ', 'reference': 'Eh4yNSBUZWJhbiBHYXJkZW5zIFJkLCBTaW5nYXBvcmUiGhIYChQKEgmlmDT7pRraMRGkVOTXoIRFLBAZ', 'types': ['street_address']}\n",
      "{'formatted_address': 'Singapore', 'geometry': {'location': {'lat': 1.31796, 'lng': 103.74897}, 'viewport': {'northeast': {'lat': 1.319262529892722, 'lng': 103.7503087798927}, 'southwest': {'lat': 1.316562870107278, 'lng': 103.7476091201073}}}, 'icon': 'https://maps.gstatic.com/mapfiles/place_api/icons/generic_business-71.png', 'id': 'c24f165023867f68ab83263430b41b0b63b04d85', 'name': 'Blk 408', 'photos': [{'height': 2976, 'html_attributions': ['<a href=\"https://maps.google.com/maps/contrib/116529074363903910906/photos\">Zhiwei He</a>'], 'photo_reference': 'CmRaAAAAqpcE55elXesCmHMOFHKyocIk6aXzpE93M_nwqyINJn2FF0vZmV3A9Hp1g5SU9JtqWpr63dEH5aN6VsgTlQigIB-pUK3cNBbtaR5GVyYmS4Pm89Hb7ElOl37IQUcePxG3EhAUCiiJl_Wq24uWpDIlnLgCGhQjcHanDv7wZ001XXFfYsmpwx_v6A', 'width': 3968}], 'place_id': 'ChIJ21uyK6Ma2jERDBGhvI2OCpU', 'plus_code': {'compound_code': '8P9X+5H Singapore', 'global_code': '6PH58P9X+5H'}, 'rating': 4, 'reference': 'ChIJ21uyK6Ma2jERDBGhvI2OCpU', 'types': ['transit_station', 'point_of_interest', 'establishment'], 'user_ratings_total': 1}\n",
      "{'formatted_address': 'Jurong West Street 91, Singapore', 'geometry': {'location': {'lat': 1.3404726, 'lng': 103.6943767}, 'viewport': {'northeast': {'lat': 1.341836229892722, 'lng': 103.6957458298927}, 'southwest': {'lat': 1.339136570107278, 'lng': 103.6930461701073}}}, 'icon': 'https://maps.gstatic.com/mapfiles/place_api/icons/generic_business-71.png', 'id': 'f2496c92aefdcfb2a8a93a0c98da2a9f353ca6b8', 'name': 'Blk 978', 'place_id': 'ChIJWTbRoJAP2jERi0qG1xsUTCQ', 'plus_code': {'compound_code': '8MRV+5Q Singapore', 'global_code': '6PH58MRV+5Q'}, 'rating': 1, 'reference': 'ChIJWTbRoJAP2jERi0qG1xsUTCQ', 'types': ['transit_station', 'point_of_interest', 'establishment'], 'user_ratings_total': 1}\n",
      "{'formatted_address': '49 Dorset Rd, Singapore', 'geometry': {'location': {'lat': 1.3128773, 'lng': 103.8500142}, 'viewport': {'northeast': {'lat': 1.314145929892722, 'lng': 103.8514668798927}, 'southwest': {'lat': 1.311446270107278, 'lng': 103.8487672201073}}}, 'icon': 'https://maps.gstatic.com/mapfiles/place_api/icons/geocode-71.png', 'id': '54ed47c78317744498c05855985a57680558994a', 'name': '49 Dorset Rd', 'place_id': 'ChIJDR1d-sMZ2jERK4yH5H-l8kk', 'plus_code': {'compound_code': '8V72+52 Singapore', 'global_code': '6PH58V72+52'}, 'reference': 'ChIJDR1d-sMZ2jERK4yH5H-l8kk', 'types': ['street_address']}\n",
      "{'formatted_address': 'Singapore', 'geometry': {'location': {'lat': 1.30438, 'lng': 103.912659}, 'viewport': {'northeast': {'lat': 1.305680629892722, 'lng': 103.9140288298927}, 'southwest': {'lat': 1.302980970107278, 'lng': 103.9113291701073}}}, 'icon': 'https://maps.gstatic.com/mapfiles/place_api/icons/bus-71.png', 'id': '1062bd0793562865fea9bdca87d2ab3cddb7151a', 'name': 'Blk 45', 'place_id': 'ChIJ5z6-vHUY2jER7bgrq5Ni0FY', 'plus_code': {'compound_code': '8W37+Q3 Singapore', 'global_code': '6PH58W37+Q3'}, 'rating': 4.7, 'reference': 'ChIJ5z6-vHUY2jER7bgrq5Ni0FY', 'types': ['bus_station', 'transit_station', 'point_of_interest', 'establishment'], 'user_ratings_total': 3}\n",
      "{'formatted_address': 'Singapore', 'geometry': {'location': {'lat': 1.361878, 'lng': 103.957397}, 'viewport': {'northeast': {'lat': 1.363202329892722, 'lng': 103.9587211298927}, 'southwest': {'lat': 1.360502670107278, 'lng': 103.9560214701073}}}, 'icon': 'https://maps.gstatic.com/mapfiles/place_api/icons/generic_business-71.png', 'id': '91b6b1230cc204bb01ee4bdb7281b6031846acdc', 'name': 'Opp Blk 489A', 'photos': [{'height': 3058, 'html_attributions': ['<a href=\"https://maps.google.com/maps/contrib/116968639964397496913/photos\">A Google User</a>'], 'photo_reference': 'CmRaAAAA_ELzdpEMLlUdRaADsS2NRomVJ8fUzV077P8AE7fMwp1LiJFxILRJujT-Gdsp9-nhfkrVC26z5i8jqSKNbZnvpyLuNToQWTYdlgaq4L1x1STRbOL5Wjh2lu-DlRLWMmAUEhBhSmJKH1Duyf0dTUOrlg2hGhQV7kt8vBiVE5cFNEbL2CCqm7IzgA', 'width': 2160}], 'place_id': 'ChIJJXZ78QA92jERE39DQfddyk4', 'plus_code': {'compound_code': '9X64+QX Singapore', 'global_code': '6PH59X64+QX'}, 'rating': 0, 'reference': 'ChIJJXZ78QA92jERE39DQfddyk4', 'types': ['transit_station', 'point_of_interest', 'establishment'], 'user_ratings_total': 0}\n",
      "{'formatted_address': 'Singapore', 'geometry': {'location': {'lat': 1.4363231, 'lng': 103.7741086}, 'viewport': {'northeast': {'lat': 1.437694029892722, 'lng': 103.7754584298927}, 'southwest': {'lat': 1.434994370107278, 'lng': 103.7727587701073}}}, 'icon': 'https://maps.gstatic.com/mapfiles/place_api/icons/generic_business-71.png', 'id': '09e99f86d20349c43cb2ee482da180891b623584', 'name': 'Blk 146', 'place_id': 'ChIJ1SHtw1QS2jERUvmtpa61mpY', 'plus_code': {'compound_code': 'CQPF+GJ Singapore', 'global_code': '6PH5CQPF+GJ'}, 'rating': 5, 'reference': 'ChIJ1SHtw1QS2jERUvmtpa61mpY', 'types': ['transit_station', 'point_of_interest', 'establishment'], 'user_ratings_total': 1}\n",
      "{'formatted_address': '781 Yishun Ring Rd, Singapore', 'geometry': {'location': {'lat': 1.4221972, 'lng': 103.8326561}, 'viewport': {'northeast': {'lat': 1.423457729892722, 'lng': 103.8340010298927}, 'southwest': {'lat': 1.420758070107278, 'lng': 103.8313013701073}}}, 'icon': 'https://maps.gstatic.com/mapfiles/place_api/icons/geocode-71.png', 'id': 'b6913ed0a3af12866479d0a26854e3dae55e2b93', 'name': '781 Yishun Ring Rd', 'place_id': 'ChIJPRnoRw0U2jERpj2VwfSJlQg', 'plus_code': {'compound_code': 'CRCM+V3 Singapore', 'global_code': '6PH5CRCM+V3'}, 'reference': 'ChIJPRnoRw0U2jERpj2VwfSJlQg', 'types': ['street_address']}\n",
      "{'formatted_address': '472 Ang Mo Kio Ave 10, Singapore', 'geometry': {'location': {'lat': 1.365834, 'lng': 103.857052}, 'viewport': {'northeast': {'lat': 1.367314129892722, 'lng': 103.8580730298927}, 'southwest': {'lat': 1.364614470107278, 'lng': 103.8553733701073}}}, 'icon': 'https://maps.gstatic.com/mapfiles/place_api/icons/school-71.png', 'id': '6543bb7e561034e2a7cdc7705c378c2b6f8d0535', 'name': 'PCF SPARKLETOTS PRESCHOOL @ TECK GHEE Blk 466 (KN)', 'place_id': 'ChIJGfuYL_0W2jERGHto-lytDB0', 'plus_code': {'compound_code': '9V84+8R Singapore', 'global_code': '6PH59V84+8R'}, 'rating': 0, 'reference': 'ChIJGfuYL_0W2jERGHto-lytDB0', 'types': ['school', 'point_of_interest', 'establishment'], 'user_ratings_total': 0}\n",
      "{'formatted_address': 'Singapore', 'geometry': {'location': {'lat': 1.3808519, 'lng': 103.7426089}, 'viewport': {'northeast': {'lat': 1.382240629892722, 'lng': 103.7439323798927}, 'southwest': {'lat': 1.379540970107278, 'lng': 103.7412327201073}}}, 'icon': 'https://maps.gstatic.com/mapfiles/place_api/icons/generic_business-71.png', 'id': 'c01a33481320ab9c722eca101488bf51b2e5d6cc', 'name': 'Blk 280', 'photos': [{'height': 1920, 'html_attributions': ['<a href=\"https://maps.google.com/maps/contrib/113372326724951199749/photos\">Solehin Sabtu</a>'], 'photo_reference': 'CmRaAAAAvYorm37DH0b2szYORew_lQtUMQPDYT6kmgIdlogduXBt5BhFVVOKkto9PePL0KCDJfIUyeCPH-TZTfx6dmQPIY3JO6P-p16BQXvA--YuSdARtLHYxpM8Nx_nL96x51jpEhBlni07DZBZAB9gF-QczejnGhTUSR7Hjb32cca6xDXti4LWADSMEw', 'width': 1080}], 'place_id': 'ChIJq9CSHMMR2jERNBVhFk4v8Ak', 'plus_code': {'compound_code': '9PJV+82 Singapore', 'global_code': '6PH59PJV+82'}, 'rating': 5, 'reference': 'ChIJq9CSHMMR2jERNBVhFk4v8Ak', 'types': ['transit_station', 'point_of_interest', 'establishment'], 'user_ratings_total': 1}\n",
      "{'formatted_address': 'Singapore', 'geometry': {'location': {'lat': 1.370008, 'lng': 103.948746}, 'viewport': {'northeast': {'lat': 1.371356129892722, 'lng': 103.9501017798927}, 'southwest': {'lat': 1.368656470107278, 'lng': 103.9474021201073}}}, 'icon': 'https://maps.gstatic.com/mapfiles/place_api/icons/generic_business-71.png', 'id': 'f549ac595da71787e7d47a81e3cd1dc540afe1e2', 'name': 'Blk 569', 'place_id': 'ChIJbdpKhKU92jERUhMQdyZPV5M', 'plus_code': {'compound_code': '9WCX+2F Singapore', 'global_code': '6PH59WCX+2F'}, 'rating': 0, 'reference': 'ChIJbdpKhKU92jERUhMQdyZPV5M', 'types': ['transit_station', 'point_of_interest', 'establishment'], 'user_ratings_total': 0}\n",
      "{'formatted_address': 'Singapore', 'geometry': {'location': {'lat': 1.371365, 'lng': 103.9622142}, 'viewport': {'northeast': {'lat': 1.372716829892722, 'lng': 103.9635225298927}, 'southwest': {'lat': 1.370017170107278, 'lng': 103.9608228701073}}}, 'icon': 'https://maps.gstatic.com/mapfiles/place_api/icons/generic_business-71.png', 'id': '0130a8a4021175ebd630a25cbe26ebaa7891cb95', 'name': 'Blk 242', 'place_id': 'ChIJ8yfOwVI82jERShwdZtDqeDY', 'plus_code': {'compound_code': '9XC6+GV Singapore', 'global_code': '6PH59XC6+GV'}, 'rating': 0, 'reference': 'ChIJ8yfOwVI82jERShwdZtDqeDY', 'types': ['transit_station', 'point_of_interest', 'establishment'], 'user_ratings_total': 0}\n",
      "{'formatted_address': 'Singapore', 'geometry': {'location': {'lat': 1.384096, 'lng': 103.904335}, 'viewport': {'northeast': {'lat': 1.385445829892722, 'lng': 103.9056848298927}, 'southwest': {'lat': 1.382746170107278, 'lng': 103.9029851701073}}}, 'icon': 'https://maps.gstatic.com/mapfiles/place_api/icons/generic_business-71.png', 'id': '02b704a79344dc2b836646684f1f3978d139864e', 'name': 'Opp Blk 119A', 'photos': [{'height': 2289, 'html_attributions': ['<a href=\"https://maps.google.com/maps/contrib/116968639964397496913/photos\">A Google User</a>'], 'photo_reference': 'CmRaAAAAe-9nJKM7KhTdjeA_sik1lAiuYs2jhXma00iVHHQpYeqnyMyc0WTDzG-_WWMyKOKPyjiTwBLje4UDTPcNXeKdWZbZTSNlE0V8SRdW3ao5n5G7O3fQdU5Q35B3JrShnp8OEhCKOLOlUG60lRXXyD2Ko6rdGhSyj5FNxB47ja2Sl0V1QJ7gDou4zQ', 'width': 1986}], 'place_id': 'ChIJgcH1RxgW2jERr3-SpbD6amw', 'plus_code': {'compound_code': '9WM3+JP Singapore', 'global_code': '6PH59WM3+JP'}, 'rating': 3, 'reference': 'ChIJgcH1RxgW2jERr3-SpbD6amw', 'types': ['transit_station', 'point_of_interest', 'establishment'], 'user_ratings_total': 2}\n",
      "{'formatted_address': '227A Compassvale Dr, Singapore', 'geometry': {'location': {'lat': 1.3871837, 'lng': 103.9007071}, 'viewport': {'northeast': {'lat': 1.388493479892722, 'lng': 103.9020181298927}, 'southwest': {'lat': 1.385793820107278, 'lng': 103.8993184701073}}}, 'icon': 'https://maps.gstatic.com/mapfiles/place_api/icons/geocode-71.png', 'id': 'e5be2d2e9faf9a55980ff0b7a88bf7a45c376a6b', 'name': '227A Compassvale Dr', 'place_id': 'ChIJpxlZKRcW2jEREMi8FBS_Mgg', 'plus_code': {'compound_code': '9WP2+V7 Singapore', 'global_code': '6PH59WP2+V7'}, 'reference': 'ChIJpxlZKRcW2jEREMi8FBS_Mgg', 'types': ['street_address']}\n",
      "{'formatted_address': 'Singapore', 'geometry': {'location': {'lat': 1.353692, 'lng': 103.959587}, 'viewport': {'northeast': {'lat': 1.355092979892722, 'lng': 103.9609378298927}, 'southwest': {'lat': 1.352393320107278, 'lng': 103.9582381701073}}}, 'icon': 'https://maps.gstatic.com/mapfiles/place_api/icons/generic_business-71.png', 'id': '9d52a02542798d74843426b165736882ec153083', 'name': 'Blk 331', 'photos': [{'height': 2593, 'html_attributions': ['<a href=\"https://maps.google.com/maps/contrib/116968639964397496913/photos\">A Google User</a>'], 'photo_reference': 'CmRaAAAAzkLF0pvUvaS22POXc0ozgCFn4sOGqebkigmdNUM4lv32AFNvvJEfdz94YfLDIBNmGcHZPuRbebk2nAZX9yiXwLNYYx2hinuZp8pCV2V4IX9QrXbKaQ82AOCqioYG84kgEhBt_qu9vOza7ShjYSm5gHoRGhTCIeq1oWzPx4kySS3VeB_CB9DFew', 'width': 2160}], 'place_id': 'ChIJlz3YSx092jER89987OChNFc', 'plus_code': {'compound_code': '9X35+FR Singapore', 'global_code': '6PH59X35+FR'}, 'rating': 0, 'reference': 'ChIJlz3YSx092jER89987OChNFc', 'types': ['transit_station', 'point_of_interest', 'establishment'], 'user_ratings_total': 0}\n",
      "{'formatted_address': '121 Potong Pasir Ave 1, Singapore', 'geometry': {'location': {'lat': 1.3357049, 'lng': 103.8658404}, 'viewport': {'northeast': {'lat': 1.337201879892722, 'lng': 103.8672355798927}, 'southwest': {'lat': 1.334502220107278, 'lng': 103.8645359201073}}}, 'icon': 'https://maps.gstatic.com/mapfiles/place_api/icons/geocode-71.png', 'id': '1c7697726282d6fcdad3c47259fbb5fd7652f934', 'name': '121 Potong Pasir Ave 1', 'place_id': 'ChIJR5sgiHcX2jERHrNG4KqmOhk', 'plus_code': {'compound_code': '8VP8+78 Singapore', 'global_code': '6PH58VP8+78'}, 'reference': 'ChIJR5sgiHcX2jERHrNG4KqmOhk', 'types': ['street_address']}\n",
      "{'formatted_address': 'Singapore', 'geometry': {'location': {'lat': 1.332192, 'lng': 103.911842}, 'viewport': {'northeast': {'lat': 1.333505029892722, 'lng': 103.9132093298927}, 'southwest': {'lat': 1.330805370107278, 'lng': 103.9105096701073}}}, 'icon': 'https://maps.gstatic.com/mapfiles/place_api/icons/generic_business-71.png', 'id': '30ee9ab49ccde44ab062a6590900fb07ea25070e', 'name': 'Bedok Reservoir Rd', 'photos': [{'height': 2358, 'html_attributions': ['<a href=\"https://maps.google.com/maps/contrib/116297858667564013126/photos\">Kenny Chua</a>'], 'photo_reference': 'CmRaAAAAkRj-tYGg9nat4eXnuX7fmOFsVvQlQCs7bqqMwQUOj-AVFkXKRp9IOfx1znYhrLMpRl94HsdAQysimyyxTA3nh4UpQxD8-0-YrC5uB9mH9USgTexkq3k27RAlHyyDq_lYEhDxoyYtQI_9vhIRYiONKVkZGhSHdxGqQmg4uiXoF499ace_6HDYbQ', 'width': 4191}], 'place_id': 'ChIJ5zgztP0X2jERb_wMDDTEv3A', 'plus_code': {'compound_code': '8WJ6+VP Singapore', 'global_code': '6PH58WJ6+VP'}, 'rating': 4, 'reference': 'ChIJ5zgztP0X2jERb_wMDDTEv3A', 'types': ['transit_station', 'point_of_interest', 'establishment'], 'user_ratings_total': 2}\n",
      "{'formatted_address': '517 Hougang Ave 10, Singapore', 'geometry': {'location': {'lat': 1.372218, 'lng': 103.8895768}, 'viewport': {'northeast': {'lat': 1.373567829892722, 'lng': 103.8909266298927}, 'southwest': {'lat': 1.370868170107278, 'lng': 103.8882269701073}}}, 'icon': 'https://maps.gstatic.com/mapfiles/place_api/icons/geocode-71.png', 'id': '2336b6496e79792473d8bc26c546a5707821f1af', 'name': '517 Hougang Ave 10', 'place_id': 'Eh01MTcgSG91Z2FuZyBBdmUgMTAsIFNpbmdhcG9yZSIbEhkKFAoSCcGZhGlIFtoxESij45qJawENEIUE', 'reference': 'Eh01MTcgSG91Z2FuZyBBdmUgMTAsIFNpbmdhcG9yZSIbEhkKFAoSCcGZhGlIFtoxESij45qJawENEIUE', 'types': ['street_address']}\n",
      "{'formatted_address': '359 Yung An Rd, Singapore', 'geometry': {'location': {'lat': 1.3355715, 'lng': 103.7212952}, 'viewport': {'northeast': {'lat': 1.336921329892722, 'lng': 103.7226450298927}, 'southwest': {'lat': 1.334221670107278, 'lng': 103.7199453701073}}}, 'icon': 'https://maps.gstatic.com/mapfiles/place_api/icons/geocode-71.png', 'id': '4ff47f782270f73d9e8e35a7279f0bd9aadf318a', 'name': '359 Yung An Rd', 'place_id': 'EhkzNTkgWXVuZyBBbiBSZCwgU2luZ2Fwb3JlIhsSGQoUChIJTRqAPvsP2jERvuoe5FzWs-YQ5wI', 'reference': 'EhkzNTkgWXVuZyBBbiBSZCwgU2luZ2Fwb3JlIhsSGQoUChIJTRqAPvsP2jERvuoe5FzWs-YQ5wI', 'types': ['street_address']}\n",
      "{'formatted_address': 'Singapore', 'geometry': {'location': {'lat': 1.368088, 'lng': 103.95002}, 'viewport': {'northeast': {'lat': 1.369407979892722, 'lng': 103.9513569798927}, 'southwest': {'lat': 1.366708320107278, 'lng': 103.9486573201073}}}, 'icon': 'https://maps.gstatic.com/mapfiles/place_api/icons/generic_business-71.png', 'id': '6ae39d4e777eb1e5ef6781076546da1a2da89786', 'name': 'Blk 564', 'place_id': 'ChIJQVK_sqg92jERjrG1xSeJ2Dc', 'plus_code': {'compound_code': '9X92+62 Singapore', 'global_code': '6PH59X92+62'}, 'rating': 0, 'reference': 'ChIJQVK_sqg92jERjrG1xSeJ2Dc', 'types': ['transit_station', 'point_of_interest', 'establishment'], 'user_ratings_total': 0}\n",
      "{'formatted_address': 'Woodlands Drive 75, Singapore', 'geometry': {'location': {'lat': 1.4425959, 'lng': 103.8078984}, 'viewport': {'northeast': {'lat': 1.444012829892722, 'lng': 103.8093408798927}, 'southwest': {'lat': 1.441313170107278, 'lng': 103.8066412201073}}}, 'icon': 'https://maps.gstatic.com/mapfiles/place_api/icons/generic_business-71.png', 'id': '59361b34d38f6bf5c690ecbafdd7db4588ce90af', 'name': 'Blk 690D HDB', 'place_id': 'ChIJr0aN4XYT2jERbCgEEJkoWCA', 'plus_code': {'compound_code': 'CRV5+25 Singapore', 'global_code': '6PH5CRV5+25'}, 'rating': 5, 'reference': 'ChIJr0aN4XYT2jERbCgEEJkoWCA', 'types': ['point_of_interest', 'establishment'], 'user_ratings_total': 1}\n",
      "{'formatted_address': 'Singapore', 'geometry': {'location': {'lat': 1.434254, 'lng': 103.842041}, 'viewport': {'northeast': {'lat': 1.435597979892722, 'lng': 103.8433960798927}, 'southwest': {'lat': 1.432898320107278, 'lng': 103.8406964201073}}}, 'icon': 'https://maps.gstatic.com/mapfiles/place_api/icons/generic_business-71.png', 'id': 'b57f6c62d98973fb3f1b3f27fb6967d98c491763', 'name': 'Blk 245', 'photos': [{'height': 4032, 'html_attributions': ['<a href=\"https://maps.google.com/maps/contrib/113916112588850431563/photos\">Jun Xian</a>'], 'photo_reference': 'CmRaAAAApdv8AgvRZrGOwU0aV_sZdqaWrWR5i1mYPms21QAARkz7q7ha6tdtUl87p0XfdY4vJO7ZOl5du5f0kHXnYmzXZiPVyutxl5oGcXMR5c90R9st6xRf1c-rk90bm3V4KiTREhBzqhHRa1Iad45m3_3swk1OGhQDRe7LZBINp30WfGTNq7UgGZzXpg', 'width': 3024}], 'place_id': 'ChIJCVWwK2cU2jERZIVTRMtmsYA', 'plus_code': {'compound_code': 'CRMR+PR Singapore', 'global_code': '6PH5CRMR+PR'}, 'rating': 4, 'reference': 'ChIJCVWwK2cU2jERZIVTRMtmsYA', 'types': ['transit_station', 'point_of_interest', 'establishment'], 'user_ratings_total': 1}\n",
      "{'formatted_address': 'Singapore', 'geometry': {'location': {'lat': 1.4318, 'lng': 103.84196}, 'viewport': {'northeast': {'lat': 1.433184129892722, 'lng': 103.8433401298927}, 'southwest': {'lat': 1.430484470107278, 'lng': 103.8406404701073}}}, 'icon': 'https://maps.gstatic.com/mapfiles/place_api/icons/generic_business-71.png', 'id': 'f818256d3582861d5b226382e555a1a4f2d9406c', 'name': 'Blk 314/Yishun Ring Rd', 'place_id': 'ChIJi19Xq2cU2jERKYGRXfilFwA', 'plus_code': {'compound_code': 'CRJR+PQ Singapore', 'global_code': '6PH5CRJR+PQ'}, 'rating': 0, 'reference': 'ChIJi19Xq2cU2jERKYGRXfilFwA', 'types': ['transit_station', 'point_of_interest', 'establishment'], 'user_ratings_total': 0}\n",
      "{'formatted_address': '159 Bedok South Ave 3, Block 159, Singapore', 'geometry': {'location': {'lat': 1.3190559, 'lng': 103.9456246}, 'viewport': {'northeast': {'lat': 1.320470129892722, 'lng': 103.9469587798927}, 'southwest': {'lat': 1.317770470107278, 'lng': 103.9442591201073}}}, 'icon': 'https://maps.gstatic.com/mapfiles/place_api/icons/geocode-71.png', 'id': '636607cb781e5bb55a8e4ba1d06c80397ca1b26b', 'name': 'Block 159', 'place_id': 'ChIJL4Ih_c4i2jER95sLYoaMZgs', 'reference': 'ChIJL4Ih_c4i2jER95sLYoaMZgs', 'types': ['premise']}\n",
      "{'formatted_address': '8 Teck Whye Ave, Singapore', 'geometry': {'location': {'lat': 1.3807642, 'lng': 103.7545083}, 'viewport': {'northeast': {'lat': 1.382029129892722, 'lng': 103.7557500798927}, 'southwest': {'lat': 1.379329470107278, 'lng': 103.7530504201073}}}, 'icon': 'https://maps.gstatic.com/mapfiles/place_api/icons/geocode-71.png', 'id': '60cb5294d60113362ac8b6b8ee99514d42e12cde', 'name': '8 Teck Whye Ave', 'place_id': 'ChIJd5AbBr8R2jERWucnBF5Rgww', 'plus_code': {'compound_code': '9QJ3+8R Singapore', 'global_code': '6PH59QJ3+8R'}, 'reference': 'ChIJd5AbBr8R2jERWucnBF5Rgww', 'types': ['street_address']}\n",
      "{'formatted_address': 'Singapore', 'geometry': {'location': {'lat': 1.3176886, 'lng': 103.8990096}, 'viewport': {'northeast': {'lat': 1.319031779892722, 'lng': 103.9003756798927}, 'southwest': {'lat': 1.316332120107278, 'lng': 103.8976760201073}}}, 'icon': 'https://maps.gstatic.com/mapfiles/place_api/icons/bus-71.png', 'id': '3fb6e71c29a7809857511deb2b3255b422440c92', 'name': 'Blk 3A', 'photos': [{'height': 2246, 'html_attributions': ['<a href=\"https://maps.google.com/maps/contrib/116968639964397496913/photos\">A Google User</a>'], 'photo_reference': 'CmRaAAAATAwyym4ZTkgM1KmycL7B_QsD9zgAPHJWS1zfem6_2CaHwulMB7sfmNzHfBD4m0LcfJWbT4UUB-9GhHG6szGJqQKjlGU9NOxQTb6-hMXJJDMngh8gKc70aCsx8Lz500Z0EhBbRD6UZziHL01eqnwUeS0wGhR2lebqAvaTl5iVFJtvP8obYEmoUw', 'width': 1999}], 'place_id': 'ChIJLR0BbxoY2jERUCb1p2S00A8', 'plus_code': {'compound_code': '8V9X+3J Singapore', 'global_code': '6PH58V9X+3J'}, 'rating': 5, 'reference': 'ChIJLR0BbxoY2jERUCb1p2S00A8', 'types': ['bus_station', 'transit_station', 'point_of_interest', 'establishment'], 'user_ratings_total': 2}\n",
      "{'formatted_address': 'Singapore', 'geometry': {'location': {'lat': 1.319081, 'lng': 103.748199}, 'viewport': {'northeast': {'lat': 1.320419729892722, 'lng': 103.7495910298927}, 'southwest': {'lat': 1.317720070107278, 'lng': 103.7468913701073}}}, 'icon': 'https://maps.gstatic.com/mapfiles/place_api/icons/generic_business-71.png', 'id': '93b96f763fdbe91154cddae264c88d009f8eb773', 'name': 'Blk 410', 'place_id': 'ChIJRdnsFqMa2jERLTGO0dEZ6-U', 'plus_code': {'compound_code': '8P9X+J7 Singapore', 'global_code': '6PH58P9X+J7'}, 'rating': 5, 'reference': 'ChIJRdnsFqMa2jERLTGO0dEZ6-U', 'types': ['transit_station', 'point_of_interest', 'establishment'], 'user_ratings_total': 1}\n",
      "{'formatted_address': 'Singapore', 'geometry': {'location': {'lat': 1.3405501, 'lng': 103.6870453}, 'viewport': {'northeast': {'lat': 1.341905129892722, 'lng': 103.6883281798927}, 'southwest': {'lat': 1.339205470107278, 'lng': 103.6856285201073}}}, 'icon': 'https://maps.gstatic.com/mapfiles/place_api/icons/generic_business-71.png', 'id': '38dc886768bcb8ec3163155b67686ad176f58df6', 'name': 'Jurong West St 91 - Blk 918', 'photos': [{'height': 2988, 'html_attributions': ['<a href=\"https://maps.google.com/maps/contrib/107411339684032754890/photos\">Eswaraiah V</a>'], 'photo_reference': 'CmRaAAAAUjITJljW2K1OoNkdA14qmKuQqBkIg8yoQzI1_d6rqn5PXij-ooitVIA0qsRsl_uNgjgWt3s2SMKQKFu5q68_EIZymWhd3K_O23eqDPpvtYjN9u1aBAH5I6trWdDISWoEEhAOX9w4AZtLtkOGYEyXVg3gGhTs0EYoiHKHrIMj6uLvWpXo2RKhEA', 'width': 3984}], 'place_id': 'ChIJa_mNFZwP2jERb0slL8zY_oA', 'plus_code': {'compound_code': '8MRP+6R Singapore', 'global_code': '6PH58MRP+6R'}, 'rating': 4, 'reference': 'ChIJa_mNFZwP2jERb0slL8zY_oA', 'types': ['transit_station', 'point_of_interest', 'establishment'], 'user_ratings_total': 2}\n",
      "{'formatted_address': 'Singapore', 'geometry': {'location': {'lat': 1.389089, 'lng': 103.89711}, 'viewport': {'northeast': {'lat': 1.390442979892722, 'lng': 103.8984481298927}, 'southwest': {'lat': 1.387743320107278, 'lng': 103.8957484701073}}}, 'icon': 'https://maps.gstatic.com/mapfiles/place_api/icons/generic_business-71.png', 'id': 'a9e3a71bc29818907e682720e3fad049c71524e8', 'name': 'Blk 223D', 'place_id': 'ChIJG_wHfREW2jER1Fhb3eHzCZ0', 'plus_code': {'compound_code': '9VQW+JR Singapore', 'global_code': '6PH59VQW+JR'}, 'rating': 4, 'reference': 'ChIJG_wHfREW2jER1Fhb3eHzCZ0', 'types': ['transit_station', 'point_of_interest', 'establishment'], 'user_ratings_total': 2}\n",
      "{'formatted_address': 'Singapore', 'geometry': {'location': {'lat': 1.3443178, 'lng': 103.9558876}, 'viewport': {'northeast': {'lat': 1.345653779892722, 'lng': 103.9572492798927}, 'southwest': {'lat': 1.342954120107278, 'lng': 103.9545496201073}}}, 'icon': 'https://maps.gstatic.com/mapfiles/place_api/icons/generic_business-71.png', 'id': '4886579dde4a5a06ff9a54100f6b3dcbacca2338', 'name': 'Blk 146', 'place_id': 'ChIJxReE5CE92jERHx1PSnx5uvo', 'plus_code': {'compound_code': '8XV4+P9 Singapore', 'global_code': '6PH58XV4+P9'}, 'rating': 0, 'reference': 'ChIJxReE5CE92jERHx1PSnx5uvo', 'types': ['transit_station', 'point_of_interest', 'establishment'], 'user_ratings_total': 0}\n",
      "{'formatted_address': 'Singapore', 'geometry': {'location': {'lat': 1.3704697, 'lng': 103.8367907}, 'viewport': {'northeast': {'lat': 1.371819179892722, 'lng': 103.8381387798927}, 'southwest': {'lat': 1.369119520107278, 'lng': 103.8354391201073}}}, 'icon': 'https://maps.gstatic.com/mapfiles/place_api/icons/generic_business-71.png', 'id': '75ae845a88c3a11dc38912eed2e020ab8a173a2c', 'name': 'BLK 110', 'photos': [{'height': 1458, 'html_attributions': ['<a href=\"https://maps.google.com/maps/contrib/115043612064603123230/photos\">winson chng</a>'], 'photo_reference': 'CmRaAAAAXKmHtiZko2Vrf23_cnPPG6i7_pQCqw71kTsOQx7AXrkPzBwNYBsD-qxggBiParTzYdpeAUIJK3SPwq8w0A2f-jCztPxfY0r2K6MHU-_dNtCgLLkSLq5bjsXgV_UpuLZdEhBAmJD4mykLY3cGWKwznu7YGhQrS6crprSNZVfLl2jHKEKToPVltg', 'width': 2048}], 'place_id': 'ChIJu3t4sNsW2jERsRQYbRxf5wc', 'plus_code': {'compound_code': '9RCP+5P Singapore', 'global_code': '6PH59RCP+5P'}, 'rating': 5, 'reference': 'ChIJu3t4sNsW2jERsRQYbRxf5wc', 'types': ['transit_station', 'point_of_interest', 'establishment'], 'user_ratings_total': 1}\n",
      "{'formatted_address': '171 Bedok S Rd, Singapore', 'geometry': {'location': {'lat': 1.3209481, 'lng': 103.9454722}, 'viewport': {'northeast': {'lat': 1.322424179892722, 'lng': 103.9468092798927}, 'southwest': {'lat': 1.319724520107278, 'lng': 103.9441096201073}}}, 'icon': 'https://maps.gstatic.com/mapfiles/place_api/icons/geocode-71.png', 'id': '4e08ca792c0b15595457673c278a13c5fe6b2767', 'name': '171 Bedok S Rd', 'place_id': 'ChIJf632I8wi2jERFGFZo764xIU', 'plus_code': {'compound_code': '8WCW+95 Singapore', 'global_code': '6PH58WCW+95'}, 'reference': 'ChIJf632I8wi2jERFGFZo764xIU', 'types': ['street_address']}\n",
      "{'formatted_address': 'Singapore', 'geometry': {'location': {'lat': 1.331779, 'lng': 103.909836}, 'viewport': {'northeast': {'lat': 1.333081379892722, 'lng': 103.9111824298927}, 'southwest': {'lat': 1.330381720107278, 'lng': 103.9084827701073}}}, 'icon': 'https://maps.gstatic.com/mapfiles/place_api/icons/generic_business-71.png', 'id': '4a3834cef056de4f44e2b6e62523ef242f71ed74', 'name': 'Blk 122', 'photos': [{'height': 2988, 'html_attributions': ['<a href=\"https://maps.google.com/maps/contrib/116297858667564013126/photos\">Kenny Chua</a>'], 'photo_reference': 'CmRaAAAAo6PpHVa4e86xrONjS0GNMDTz9OEZieaNaT_l0g7SDYTH6exGROgmUuSnmL8GLKR2PWoAAryBhcyc_68J_iEiQmPDGwd1XxJ2GYn7AuwftW1W66ho9g3TanaLkjqVm3u9EhCsnnp4ud7Z8qMH_jVQRyEPGhSKaEnQykT0oE8VxokSrqq_SQPcog', 'width': 5312}], 'place_id': 'ChIJYUcxFPwX2jERVRbXrwEZT7A', 'plus_code': {'compound_code': '8WJ5+PW Singapore', 'global_code': '6PH58WJ5+PW'}, 'rating': 4.3, 'reference': 'ChIJYUcxFPwX2jERVRbXrwEZT7A', 'types': ['transit_station', 'point_of_interest', 'establishment'], 'user_ratings_total': 4}\n",
      "{'formatted_address': 'Singapore', 'geometry': {'location': {'lat': 1.3963535, 'lng': 103.749479}, 'viewport': {'northeast': {'lat': 1.397741979892722, 'lng': 103.7508239798927}, 'southwest': {'lat': 1.395042320107277, 'lng': 103.7481243201073}}}, 'icon': 'https://maps.gstatic.com/mapfiles/place_api/icons/generic_business-71.png', 'id': '181a271365b0bb73b9366a9c32413ffa7dbb21fe', 'name': 'Blk 634', 'photos': [{'height': 2448, 'html_attributions': ['<a href=\"https://maps.google.com/maps/contrib/116093657258632042808/photos\">Penghao Chen</a>'], 'photo_reference': 'CmRaAAAA85khagftne7xqKTh83Jm_44NVBQFBry_hooomyhBU3LBpRNu6buEvLBsmci5IzJy6rzyGTVP_lt_HULpExYZ8WslMIWTBd_t8kZj7GbvAdFoQm1kDro5PjxkTZ1Bf97qEhAbhQlO3bVi9xA0Ovd0e-qgGhTvkhVmtP3tjE-eVcDhEcsBQupJYA', 'width': 3264}], 'place_id': 'ChIJG7eTdPMR2jERJrRoKRwjoL4', 'plus_code': {'compound_code': '9PWX+GQ Singapore', 'global_code': '6PH59PWX+GQ'}, 'rating': 5, 'reference': 'ChIJG7eTdPMR2jERJrRoKRwjoL4', 'types': ['transit_station', 'point_of_interest', 'establishment'], 'user_ratings_total': 1}\n",
      "{'formatted_address': 'Singapore', 'geometry': {'location': {'lat': 1.3391162, 'lng': 103.6931172}, 'viewport': {'northeast': {'lat': 1.340465779892722, 'lng': 103.6944492298927}, 'southwest': {'lat': 1.337766120107278, 'lng': 103.6917495701073}}}, 'icon': 'https://maps.gstatic.com/mapfiles/place_api/icons/generic_business-71.png', 'id': '4b8ae7b6032a6068d011febe313ed2bea989d70a', 'name': 'Jurong West St 93 - Blk 974', 'photos': [{'height': 2736, 'html_attributions': ['<a href=\"https://maps.google.com/maps/contrib/105418373271006322339/photos\">A Google User</a>'], 'photo_reference': 'CmRaAAAAVfZ-Hxb09GnElO_SQGj5g62NsBUqrpi3XN94frvTQI5zQ3eKpZlR91zMabQpNF3vd0MPoogozriYXrAclb_eIgl3F_mV-YC4rf9trl56M0iRtIZbzGVni4yEkepMAwg4EhC2ZZZNX5Z0-cwtzJ5S4xqZGhTEbvqWL2v0kO7H2ftqLBkUX0vooQ', 'width': 4864}], 'place_id': 'ChIJX3EsYpoP2jER772O4bCVB8k', 'plus_code': {'compound_code': '8MQV+J6 Singapore', 'global_code': '6PH58MQV+J6'}, 'rating': 1, 'reference': 'ChIJX3EsYpoP2jER772O4bCVB8k', 'types': ['transit_station', 'point_of_interest', 'establishment'], 'user_ratings_total': 2}\n",
      "{'formatted_address': '485B Tampines Ave 9, Singapore', 'geometry': {'location': {'lat': 1.3598188, 'lng': 103.9564122}, 'viewport': {'northeast': {'lat': 1.361166179892722, 'lng': 103.9573030298927}, 'southwest': {'lat': 1.358466520107278, 'lng': 103.9546033701073}}}, 'icon': 'https://maps.gstatic.com/mapfiles/place_api/icons/geocode-71.png', 'id': '4298cb6b4a278ef784a029716902247f93c0987f', 'name': '485B Tampines Ave 9', 'place_id': 'ChIJNfIcQAE92jEREib7cYkgLAU', 'reference': 'ChIJNfIcQAE92jEREib7cYkgLAU', 'types': ['premise']}\n",
      "{'formatted_address': '27B Jln Membina, Singapore', 'geometry': {'location': {'lat': 1.2822142, 'lng': 103.8245988}, 'viewport': {'northeast': {'lat': 1.283576179892722, 'lng': 103.8260823798927}, 'southwest': {'lat': 1.280876520107278, 'lng': 103.8233827201073}}}, 'icon': 'https://maps.gstatic.com/mapfiles/place_api/icons/geocode-71.png', 'id': 'eca52f8b30af846de2f32a0058653e49ce609c61', 'name': '27B Jln Membina', 'place_id': 'ChIJzdJo9nwZ2jERVFAWPyAnlJ0', 'plus_code': {'compound_code': '7RJF+VR Singapore', 'global_code': '6PH57RJF+VR'}, 'reference': 'ChIJzdJo9nwZ2jERVFAWPyAnlJ0', 'types': ['street_address']}\n",
      "{'formatted_address': '442 Clementi Ave 3, Singapore', 'geometry': {'location': {'lat': 1.3140024, 'lng': 103.7644447}, 'viewport': {'northeast': {'lat': 1.315379579892722, 'lng': 103.7657217298927}, 'southwest': {'lat': 1.312679920107278, 'lng': 103.7630220701073}}}, 'icon': 'https://maps.gstatic.com/mapfiles/place_api/icons/geocode-71.png', 'id': '8095e1fd6b01ad6773d09bc5bd85a0c7115d30cc', 'name': '442 Clementi Ave 3', 'place_id': 'ChIJ4422Io4a2jERx4kKaTESeCY', 'reference': 'ChIJ4422Io4a2jERx4kKaTESeCY', 'types': ['premise']}\n",
      "{'formatted_address': '516 Hougang Ave 10, Singapore', 'geometry': {'location': {'lat': 1.3721506, 'lng': 103.8892269}, 'viewport': {'northeast': {'lat': 1.373428479892722, 'lng': 103.8906574798927}, 'southwest': {'lat': 1.370728820107278, 'lng': 103.8879578201073}}}, 'icon': 'https://maps.gstatic.com/mapfiles/place_api/icons/geocode-71.png', 'id': '12adc161ef43cd0041a80ef710a2ee57847cd4ff', 'name': '516 Hougang Ave 10', 'place_id': 'Eh01MTYgSG91Z2FuZyBBdmUgMTAsIFNpbmdhcG9yZSIbEhkKFAoSCcGZhGlIFtoxESmj45qJawENEIQE', 'reference': 'Eh01MTYgSG91Z2FuZyBBdmUgMTAsIFNpbmdhcG9yZSIbEhkKFAoSCcGZhGlIFtoxESmj45qJawENEIQE', 'types': ['street_address']}\n",
      "{'formatted_address': '964 Hougang Ave 9, Singapore', 'geometry': {'location': {'lat': 1.3750467, 'lng': 103.8773458}, 'viewport': {'northeast': {'lat': 1.376396529892722, 'lng': 103.8786956298927}, 'southwest': {'lat': 1.373696870107278, 'lng': 103.8759959701073}}}, 'icon': 'https://maps.gstatic.com/mapfiles/place_api/icons/geocode-71.png', 'id': '1af74f05f0156e349605e44185e8ac1610b149fd', 'name': '964 Hougang Ave 9', 'place_id': 'Ehw5NjQgSG91Z2FuZyBBdmUgOSwgU2luZ2Fwb3JlIhsSGQoUChIJA_H1-loW2jEReI3LEcObyx4QxAc', 'reference': 'Ehw5NjQgSG91Z2FuZyBBdmUgOSwgU2luZ2Fwb3JlIhsSGQoUChIJA_H1-loW2jEReI3LEcObyx4QxAc', 'types': ['street_address']}\n",
      "{'formatted_address': '24 Teban Gardens Rd, Singapore', 'geometry': {'location': {'lat': 1.3220275, 'lng': 103.7413632}, 'viewport': {'northeast': {'lat': 1.323377329892722, 'lng': 103.7427130298927}, 'southwest': {'lat': 1.320677670107278, 'lng': 103.7400133701073}}}, 'icon': 'https://maps.gstatic.com/mapfiles/place_api/icons/geocode-71.png', 'id': 'b81eb27bcc876dd23a4bacddba12c8b5d758420e', 'name': '24 Teban Gardens Rd', 'place_id': 'Eh4yNCBUZWJhbiBHYXJkZW5zIFJkLCBTaW5nYXBvcmUiGhIYChQKEgmlmDT7pRraMRGkVOTXoIRFLBAY', 'reference': 'Eh4yNCBUZWJhbiBHYXJkZW5zIFJkLCBTaW5nYXBvcmUiGhIYChQKEgmlmDT7pRraMRGkVOTXoIRFLBAY', 'types': ['street_address']}\n",
      "{'formatted_address': '606 Jurong West Street 65, Singapore', 'geometry': {'location': {'lat': 1.3379765, 'lng': 103.6993094}, 'viewport': {'northeast': {'lat': 1.339251279892722, 'lng': 103.7006668298927}, 'southwest': {'lat': 1.336551620107278, 'lng': 103.6979671701073}}}, 'icon': 'https://maps.gstatic.com/mapfiles/place_api/icons/geocode-71.png', 'id': '194faaf0248f2ee0507da7c112317733aa5306f3', 'name': '606 Jurong West Street 65', 'place_id': 'ChIJ_U4xjZEP2jERff_D6OJy3fM', 'plus_code': {'compound_code': '8MQX+5P Singapore', 'global_code': '6PH58MQX+5P'}, 'reference': 'ChIJ_U4xjZEP2jERff_D6OJy3fM', 'types': ['street_address']}\n",
      "{'formatted_address': '91 Commonwealth Dr, Singapore', 'geometry': {'location': {'lat': 1.3059202, 'lng': 103.7994833}, 'viewport': {'northeast': {'lat': 1.307310429892722, 'lng': 103.8007954298927}, 'southwest': {'lat': 1.304610770107278, 'lng': 103.7980957701073}}}, 'icon': 'https://maps.gstatic.com/mapfiles/place_api/icons/generic_business-71.png', 'id': 'd0f59696ef2c682d3c60bd7ff4335137b6d3921e', 'name': 'blk 91 commonwealth', 'opening_hours': {'open_now': True}, 'place_id': 'ChIJV0Henz8a2jERvHZ6bgswZI4', 'plus_code': {'compound_code': '8Q4X+9Q Singapore', 'global_code': '6PH58Q4X+9Q'}, 'rating': 4.3, 'reference': 'ChIJV0Henz8a2jERvHZ6bgswZI4', 'types': ['point_of_interest', 'establishment'], 'user_ratings_total': 4}\n",
      "{'formatted_address': 'Singapore', 'geometry': {'location': {'lat': 1.3456305, 'lng': 103.9577053}, 'viewport': {'northeast': {'lat': 1.346973329892722, 'lng': 103.9591146798927}, 'southwest': {'lat': 1.344273670107278, 'lng': 103.9564150201073}}}, 'icon': 'https://maps.gstatic.com/mapfiles/place_api/icons/generic_business-71.png', 'id': '315ef0e2c249844b0948709c6ce2d90c5aec39ab', 'name': 'Blk 151', 'place_id': 'ChIJr9q1dR892jERn_La1ON3g3w', 'plus_code': {'compound_code': '8XW5+73 Singapore', 'global_code': '6PH58XW5+73'}, 'rating': 0, 'reference': 'ChIJr9q1dR892jERn_La1ON3g3w', 'types': ['transit_station', 'point_of_interest', 'establishment'], 'user_ratings_total': 0}\n",
      "{'formatted_address': 'Singapore', 'geometry': {'location': {'lat': 1.427055, 'lng': 103.846153}, 'viewport': {'northeast': {'lat': 1.428406529892722, 'lng': 103.8475332798927}, 'southwest': {'lat': 1.425706870107278, 'lng': 103.8448336201073}}}, 'icon': 'https://maps.gstatic.com/mapfiles/place_api/icons/generic_business-71.png', 'id': '592ccfa8b7affaf68c0d76e37b6190d338e7d406', 'name': 'Blk 358', 'place_id': 'ChIJ1cM4Z0IU2jER6E0rJIHPKAo', 'plus_code': {'compound_code': 'CRGW+RF Singapore', 'global_code': '6PH5CRGW+RF'}, 'rating': 4, 'reference': 'ChIJ1cM4Z0IU2jER6E0rJIHPKAo', 'types': ['transit_station', 'point_of_interest', 'establishment'], 'user_ratings_total': 1}\n",
      "{'formatted_address': '514 E Coast Rd, Singapore', 'geometry': {'location': {'lat': 1.3119411, 'lng': 103.9247252}, 'viewport': {'northeast': {'lat': 1.313290929892722, 'lng': 103.9260750298927}, 'southwest': {'lat': 1.310591270107278, 'lng': 103.9233753701073}}}, 'icon': 'https://maps.gstatic.com/mapfiles/place_api/icons/geocode-71.png', 'id': 'eafd96addb9b6ad7cc11b1e75715daa7d1159931', 'name': '514 E Coast Rd', 'place_id': 'Ehk1MTQgRSBDb2FzdCBSZCwgU2luZ2Fwb3JlIhsSGQoUChIJh1O_oaQi2jER4PtRq0Cf-aUQggQ', 'reference': 'Ehk1MTQgRSBDb2FzdCBSZCwgU2luZ2Fwb3JlIhsSGQoUChIJh1O_oaQi2jER4PtRq0Cf-aUQggQ', 'types': ['street_address']}\n",
      "{'formatted_address': 'Singapore', 'geometry': {'location': {'lat': 1.4348858, 'lng': 103.7755225}, 'viewport': {'northeast': {'lat': 1.436253779892722, 'lng': 103.7768918798927}, 'southwest': {'lat': 1.433554120107278, 'lng': 103.7741922201073}}}, 'icon': 'https://maps.gstatic.com/mapfiles/place_api/icons/generic_business-71.png', 'id': 'e18aff5f10bff1a7175d7b71c624770d7c3b30fd', 'name': 'Blk 154', 'place_id': 'ChIJaaGTVasT2jERWy5Y57hrQ-k', 'plus_code': {'compound_code': 'CQMG+X6 Singapore', 'global_code': '6PH5CQMG+X6'}, 'rating': 0, 'reference': 'ChIJaaGTVasT2jERWy5Y57hrQ-k', 'types': ['transit_station', 'point_of_interest', 'establishment'], 'user_ratings_total': 0}\n",
      "{'formatted_address': 'Yishun Street 81, Singapore', 'geometry': {'location': {'lat': 1.4146747, 'lng': 103.8351556}, 'viewport': {'northeast': {'lat': 1.416007879892722, 'lng': 103.8365361798927}, 'southwest': {'lat': 1.413308220107278, 'lng': 103.8338365201073}}}, 'icon': 'https://maps.gstatic.com/mapfiles/place_api/icons/generic_business-71.png', 'id': '2b453440911a2db13d64e521f7972a056000593a', 'name': 'Blk 868', 'place_id': 'ChIJ6x_3lhEU2jERlv2E8aEr55s', 'plus_code': {'compound_code': 'CR7P+V3 Singapore', 'global_code': '6PH5CR7P+V3'}, 'rating': 0, 'reference': 'ChIJ6x_3lhEU2jERlv2E8aEr55s', 'types': ['point_of_interest', 'establishment'], 'user_ratings_total': 0}\n",
      "{'formatted_address': 'Serangoon Ave 2, Singapore', 'geometry': {'location': {'lat': 1.3531794, 'lng': 103.8679185}, 'viewport': {'northeast': {'lat': 1.354553379892722, 'lng': 103.8693877798927}, 'southwest': {'lat': 1.351853720107278, 'lng': 103.8666881201073}}}, 'icon': 'https://maps.gstatic.com/mapfiles/place_api/icons/generic_business-71.png', 'id': 'b986819265da0878d33f612965a981ab08270f66', 'name': 'Blk 301', 'photos': [{'height': 1005, 'html_attributions': ['<a href=\"https://maps.google.com/maps/contrib/117013970762670221406/photos\">MN ANANG</a>'], 'photo_reference': 'CmRaAAAA5APMZjvne-TuWCLMPvtKJ5SpIokt2KreFuOes7LASHe6SiCwnqFgJggRVbTUwDmbK_2tmAOHjzGxgSw_lC9_kJMTj1YAxQs8Xw36k9Mw69bRUJy6kcpWpXiZpi9KPx5dEhBdIAkq1Us0Z6GfKQc_UM8qGhRKa0fyho-b8CJfEgmppi071zHXUA', 'width': 1080}], 'place_id': 'ChIJ8ZR8d6cX2jERIR68Fy5XiLU', 'plus_code': {'compound_code': '9V39+75 Singapore', 'global_code': '6PH59V39+75'}, 'rating': 4, 'reference': 'ChIJ8ZR8d6cX2jERIR68Fy5XiLU', 'types': ['point_of_interest', 'establishment'], 'user_ratings_total': 2}\n",
      "{'formatted_address': 'Singapore', 'geometry': {'location': {'lat': 1.432265, 'lng': 103.840195}, 'viewport': {'northeast': {'lat': 1.433644329892722, 'lng': 103.8415161298927}, 'southwest': {'lat': 1.430944670107278, 'lng': 103.8388164701073}}}, 'icon': 'https://maps.gstatic.com/mapfiles/place_api/icons/generic_business-71.png', 'id': '4fb98e01df1eccad9c1ed73b9445998c407eb117', 'name': 'Blk 309', 'place_id': 'ChIJdblOimYU2jERifSiEaieCyg', 'plus_code': {'compound_code': 'CRJR+W3 Singapore', 'global_code': '6PH5CRJR+W3'}, 'rating': 0, 'reference': 'ChIJdblOimYU2jERifSiEaieCyg', 'types': ['transit_station', 'point_of_interest', 'establishment'], 'user_ratings_total': 0}\n",
      "{'formatted_address': '208 New Upper Changi Rd, Singapore', 'geometry': {'location': {'lat': 1.3254978, 'lng': 103.9313021}, 'viewport': {'northeast': {'lat': 1.326812179892722, 'lng': 103.9326248798927}, 'southwest': {'lat': 1.324112520107278, 'lng': 103.9299252201073}}}, 'icon': 'https://maps.gstatic.com/mapfiles/place_api/icons/geocode-71.png', 'id': 'bdf5e510e90dc09f64c8e42e3569bfcd460ad9d7', 'name': '208 New Upper Changi Rd', 'place_id': 'ChIJLU5pTrMi2jERPMeOnC6G4_4', 'plus_code': {'compound_code': '8WGJ+5G Singapore', 'global_code': '6PH58WGJ+5G'}, 'reference': 'ChIJLU5pTrMi2jERPMeOnC6G4_4', 'types': ['street_address']}\n",
      "{'formatted_address': 'Singapore', 'geometry': {'location': {'lat': 1.384031, 'lng': 103.899612}, 'viewport': {'northeast': {'lat': 1.385351929892722, 'lng': 103.9009887798927}, 'southwest': {'lat': 1.382652270107278, 'lng': 103.8982891201073}}}, 'icon': 'https://maps.gstatic.com/mapfiles/place_api/icons/generic_business-71.png', 'id': '2c9f6496a4386ec99dce9b7a8d3e07befc8fac48', 'name': 'Opp Blk 110', 'photos': [{'height': 3334, 'html_attributions': ['<a href=\"https://maps.google.com/maps/contrib/116968639964397496913/photos\">A Google User</a>'], 'photo_reference': 'CmRaAAAAUmxQtCCoetJoGJZa0TLP96pltzy2Lw153-jmxL8DC5hz85SnwzSCJxk3o-_0L6IYFUhbLZNo291KfMYSGHYdMeOdpahuqTzQ-oZgzrYQtJ5KYm3ho0EVFtsf6PSjH2E4EhC8FLDMEUVjsI7d12nul3TyGhTFnM-o2UlLTZfn6u9uDgRhg5zIUg', 'width': 2018}], 'place_id': 'ChIJ5YtvTBYW2jERHrMat6G34hM', 'plus_code': {'compound_code': '9VMX+JR Singapore', 'global_code': '6PH59VMX+JR'}, 'rating': 5, 'reference': 'ChIJ5YtvTBYW2jERHrMat6G34hM', 'types': ['transit_station', 'point_of_interest', 'establishment'], 'user_ratings_total': 1}\n",
      "{'formatted_address': '204 Bishan Street 23, Singapore', 'geometry': {'location': {'lat': 1.3549987, 'lng': 103.8474093}, 'viewport': {'northeast': {'lat': 1.356331429892722, 'lng': 103.8487043798927}, 'southwest': {'lat': 1.353631770107278, 'lng': 103.8460047201073}}}, 'icon': 'https://maps.gstatic.com/mapfiles/place_api/icons/geocode-71.png', 'id': 'dcced38dd59cfb466396f60bbc1cab30a10947dd', 'name': '204 Bishan Street 23', 'place_id': 'ChIJnUff5BgX2jERwHV8VQBp2UY', 'plus_code': {'compound_code': '9R3W+XX Singapore', 'global_code': '6PH59R3W+XX'}, 'reference': 'ChIJnUff5BgX2jERwHV8VQBp2UY', 'types': ['street_address']}\n",
      "{'formatted_address': 'Singapore', 'geometry': {'location': {'lat': 1.42505, 'lng': 103.84555}, 'viewport': {'northeast': {'lat': 1.426394179892722, 'lng': 103.8469058298927}, 'southwest': {'lat': 1.423694520107278, 'lng': 103.8442061701073}}}, 'icon': 'https://maps.gstatic.com/mapfiles/place_api/icons/generic_business-71.png', 'id': '8616134c6d1476f716e5d2c1d20e72a7a551d0f7', 'name': 'Blk 356', 'place_id': 'ChIJT7pSHUIU2jERKMLNCvJh9Kk', 'plus_code': {'compound_code': 'CRGW+26 Singapore', 'global_code': '6PH5CRGW+26'}, 'rating': 5, 'reference': 'ChIJT7pSHUIU2jERKMLNCvJh9Kk', 'types': ['transit_station', 'point_of_interest', 'establishment'], 'user_ratings_total': 1}\n",
      "{'formatted_address': 'Singapore', 'geometry': {'location': {'lat': 1.3814764, 'lng': 103.8392681}, 'viewport': {'northeast': {'lat': 1.382808679892722, 'lng': 103.8405897798927}, 'southwest': {'lat': 1.380109020107278, 'lng': 103.8378901201073}}}, 'icon': 'https://maps.gstatic.com/mapfiles/place_api/icons/generic_business-71.png', 'id': '602080022027228e2df8da4ddb50eb84494398d5', 'name': 'BLK 622', 'photos': [{'height': 2160, 'html_attributions': ['<a href=\"https://maps.google.com/maps/contrib/101549718883620066305/photos\">A Google User</a>'], 'photo_reference': 'CmRaAAAA3f0UQVMfyiVt7PZJUHtDTmr1d_SBl1oLFGaeWVhxcuIV_nEdcsiq6DWcB_FmlLuyVO0mNrteZ3K7sywwUxSkhjFw5j0NVaeg5pnyUAAvjwmGsCTiNJlMLmmHlNNhKsDZEhA1Ma9-uNcWQ91vkFieMMJWGhR-QtyNu0XYQUbU_EAR-ptQUUEAQg', 'width': 3840}], 'place_id': 'ChIJg7C2y8AW2jERRC82wppbpkw', 'plus_code': {'compound_code': '9RJQ+HP Singapore', 'global_code': '6PH59RJQ+HP'}, 'rating': 4, 'reference': 'ChIJg7C2y8AW2jERRC82wppbpkw', 'types': ['transit_station', 'point_of_interest', 'establishment'], 'user_ratings_total': 2}\n",
      "{'formatted_address': '16 Hougang Ave 3, Singapore', 'geometry': {'location': {'lat': 1.3629347, 'lng': 103.8910883}, 'viewport': {'northeast': {'lat': 1.364329279892722, 'lng': 103.8924692298927}, 'southwest': {'lat': 1.361629620107278, 'lng': 103.8897695701073}}}, 'icon': 'https://maps.gstatic.com/mapfiles/place_api/icons/geocode-71.png', 'id': 'c99c82d99294aca2587e171dcc66eebdf668f5fd', 'name': '16 Hougang Ave 3', 'place_id': 'ChIJCbVqYTUW2jERfTEzrNvMd8g', 'plus_code': {'compound_code': '9V7R+5C Singapore', 'global_code': '6PH59V7R+5C'}, 'reference': 'ChIJCbVqYTUW2jERfTEzrNvMd8g', 'types': ['street_address']}\n",
      "{'formatted_address': '612A Punggol Dr, Singapore', 'geometry': {'location': {'lat': 1.4049257, 'lng': 103.9084641}, 'viewport': {'northeast': {'lat': 1.406296829892722, 'lng': 103.9098584798927}, 'southwest': {'lat': 1.403597170107278, 'lng': 103.9071588201073}}}, 'icon': 'https://maps.gstatic.com/mapfiles/place_api/icons/geocode-71.png', 'id': '0fe76d709451d8b0475a754b8e8b142d9ed6639f', 'name': '612A Punggol Dr', 'place_id': 'ChIJQ-u7mv4V2jER7jL2n9-8IYk', 'plus_code': {'compound_code': 'CW35+X9 Singapore', 'global_code': '6PH5CW35+X9'}, 'reference': 'ChIJQ-u7mv4V2jER7jL2n9-8IYk', 'types': ['street_address']}\n",
      "{'formatted_address': '510 Hougang Ave 10, Singapore', 'geometry': {'location': {'lat': 1.3718956, 'lng': 103.8887349}, 'viewport': {'northeast': {'lat': 1.373245429892722, 'lng': 103.8900847298927}, 'southwest': {'lat': 1.370545770107278, 'lng': 103.8873850701073}}}, 'icon': 'https://maps.gstatic.com/mapfiles/place_api/icons/geocode-71.png', 'id': '767fdd3e8a85200e6b3643e1af24b3cf47f1e7f0', 'name': '510 Hougang Ave 10', 'place_id': 'Eh01MTAgSG91Z2FuZyBBdmUgMTAsIFNpbmdhcG9yZSIbEhkKFAoSCa3lQ11IFtoxEVTUA_A9ASkxEP4D', 'reference': 'Eh01MTAgSG91Z2FuZyBBdmUgMTAsIFNpbmdhcG9yZSIbEhkKFAoSCa3lQ11IFtoxEVTUA_A9ASkxEP4D', 'types': ['street_address']}\n",
      "{'formatted_address': '367 Corporation Dr, Singapore', 'geometry': {'location': {'lat': 1.3382647, 'lng': 103.718959}, 'viewport': {'northeast': {'lat': 1.339614529892722, 'lng': 103.7203088298927}, 'southwest': {'lat': 1.336914870107278, 'lng': 103.7176091701073}}}, 'icon': 'https://maps.gstatic.com/mapfiles/place_api/icons/geocode-71.png', 'id': '249a88637348a9eac6d92b28a3fda5f9c74a9ec2', 'name': '367 Corporation Dr', 'place_id': 'Eh0zNjcgQ29ycG9yYXRpb24gRHIsIFNpbmdhcG9yZSIbEhkKFAoSCVFQ_RLlD9oxETrum_duRiq8EO8C', 'reference': 'Eh0zNjcgQ29ycG9yYXRpb24gRHIsIFNpbmdhcG9yZSIbEhkKFAoSCVFQ_RLlD9oxETrum_duRiq8EO8C', 'types': ['street_address']}\n",
      "{'formatted_address': 'Singapore', 'geometry': {'location': {'lat': 1.4347215, 'lng': 103.7774588}, 'viewport': {'northeast': {'lat': 1.436070429892722, 'lng': 103.7788095798927}, 'southwest': {'lat': 1.433370770107278, 'lng': 103.7761099201073}}}, 'icon': 'https://maps.gstatic.com/mapfiles/place_api/icons/generic_business-71.png', 'id': 'beaf3ab4a64bd867bc92b60f821b79c7b7f13bcb', 'name': 'Blk 178', 'photos': [{'height': 3000, 'html_attributions': ['<a href=\"https://maps.google.com/maps/contrib/115285727601377394200/photos\">swe siang Lee</a>'], 'photo_reference': 'CmRaAAAAGocFbAGABJM-wdIBhmeLIcbcaDnj1bSC_ixl2u4qAdac08i_kVLzPW3nCUjsw9_GWx2R6B77JZAlKlxPRqrabqMH-YSE4_G1T_32H2oFIAscGOlC4au5JEh6xiJ2_niGEhDOYZPFbY7werNkk_XIscf7GhTqf0Tj7XZNau-Rz97RAzE4krdyOg', 'width': 5333}], 'place_id': 'ChIJeX4pnawT2jERzYf6j89mjxQ', 'plus_code': {'compound_code': 'CQMG+VX Singapore', 'global_code': '6PH5CQMG+VX'}, 'rating': 4, 'reference': 'ChIJeX4pnawT2jERzYf6j89mjxQ', 'types': ['transit_station', 'point_of_interest', 'establishment'], 'user_ratings_total': 2}\n",
      "{'formatted_address': '41 Cambridge Rd, Singapore', 'geometry': {'location': {'lat': 1.3161086, 'lng': 103.8502139}, 'viewport': {'northeast': {'lat': 1.317773579892722, 'lng': 103.8513554798927}, 'southwest': {'lat': 1.315073920107278, 'lng': 103.8486558201073}}}, 'icon': 'https://maps.gstatic.com/mapfiles/place_api/icons/geocode-71.png', 'id': '2c02b5be001f5ea5774a73526517eee1713edac1', 'name': '41 Cambridge Rd', 'place_id': 'ChIJ8zZ9UcMZ2jERuG4JNJm1Oac', 'plus_code': {'compound_code': '8V82+C3 Singapore', 'global_code': '6PH58V82+C3'}, 'reference': 'ChIJ8zZ9UcMZ2jERuG4JNJm1Oac', 'types': ['street_address']}\n",
      "{'formatted_address': 'Singapore', 'geometry': {'location': {'lat': 1.3355355, 'lng': 103.8466184}, 'viewport': {'northeast': {'lat': 1.336851129892722, 'lng': 103.8479408798927}, 'southwest': {'lat': 1.334151470107278, 'lng': 103.8452412201073}}}, 'icon': 'https://maps.gstatic.com/mapfiles/place_api/icons/bus-71.png', 'id': 'a82f8118fda20342caaa3be8f4fe1f3ec69cba00', 'name': 'Blk 84B', 'photos': [{'height': 3840, 'html_attributions': ['<a href=\"https://maps.google.com/maps/contrib/116968639964397496913/photos\">A Google User</a>'], 'photo_reference': 'CmRaAAAAtRMOc4xryt7JD0nmL5moRKzEHBTqvKesy317X0HKItHzFcOa922sWP2k9xm9HvcunLswWmUD7foQe_iZgcbe3odjZcDvkhSuiCts_YdN61p02yYp_uj8vAgOMDHn0tpdEhA7N0f8weQJzO_1hV8GeBoWGhRdepTJoD0a_qj2nZ2YkcPopzxywA', 'width': 2160}], 'place_id': 'ChIJ_zBe22cX2jERnJeaITmvBeI', 'plus_code': {'compound_code': '8RPW+6J Singapore', 'global_code': '6PH58RPW+6J'}, 'rating': 5, 'reference': 'ChIJ_zBe22cX2jERnJeaITmvBeI', 'types': ['bus_station', 'transit_station', 'point_of_interest', 'establishment'], 'user_ratings_total': 1}\n",
      "{'formatted_address': '20 Teban Gardens Rd, Singapore', 'geometry': {'location': {'lat': 1.3220271, 'lng': 103.741365}, 'viewport': {'northeast': {'lat': 1.323376929892722, 'lng': 103.7427148298927}, 'southwest': {'lat': 1.320677270107278, 'lng': 103.7400151701073}}}, 'icon': 'https://maps.gstatic.com/mapfiles/place_api/icons/geocode-71.png', 'id': 'bc52f5652c4f374522f50ecf52d5f6d3c75a3c38', 'name': '20 Teban Gardens Rd', 'place_id': 'Eh4yMCBUZWJhbiBHYXJkZW5zIFJkLCBTaW5nYXBvcmUiGhIYChQKEgmlmDT7pRraMRGkVOTXoIRFLBAU', 'reference': 'Eh4yMCBUZWJhbiBHYXJkZW5zIFJkLCBTaW5nYXBvcmUiGhIYChQKEgmlmDT7pRraMRGkVOTXoIRFLBAU', 'types': ['street_address']}\n",
      "{'formatted_address': 'Singapore', 'geometry': {'location': {'lat': 1.296245, 'lng': 103.799522}, 'viewport': {'northeast': {'lat': 1.297594829892722, 'lng': 103.8008718298927}, 'southwest': {'lat': 1.294895170107278, 'lng': 103.7981721701073}}}, 'icon': 'https://maps.gstatic.com/mapfiles/place_api/icons/generic_business-71.png', 'id': 'a77d101351cdd945e5c760993b4914a6f610087a', 'name': \"Aft C'wealth Dr\", 'place_id': 'ChIJbTZ9MzYa2jERZ-40jbjlP3Q', 'plus_code': {'compound_code': '7QWX+FR Singapore', 'global_code': '6PH57QWX+FR'}, 'rating': 5, 'reference': 'ChIJbTZ9MzYa2jERZ-40jbjlP3Q', 'types': ['transit_station', 'point_of_interest', 'establishment'], 'user_ratings_total': 1}\n",
      "{'formatted_address': '793 Yishun Ring Rd, Singapore', 'geometry': {'location': {'lat': 1.4202674, 'lng': 103.8319902}, 'viewport': {'northeast': {'lat': 1.421563629892722, 'lng': 103.8332208798927}, 'southwest': {'lat': 1.418863970107278, 'lng': 103.8305212201073}}}, 'icon': 'https://maps.gstatic.com/mapfiles/place_api/icons/geocode-71.png', 'id': '2ceb7388dac83efac48efa88d3e6c0db9e15dc7f', 'name': '793 Yishun Ring Rd', 'place_id': 'ChIJnUcGSw0U2jERMMr4Qgk05QA', 'plus_code': {'compound_code': 'CRCJ+4Q Singapore', 'global_code': '6PH5CRCJ+4Q'}, 'reference': 'ChIJnUcGSw0U2jERMMr4Qgk05QA', 'types': ['street_address']}\n",
      "{'formatted_address': '149 Silat Ave, Singapore', 'geometry': {'location': {'lat': 1.2773743, 'lng': 103.831804}, 'viewport': {'northeast': {'lat': 1.278616129892722, 'lng': 103.8331388298927}, 'southwest': {'lat': 1.275916470107278, 'lng': 103.8304391701073}}}, 'icon': 'https://maps.gstatic.com/mapfiles/place_api/icons/geocode-71.png', 'id': '3e9d35f9b23952b1a250926902ad4dec47333e8d', 'name': '149 Silat Ave', 'place_id': 'ChIJMYPinmUZ2jER2zQuTqq6bc4', 'plus_code': {'compound_code': '7RGJ+WP Singapore', 'global_code': '6PH57RGJ+WP'}, 'reference': 'ChIJMYPinmUZ2jER2zQuTqq6bc4', 'types': ['street_address']}\n",
      "{'formatted_address': 'Singapore', 'geometry': {'location': {'lat': 1.346392, 'lng': 103.955261}, 'viewport': {'northeast': {'lat': 1.347730679892722, 'lng': 103.9566200298927}, 'southwest': {'lat': 1.345031020107278, 'lng': 103.9539203701073}}}, 'icon': 'https://maps.gstatic.com/mapfiles/place_api/icons/generic_business-71.png', 'id': 'b26725f0d31718c3c86223b0ffa2396c19c6496b', 'name': 'Blk 130', 'place_id': 'ChIJI-FoMh892jERTkYt5OisDY8', 'plus_code': {'compound_code': '8XW4+H4 Singapore', 'global_code': '6PH58XW4+H4'}, 'rating': 5, 'reference': 'ChIJI-FoMh892jERTkYt5OisDY8', 'types': ['transit_station', 'point_of_interest', 'establishment'], 'user_ratings_total': 1}\n",
      "{'formatted_address': '133 Ang Mo Kio Ave 3, Singapore', 'geometry': {'location': {'lat': 1.371188, 'lng': 103.8426323}, 'viewport': {'northeast': {'lat': 1.372596029892722, 'lng': 103.8439815298927}, 'southwest': {'lat': 1.369896370107278, 'lng': 103.8412818701073}}}, 'icon': 'https://maps.gstatic.com/mapfiles/place_api/icons/geocode-71.png', 'id': '89fa256d4c51d38786bb7d07c102c62f262c252a', 'name': '133 Ang Mo Kio Ave 3', 'place_id': 'ChIJ7V_5B90W2jERJSn1Q2nRSfE', 'plus_code': {'compound_code': '9RCV+F3 Singapore', 'global_code': '6PH59RCV+F3'}, 'reference': 'ChIJ7V_5B90W2jERJSn1Q2nRSfE', 'types': ['street_address']}\n",
      "{'formatted_address': 'Depot Rd, Singapore', 'geometry': {'location': {'lat': 1.2812102, 'lng': 103.8121687}, 'viewport': {'northeast': {'lat': 1.282596279892722, 'lng': 103.8135228298927}, 'southwest': {'lat': 1.279896620107278, 'lng': 103.8108231701073}}}, 'icon': 'https://maps.gstatic.com/mapfiles/place_api/icons/bus-71.png', 'id': 'd9ee58ed832057ba5b666d2af30663e0b49bcada', 'name': 'Blk 104B', 'place_id': 'ChIJaw7gQtAb2jERewWAqcfEGmU', 'plus_code': {'compound_code': '7RJ6+FV Singapore', 'global_code': '6PH57RJ6+FV'}, 'rating': 1, 'reference': 'ChIJaw7gQtAb2jERewWAqcfEGmU', 'types': ['bus_station', 'transit_station', 'point_of_interest', 'establishment'], 'user_ratings_total': 1}\n",
      "{'formatted_address': '203 Bishan Street 23, Singapore', 'geometry': {'location': {'lat': 1.354847, 'lng': 103.8473389}, 'viewport': {'northeast': {'lat': 1.356230729892722, 'lng': 103.8486675798927}, 'southwest': {'lat': 1.353531070107278, 'lng': 103.8459679201073}}}, 'icon': 'https://maps.gstatic.com/mapfiles/place_api/icons/geocode-71.png', 'id': '2c8f2cf3ab84bb28a877d8a90dbcb42d3ed65e4d', 'name': '203 Bishan Street 23', 'place_id': 'ChIJnUff5BgX2jERFcKnsFR326k', 'plus_code': {'compound_code': '9R3W+WW Singapore', 'global_code': '6PH59R3W+WW'}, 'reference': 'ChIJnUff5BgX2jERFcKnsFR326k', 'types': ['street_address']}\n",
      "{'formatted_address': '415 Jurong West Street 42, Singapore', 'geometry': {'location': {'lat': 1.3528734, 'lng': 103.7250024}, 'viewport': {'northeast': {'lat': 1.354071429892722, 'lng': 103.7262996798927}, 'southwest': {'lat': 1.351371770107278, 'lng': 103.7236000201073}}}, 'icon': 'https://maps.gstatic.com/mapfiles/place_api/icons/geocode-71.png', 'id': 'e72c8f8101c684ddc4118d3ce72d6e31f88edf21', 'name': '415 Jurong West Street 42', 'photos': [{'height': 4032, 'html_attributions': ['<a href=\"https://maps.google.com/maps/contrib/117644514780585990274/photos\">Jasper Sim</a>'], 'photo_reference': 'CmRaAAAAmzlH9f9sSzx0ubnrO_P7shiRxNokWEGwYaG0GEKQSxf2r9GNR4tDp4a7rLVA1mssOr_aVz2UFYAKsYMoRzv438oddCZpew_NGUSpVe-3fmthFoddy81YjgIAKmSJxQBSEhApTk5QsqxhgG5HVDUqqHfKGhQjGE8izxytMcMvF9aPmkZ812o0Yg', 'width': 3024}], 'place_id': 'ChIJMSBkp9kP2jER2BSiiok_dp4', 'reference': 'ChIJMSBkp9kP2jER2BSiiok_dp4', 'types': ['premise']}\n",
      "{'formatted_address': 'Singapore', 'geometry': {'location': {'lat': 1.381333, 'lng': 103.888214}, 'viewport': {'northeast': {'lat': 1.382704679892722, 'lng': 103.8895386798927}, 'southwest': {'lat': 1.380005020107278, 'lng': 103.8868390201073}}}, 'icon': 'https://maps.gstatic.com/mapfiles/place_api/icons/generic_business-71.png', 'id': '3c882e0369163abd0c265d2007ef732a352362dd', 'name': 'Blk 565', 'photos': [{'height': 1891, 'html_attributions': ['<a href=\"https://maps.google.com/maps/contrib/116968639964397496913/photos\">A Google User</a>'], 'photo_reference': 'CmRaAAAAt_gVHKmrZNXIy4KLWchQtzMk-FTNiRm1IaNQShTr21HtMT3pkvafE21NmUmAFdFDO1NJgqtat9Zu7jkHv1ijsoUD2WogJpRAY0ZG0JBSYkC3U-mQSmSZ2Sk-jWtHldGiEhD0EV_jCnsSTKAmsGvHdYOnGhRp7WFmL2PPjih12t-_5wK2es4Ltw', 'width': 1552}], 'place_id': 'ChIJQeddtUEW2jERtwVw-87LKr8', 'plus_code': {'compound_code': '9VJQ+G7 Singapore', 'global_code': '6PH59VJQ+G7'}, 'rating': 3, 'reference': 'ChIJQeddtUEW2jERtwVw-87LKr8', 'types': ['transit_station', 'point_of_interest', 'establishment'], 'user_ratings_total': 2}\n",
      "{'formatted_address': '333 Hougang Ave 5, Singapore', 'geometry': {'location': {'lat': 1.3677894, 'lng': 103.8960722}, 'viewport': {'northeast': {'lat': 1.369139229892722, 'lng': 103.8974220298927}, 'southwest': {'lat': 1.366439570107278, 'lng': 103.8947223701073}}}, 'icon': 'https://maps.gstatic.com/mapfiles/place_api/icons/geocode-71.png', 'id': '90b16f22d3d95a601b7b140055057c498936f017', 'name': '333 Hougang Ave 5', 'place_id': 'EhwzMzMgSG91Z2FuZyBBdmUgNSwgU2luZ2Fwb3JlIhsSGQoUChIJL_tBGTQW2jERPOSA1gPu-1YQzQI', 'reference': 'EhwzMzMgSG91Z2FuZyBBdmUgNSwgU2luZ2Fwb3JlIhsSGQoUChIJL_tBGTQW2jERPOSA1gPu-1YQzQI', 'types': ['street_address']}\n",
      "{'formatted_address': 'Singapore', 'geometry': {'location': {'lat': 1.351555, 'lng': 103.749985}, 'viewport': {'northeast': {'lat': 1.352829929892722, 'lng': 103.7514697298927}, 'southwest': {'lat': 1.350130270107278, 'lng': 103.7487700701073}}}, 'icon': 'https://maps.gstatic.com/mapfiles/place_api/icons/bus-71.png', 'id': '61f2c0cca3d00933a0c9023943f741163b054c45', 'name': 'Aft Bt Batok Stn/Blk 628', 'photos': [{'height': 2988, 'html_attributions': ['<a href=\"https://maps.google.com/maps/contrib/101764081882718173225/photos\">yantat ng</a>'], 'photo_reference': 'CmRaAAAAhUaNsoRLqMKqVJJZmAd-cEdO-iAAE4sMq79Y4jYZb9g7gDj-CTBh0mbmheTXQG1ucVFwX20lB1qW5gDedS67EKG8RdJQKcar0muoGtnCge3Zl1SW4H4iO0MhO2eHwlEzEhCGPTAsjQl5gRU-_z2w93yqGhTxHczLaXIZjkNsXoWfg4FTEr_v4g', 'width': 5312}], 'place_id': 'ChIJZaPewjgQ2jERVehkm3ddCrw', 'plus_code': {'compound_code': '9P2X+JX Singapore', 'global_code': '6PH59P2X+JX'}, 'rating': 3.5, 'reference': 'ChIJZaPewjgQ2jERVehkm3ddCrw', 'types': ['bus_station', 'transit_station', 'point_of_interest', 'establishment'], 'user_ratings_total': 4}\n",
      "{'formatted_address': '988c Buangkok Green, Singapore', 'geometry': {'location': {'lat': 1.3802251, 'lng': 103.8773612}, 'viewport': {'northeast': {'lat': 1.381591279892722, 'lng': 103.8785825798927}, 'southwest': {'lat': 1.378891620107278, 'lng': 103.8758829201073}}}, 'icon': 'https://maps.gstatic.com/mapfiles/place_api/icons/generic_business-71.png', 'id': 'c2c8e7ddc8cc2d3f360ece159032cb84d1b940e0', 'name': 'Blk 988C Buangkok Green', 'photos': [{'height': 1836, 'html_attributions': ['<a href=\"https://maps.google.com/maps/contrib/116092675967851867626/photos\">Ivan Lee</a>'], 'photo_reference': 'CmRaAAAAwbGBN6pv7APnLVad2cQA3WIgXIwPbcMOg3JDek-Dg_Kj6VHmMspAlJuEjvUtrXzXLV2BQ9F7hixYoCVf1s4jNS8JL5_eK4NskSUMOimsapdGL-1y53DoeHOt1jsxmnLFEhDxZgRpn9zKXd9wdZ-DldHIGhQLD4pQ7hNrXk81Ri0vXhSptubRjA', 'width': 3264}], 'place_id': 'ChIJQ_pb_VwW2jERX6OafKp8W60', 'plus_code': {'compound_code': '9VJG+3W Singapore', 'global_code': '6PH59VJG+3W'}, 'rating': 4.1, 'reference': 'ChIJQ_pb_VwW2jERX6OafKp8W60', 'types': ['point_of_interest', 'establishment'], 'user_ratings_total': 7}\n",
      "{'formatted_address': '532988, 988 Buangkok Green, Singapore', 'geometry': {'location': {'lat': 1.3797576, 'lng': 103.8771738}, 'viewport': {'northeast': {'lat': 1.381104529892722, 'lng': 103.8784873798927}, 'southwest': {'lat': 1.378404870107278, 'lng': 103.8757877201073}}}, 'icon': 'https://maps.gstatic.com/mapfiles/place_api/icons/generic_business-71.png', 'id': 'd91d12d230844fd683c63158dcec48d3c7a035cd', 'name': 'Buangkok Green Blk 988B', 'photos': [{'height': 2878, 'html_attributions': ['<a href=\"https://maps.google.com/maps/contrib/101817157304703070319/photos\">WARRIC NG</a>'], 'photo_reference': 'CmRaAAAAdfWznfglzboJIGm_OhaZeEtR1IizyuLgnc0pHalNvWXWCas-T45DnkIWfSXsq0f_VnPeCxRtTMHQzjvlHhkgy8F_8o_mjJGF3i_8y3_rvFDzujJ_PJLGbBTrjb1-whbxEhBxczPYKZztV58m8wflsXhiGhR4qV3X9K_zoQyALp_OmlNmCERYMg', 'width': 3837}], 'place_id': 'ChIJAZRG-lwW2jEREp9DctceAZM', 'plus_code': {'compound_code': '9VHG+WV Singapore', 'global_code': '6PH59VHG+WV'}, 'rating': 4.4, 'reference': 'ChIJAZRG-lwW2jEREp9DctceAZM', 'types': ['point_of_interest', 'establishment'], 'user_ratings_total': 8}\n",
      "{'formatted_address': 'Singapore', 'geometry': {'location': {'lat': 1.368692, 'lng': 103.95816}, 'viewport': {'northeast': {'lat': 1.370001129892722, 'lng': 103.9594935798927}, 'southwest': {'lat': 1.367301470107278, 'lng': 103.9567939201073}}}, 'icon': 'https://maps.gstatic.com/mapfiles/place_api/icons/generic_business-71.png', 'id': 'cc1c692430cf966e64e89fdbf681e61f7335eb32', 'name': 'Blk 442', 'place_id': 'ChIJQXSUiKw92jER23ukcoGmvXs', 'plus_code': {'compound_code': '9X95+F7 Singapore', 'global_code': '6PH59X95+F7'}, 'rating': 3, 'reference': 'ChIJQXSUiKw92jER23ukcoGmvXs', 'types': ['transit_station', 'point_of_interest', 'establishment'], 'user_ratings_total': 5}\n",
      "{'formatted_address': 'Choa Chu Kang Street 52, Singapore', 'geometry': {'location': {'lat': 1.3949368, 'lng': 103.7440931}, 'viewport': {'northeast': {'lat': 1.396312479892722, 'lng': 103.7454250298927}, 'southwest': {'lat': 1.393612820107278, 'lng': 103.7427253701073}}}, 'icon': 'https://maps.gstatic.com/mapfiles/place_api/icons/lodging-71.png', 'id': 'bf9037f4a0b53f30aa2d1fbe1ea735a945410ddb', 'name': 'Blk 570', 'photos': [{'height': 4032, 'html_attributions': ['<a href=\"https://maps.google.com/maps/contrib/114042566224881242127/photos\">HG Tan</a>'], 'photo_reference': 'CmRaAAAAyE0zlG144AaLpt2NHGzfW2VFT6xMeVEttK22eZDfRMxjsUCPdq07oWitmuNX5C4qT0SQYdBmc8IDWHHQoOA1PbAIDieniui9AtDsYWiHuwyxwsOQyfFS2ZQwQ2EJKcbXEhAcebuRVzKpFLwUz1JnDMVnGhQdZk9BBFVWGREoiN3niB8VXKWzJw', 'width': 1960}], 'place_id': 'ChIJc_KEqPER2jERkaCUEiiEHTE', 'plus_code': {'compound_code': '9PVV+XJ Singapore', 'global_code': '6PH59PVV+XJ'}, 'rating': 5, 'reference': 'ChIJc_KEqPER2jERkaCUEiiEHTE', 'types': ['lodging', 'point_of_interest', 'establishment'], 'user_ratings_total': 1}\n",
      "{'formatted_address': '573 Choa Chu Kang Street 52, Singapore', 'geometry': {'location': {'lat': 1.3944461, 'lng': 103.7450579}, 'viewport': {'northeast': {'lat': 1.395816779892722, 'lng': 103.7463739298927}, 'southwest': {'lat': 1.393117120107278, 'lng': 103.7436742701073}}}, 'icon': 'https://maps.gstatic.com/mapfiles/place_api/icons/geocode-71.png', 'id': 'b3e0f805e7abd9d1a4dc13cdeadeb4033e943b39', 'name': '573 Choa Chu Kang Street 52', 'place_id': 'ChIJDwdyl_ER2jERj2I4GNfG_U8', 'plus_code': {'compound_code': '9PVW+Q2 Singapore', 'global_code': '6PH59PVW+Q2'}, 'reference': 'ChIJDwdyl_ER2jERj2I4GNfG_U8', 'types': ['street_address']}\n",
      "{'formatted_address': '318 Hougang Ave 5, Singapore', 'geometry': {'location': {'lat': 1.3657206, 'lng': 103.8962064}, 'viewport': {'northeast': {'lat': 1.367214229892722, 'lng': 103.8975465298927}, 'southwest': {'lat': 1.364514570107278, 'lng': 103.8948468701073}}}, 'icon': 'https://maps.gstatic.com/mapfiles/place_api/icons/geocode-71.png', 'id': '8fdc004c05bf7dbd9d331bdd198e91a7ebfa13a2', 'name': '318 Hougang Ave 5', 'place_id': 'ChIJ8cVGjzQW2jERg8KXlUTheG0', 'reference': 'ChIJ8cVGjzQW2jERg8KXlUTheG0', 'types': ['premise']}\n",
      "{'formatted_address': '488 Segar Rd, Singapore', 'geometry': {'location': {'lat': 1.3894877, 'lng': 103.7712567}, 'viewport': {'northeast': {'lat': 1.390682579892722, 'lng': 103.7730221298927}, 'southwest': {'lat': 1.387982920107278, 'lng': 103.7703224701073}}}, 'icon': 'https://maps.gstatic.com/mapfiles/place_api/icons/geocode-71.png', 'id': 'dc31bf5f33ad459460e3402777eef5f5b3bf42ce', 'name': '488 Segar Rd', 'place_id': 'ChIJjwtnEpwR2jER4g0C6Y7scXc', 'plus_code': {'compound_code': '9QQC+QG Singapore', 'global_code': '6PH59QQC+QG'}, 'reference': 'ChIJjwtnEpwR2jER4g0C6Y7scXc', 'types': ['street_address']}\n",
      "{'formatted_address': '572 Choa Chu Kang Street 52, Singapore', 'geometry': {'location': {'lat': 1.3944068, 'lng': 103.745126}, 'viewport': {'northeast': {'lat': 1.395798129892722, 'lng': 103.7464085798927}, 'southwest': {'lat': 1.393098470107278, 'lng': 103.7437089201073}}}, 'icon': 'https://maps.gstatic.com/mapfiles/place_api/icons/geocode-71.png', 'id': 'ca717a6e034e860c2df6c00672e5dca3d73691ef', 'name': '572 Choa Chu Kang Street 52', 'place_id': 'ChIJAUFfl_ER2jERlNteYriobY0', 'plus_code': {'compound_code': '9PVW+Q3 Singapore', 'global_code': '6PH59PVW+Q3'}, 'reference': 'ChIJAUFfl_ER2jERlNteYriobY0', 'types': ['street_address']}\n",
      "{'formatted_address': '463c Sembawang Dr, Singapore', 'geometry': {'location': {'lat': 1.4561842, 'lng': 103.8144872}, 'viewport': {'northeast': {'lat': 1.457555679892722, 'lng': 103.8159610798927}, 'southwest': {'lat': 1.454856020107278, 'lng': 103.8132614201073}}}, 'icon': 'https://maps.gstatic.com/mapfiles/place_api/icons/geocode-71.png', 'id': 'a899ddd72c8653c387e0f25f6341303ec37fa966', 'name': '463c Sembawang Dr', 'place_id': 'ChIJT7n1ImcT2jERCTPuJyinBv0', 'plus_code': {'compound_code': 'FR47+FQ Singapore', 'global_code': '6PH5FR47+FQ'}, 'reference': 'ChIJT7n1ImcT2jERCTPuJyinBv0', 'types': ['street_address']}\n",
      "{'formatted_address': '336 Yishun Street 31, Singapore', 'geometry': {'location': {'lat': 1.4310548, 'lng': 103.8450059}, 'viewport': {'northeast': {'lat': 1.432404629892722, 'lng': 103.8463557298927}, 'southwest': {'lat': 1.429704970107278, 'lng': 103.8436560701073}}}, 'icon': 'https://maps.gstatic.com/mapfiles/place_api/icons/geocode-71.png', 'id': '4ccb18ebfe2874a59787782545692f0d29cd7439', 'name': '336 Yishun Street 31', 'place_id': 'Eh8zMzYgWWlzaHVuIFN0cmVldCAzMSwgU2luZ2Fwb3JlIhsSGQoUChIJkd9pYF0U2jERtNkOylbiRBMQ0AI', 'reference': 'Eh8zMzYgWWlzaHVuIFN0cmVldCAzMSwgU2luZ2Fwb3JlIhsSGQoUChIJkd9pYF0U2jERtNkOylbiRBMQ0AI', 'types': ['street_address']}\n",
      "{'formatted_address': '336C Yishun Street 31, Singapore', 'geometry': {'location': {'lat': 1.4319543, 'lng': 103.8444058}, 'viewport': {'northeast': {'lat': 1.433271629892722, 'lng': 103.8458187298927}, 'southwest': {'lat': 1.430571970107278, 'lng': 103.8431190701073}}}, 'icon': 'https://maps.gstatic.com/mapfiles/place_api/icons/generic_business-71.png', 'id': '5fb5bfc4c6d3b3f66e3c8c8c418d5e6e1880842a', 'name': '336C Yishun Street 31', 'place_id': 'ChIJI-SHeGcU2jEReDdkauD7Uyo', 'reference': 'ChIJI-SHeGcU2jEReDdkauD7Uyo', 'types': ['premise', 'establishment']}\n",
      "{'formatted_address': '486 Segar Rd, Singapore', 'geometry': {'location': {'lat': 1.3883102, 'lng': 103.7721399}, 'viewport': {'northeast': {'lat': 1.389587079892722, 'lng': 103.7735913298927}, 'southwest': {'lat': 1.386887420107278, 'lng': 103.7708916701073}}}, 'icon': 'https://maps.gstatic.com/mapfiles/place_api/icons/geocode-71.png', 'id': 'fc313aadb4598322c11aece6df4a83dc875b3734', 'name': '486 Segar Rd', 'place_id': 'ChIJwSvaF5wR2jERXDRYFDb_dB4', 'plus_code': {'compound_code': '9QQC+8V Singapore', 'global_code': '6PH59QQC+8V'}, 'reference': 'ChIJwSvaF5wR2jERXDRYFDb_dB4', 'types': ['street_address']}\n",
      "{'formatted_address': '183B Boon Lay Dr, 183B, Singapore', 'geometry': {'location': {'lat': 1.3482974, 'lng': 103.7096887}, 'viewport': {'northeast': {'lat': 1.349579629892722, 'lng': 103.7110811798927}, 'southwest': {'lat': 1.346879970107278, 'lng': 103.7083815201073}}}, 'icon': 'https://maps.gstatic.com/mapfiles/place_api/icons/geocode-71.png', 'id': '38e0c6dd60bc9a360456342f174b84150342f301', 'name': '183B', 'place_id': 'ChIJBcV9qMEP2jERS91xGbwvRT0', 'reference': 'ChIJBcV9qMEP2jERS91xGbwvRT0', 'types': ['premise']}\n",
      "{'formatted_address': '485 Segar Rd, Singapore', 'geometry': {'location': {'lat': 1.3886816, 'lng': 103.7713251}, 'viewport': {'northeast': {'lat': 1.389987029892722, 'lng': 103.7724398798927}, 'southwest': {'lat': 1.387287370107278, 'lng': 103.7697402201073}}}, 'icon': 'https://maps.gstatic.com/mapfiles/place_api/icons/geocode-71.png', 'id': '8b877d10d5572356a08ab093970ff497c4031d9f', 'name': '485 Segar Rd', 'place_id': 'ChIJ9xkIPJwR2jERVqP0zQzLfTo', 'reference': 'ChIJ9xkIPJwR2jERVqP0zQzLfTo', 'types': ['premise']}\n",
      "{'formatted_address': '782A Woodlands Cres, Singapore', 'geometry': {'location': {'lat': 1.4472968, 'lng': 103.8025195}, 'viewport': {'northeast': {'lat': 1.448431629892722, 'lng': 103.8038365298927}, 'southwest': {'lat': 1.445731970107278, 'lng': 103.8011368701073}}}, 'icon': 'https://maps.gstatic.com/mapfiles/place_api/icons/geocode-71.png', 'id': 'afd4e6a0144368dc288632271e3732d523d7ac27', 'name': '782A Woodlands Cres', 'place_id': 'ChIJGaOah3IT2jERCC_Ko5K02QM', 'plus_code': {'compound_code': 'CRW3+W2 Singapore', 'global_code': '6PH5CRW3+W2'}, 'reference': 'ChIJGaOah3IT2jERCC_Ko5K02QM', 'types': ['street_address']}\n",
      "{'formatted_address': '571 Choa Chu Kang Street 52, Singapore', 'geometry': {'location': {'lat': 1.3945094, 'lng': 103.7451851}, 'viewport': {'northeast': {'lat': 1.395899779892722, 'lng': 103.7464692298927}, 'southwest': {'lat': 1.393200120107278, 'lng': 103.7437695701073}}}, 'icon': 'https://maps.gstatic.com/mapfiles/place_api/icons/geocode-71.png', 'id': '75dfed65ee385ad1b30b27722939b40bd05f80a5', 'name': '571 Choa Chu Kang Street 52', 'place_id': 'ChIJv6b5mfER2jERy92qR9T-wmA', 'plus_code': {'compound_code': '9PVW+R3 Singapore', 'global_code': '6PH59PVW+R3'}, 'reference': 'ChIJv6b5mfER2jERy92qR9T-wmA', 'types': ['street_address']}\n",
      "{'formatted_address': '782B Woodlands Cres, Singapore', 'geometry': {'location': {'lat': 1.4471739, 'lng': 103.8031968}, 'viewport': {'northeast': {'lat': 1.448345329892722, 'lng': 103.8043907298927}, 'southwest': {'lat': 1.445645670107278, 'lng': 103.8016910701073}}}, 'icon': 'https://maps.gstatic.com/mapfiles/place_api/icons/geocode-71.png', 'id': 'a2bbc8f2ad77a3f4d3b6c9430585f4717417eabe', 'name': '782B Woodlands Cres', 'place_id': 'ChIJF710h3IT2jERVH6IHIAxftk', 'plus_code': {'compound_code': 'CRW3+V7 Singapore', 'global_code': '6PH5CRW3+V7'}, 'reference': 'ChIJF710h3IT2jERVH6IHIAxftk', 'types': ['street_address']}\n",
      "{'formatted_address': '546B Segar Rd, Singapore', 'geometry': {'location': {'lat': 1.3887602, 'lng': 103.7698285}, 'viewport': {'northeast': {'lat': 1.390282679892722, 'lng': 103.7712855798927}, 'southwest': {'lat': 1.387583020107278, 'lng': 103.7685859201073}}}, 'icon': 'https://maps.gstatic.com/mapfiles/place_api/icons/geocode-71.png', 'id': 'b741b2f8eb39c4360c565c1aa7255731a567f0d7', 'name': '546B Segar Rd', 'place_id': 'ChIJp0hNCZwR2jERDb0iJLhClyE', 'plus_code': {'compound_code': '9QQ9+GW Singapore', 'global_code': '6PH59QQ9+GW'}, 'reference': 'ChIJp0hNCZwR2jERDb0iJLhClyE', 'types': ['street_address']}\n",
      "{'formatted_address': '424d Yishun Ave 11, Singapore', 'geometry': {'location': {'lat': 1.4227667, 'lng': 103.8490934}, 'viewport': {'northeast': {'lat': 1.424110679892722, 'lng': 103.8503141298927}, 'southwest': {'lat': 1.421411020107278, 'lng': 103.8476144701073}}}, 'icon': 'https://maps.gstatic.com/mapfiles/place_api/icons/geocode-71.png', 'id': '73cdc49928c90ce295b60dc94fdb7d57b8a5d8d2', 'name': '424d Yishun Ave 11', 'place_id': 'ChIJm2KZH0EU2jERpAh7l1Bxecw', 'plus_code': {'compound_code': 'CRFX+4J Singapore', 'global_code': '6PH5CRFX+4J'}, 'reference': 'ChIJm2KZH0EU2jERpAh7l1Bxecw', 'types': ['street_address']}\n",
      "{'formatted_address': 'Blk, 335C Yishun Street 31, Singapore', 'geometry': {'location': {'lat': 1.4327547, 'lng': 103.8442146}, 'viewport': {'northeast': {'lat': 1.434104529892722, 'lng': 103.8455644298927}, 'southwest': {'lat': 1.431404870107278, 'lng': 103.8428647701073}}}, 'icon': 'https://maps.gstatic.com/mapfiles/place_api/icons/generic_business-71.png', 'id': '5711e9d3097dd59595f9f1b91481a1b5f7e0a9d5', 'name': 'Blk 335C Yishun Street 31', 'place_id': 'ChIJ-1MQZWcU2jERKZOXlLSYXJU', 'plus_code': {'compound_code': 'CRMV+4M Singapore', 'global_code': '6PH5CRMV+4M'}, 'rating': 0, 'reference': 'ChIJ-1MQZWcU2jERKZOXlLSYXJU', 'types': ['point_of_interest', 'establishment'], 'user_ratings_total': 0}\n",
      "{'formatted_address': '546A Segar Rd, Singapore', 'geometry': {'location': {'lat': 1.3886142, 'lng': 103.7703292}, 'viewport': {'northeast': {'lat': 1.390086579892722, 'lng': 103.7717335798927}, 'southwest': {'lat': 1.387386920107278, 'lng': 103.7690339201073}}}, 'icon': 'https://maps.gstatic.com/mapfiles/place_api/icons/geocode-71.png', 'id': '250cb4adc80e31d016d4a1c5db2c303ae69717ce', 'name': '546A Segar Rd', 'place_id': 'ChIJvcuXD5wR2jER1gmEYg1P0u8', 'reference': 'ChIJvcuXD5wR2jER1gmEYg1P0u8', 'types': ['premise']}\n",
      "{'formatted_address': '424 Yishun Ave 11, Singapore', 'geometry': {'location': {'lat': 1.422952, 'lng': 103.8490538}, 'viewport': {'northeast': {'lat': 1.424577629892722, 'lng': 103.8503981298927}, 'southwest': {'lat': 1.421877970107278, 'lng': 103.8476984701073}}}, 'icon': 'https://maps.gstatic.com/mapfiles/place_api/icons/geocode-71.png', 'id': 'e5a5ea3bf7793035218c4bc3cfc16e084b4fc069', 'name': '424 Yishun Ave 11', 'place_id': 'ChIJgU0gCEEU2jERMonUjskYENU', 'plus_code': {'compound_code': 'CRFX+5J Singapore', 'global_code': '6PH5CRFX+5J'}, 'reference': 'ChIJgU0gCEEU2jERMonUjskYENU', 'types': ['street_address']}\n",
      "{'formatted_address': '430A Yishun Ave 11, Singapore', 'geometry': {'location': {'lat': 1.4211079, 'lng': 103.8486545}, 'viewport': {'northeast': {'lat': 1.422359829892722, 'lng': 103.8501209798927}, 'southwest': {'lat': 1.419660170107278, 'lng': 103.8474213201073}}}, 'icon': 'https://maps.gstatic.com/mapfiles/place_api/icons/geocode-71.png', 'id': '1c9d9516fdd7ed40fd41b2acef55c42b22edf385', 'name': '430A Yishun Ave 11', 'place_id': 'ChIJ9fJshkAU2jER01MQV0sID10', 'plus_code': {'compound_code': 'CRCX+CF Singapore', 'global_code': '6PH5CRCX+CF'}, 'reference': 'ChIJ9fJshkAU2jER01MQV0sID10', 'types': ['street_address']}\n",
      "{'formatted_address': '333 A Yishun Street 31, Singapore', 'geometry': {'location': {'lat': 1.431855, 'lng': 103.8450124}, 'viewport': {'northeast': {'lat': 1.432995879892722, 'lng': 103.8466805798927}, 'southwest': {'lat': 1.430296220107278, 'lng': 103.8439809201073}}}, 'icon': 'https://maps.gstatic.com/mapfiles/place_api/icons/geocode-71.png', 'id': '7facdbd2472f9cc9a57bbe2242d37424827c0fb2', 'name': '333 A Yishun Street 31', 'place_id': 'ChIJsVwRf10U2jER6I3IgFTs7Kg', 'plus_code': {'compound_code': 'CRJW+P2 Singapore', 'global_code': '6PH5CRJW+P2'}, 'reference': 'ChIJsVwRf10U2jER6I3IgFTs7Kg', 'types': ['street_address']}\n",
      "{'formatted_address': '334b Yishun Street 31, Singapore', 'geometry': {'location': {'lat': 1.4326242, 'lng': 103.8454922}, 'viewport': {'northeast': {'lat': 1.434063929892722, 'lng': 103.8468433798927}, 'southwest': {'lat': 1.431364270107278, 'lng': 103.8441437201073}}}, 'icon': 'https://maps.gstatic.com/mapfiles/place_api/icons/geocode-71.png', 'id': '09745ea85d8773c35493752536cd27a7f3eb5b47', 'name': '334b Yishun Street 31', 'place_id': 'ChIJzwdahV0U2jER0N06PVZTQSg', 'plus_code': {'compound_code': 'CRMW+25 Singapore', 'global_code': '6PH5CRMW+25'}, 'reference': 'ChIJzwdahV0U2jER0N06PVZTQSg', 'types': ['street_address']}\n",
      "{'formatted_address': '547D Segar Rd, Singapore', 'geometry': {'location': {'lat': 1.3888587, 'lng': 103.7690346}, 'viewport': {'northeast': {'lat': 1.390394479892722, 'lng': 103.7702682298927}, 'southwest': {'lat': 1.387694820107278, 'lng': 103.7675685701073}}}, 'icon': 'https://maps.gstatic.com/mapfiles/place_api/icons/geocode-71.png', 'id': '9ae818e6d1204b91ee88a6f074f701be89a237c5', 'name': '547D Segar Rd', 'place_id': 'ChIJCT6qCpwR2jER-9fJDwVCsL0', 'plus_code': {'compound_code': '9QQ9+GJ Singapore', 'global_code': '6PH59QQ9+GJ'}, 'reference': 'ChIJCT6qCpwR2jER-9fJDwVCsL0', 'types': ['street_address']}\n",
      "{'formatted_address': '547A Segar Rd, Singapore', 'geometry': {'location': {'lat': 1.3882214, 'lng': 103.7699056}, 'viewport': {'northeast': {'lat': 1.389946829892722, 'lng': 103.7714308298927}, 'southwest': {'lat': 1.387247170107278, 'lng': 103.7687311701073}}}, 'icon': 'https://maps.gstatic.com/mapfiles/place_api/icons/geocode-71.png', 'id': 'a5dff68f40a6bfc399bc8b8826de1c8ba5811185', 'name': '547A Segar Rd', 'place_id': 'ChIJf0kKBJwR2jERM7MC0etoEXI', 'plus_code': {'compound_code': '9QQ9+7X Singapore', 'global_code': '6PH59QQ9+7X'}, 'reference': 'ChIJf0kKBJwR2jERM7MC0etoEXI', 'types': ['street_address']}\n",
      "{'formatted_address': '546C Segar Rd, Singapore', 'geometry': {'location': {'lat': 1.3888878, 'lng': 103.7696255}, 'viewport': {'northeast': {'lat': 1.390414779892722, 'lng': 103.7710738298927}, 'southwest': {'lat': 1.387715120107278, 'lng': 103.7683741701073}}}, 'icon': 'https://maps.gstatic.com/mapfiles/place_api/icons/geocode-71.png', 'id': 'b5158b6748295246d7ff36c2d174c623b48bb9d0', 'name': '546C Segar Rd', 'place_id': 'ChIJiWZJCpwR2jERPWm3WhaloBc', 'plus_code': {'compound_code': '9QQ9+HV Singapore', 'global_code': '6PH59QQ9+HV'}, 'reference': 'ChIJiWZJCpwR2jERPWm3WhaloBc', 'types': ['street_address']}\n",
      "{'formatted_address': '470A Upper Serangoon Cres, Singapore', 'geometry': {'location': {'lat': 1.379178, 'lng': 103.9019715}, 'viewport': {'northeast': {'lat': 1.380399179892722, 'lng': 103.9033761298927}, 'southwest': {'lat': 1.377699520107278, 'lng': 103.9006764701073}}}, 'icon': 'https://maps.gstatic.com/mapfiles/place_api/icons/geocode-71.png', 'id': '9c5da8f7c1a687186745741e19a7ff9347994564', 'name': '470A Upper Serangoon Cres', 'place_id': 'ChIJCZolCjsW2jERiiW8UWxxVT0', 'plus_code': {'compound_code': '9WH2+MQ Singapore', 'global_code': '6PH59WH2+MQ'}, 'reference': 'ChIJCZolCjsW2jERiiW8UWxxVT0', 'types': ['street_address']}\n",
      "{'formatted_address': '470C Upper Serangoon Cres, Singapore', 'geometry': {'location': {'lat': 1.3785293, 'lng': 103.9010319}, 'viewport': {'northeast': {'lat': 1.379505929892722, 'lng': 103.9025284298927}, 'southwest': {'lat': 1.376806270107278, 'lng': 103.8998287701073}}}, 'icon': 'https://maps.gstatic.com/mapfiles/place_api/icons/geocode-71.png', 'id': '0c2251f6549b1b227dd887c43781c158ec8ba50f', 'name': '470C Upper Serangoon Cres', 'place_id': 'ChIJBd6QkTwW2jERZUR3wsYYCcQ', 'reference': 'ChIJBd6QkTwW2jERZUR3wsYYCcQ', 'types': ['premise']}\n",
      "{'formatted_address': '471b Upper Serangoon Cres, Singapore', 'geometry': {'location': {'lat': 1.3776955, 'lng': 103.9008708}, 'viewport': {'northeast': {'lat': 1.378990529892722, 'lng': 103.9022568798927}, 'southwest': {'lat': 1.376290870107278, 'lng': 103.8995572201073}}}, 'icon': 'https://maps.gstatic.com/mapfiles/place_api/icons/geocode-71.png', 'id': '486aecf8d2512269a2113d92ed2c9e2b09672c48', 'name': '471b Upper Serangoon Cres', 'place_id': 'ChIJv4RpYjsW2jERa6y3kQUTJIg', 'plus_code': {'compound_code': '9WH2+38 Singapore', 'global_code': '6PH59WH2+38'}, 'reference': 'ChIJv4RpYjsW2jERa6y3kQUTJIg', 'types': ['street_address']}\n",
      "{'formatted_address': '332C Anchorvale Link, Blk 332B, Singapore', 'geometry': {'location': {'lat': 1.3951513, 'lng': 103.8914065}, 'viewport': {'northeast': {'lat': 1.396653029892722, 'lng': 103.8927848798927}, 'southwest': {'lat': 1.393953370107278, 'lng': 103.8900852201073}}}, 'icon': 'https://maps.gstatic.com/mapfiles/place_api/icons/geocode-71.png', 'id': 'ab1858eec551a3a03f9e06f4f47a9462f8096e86', 'name': 'Blk 332B', 'place_id': 'ChIJA8KQywwW2jER25Qi-vZH2-Y', 'reference': 'ChIJA8KQywwW2jER25Qi-vZH2-Y', 'types': ['premise']}\n",
      "{'formatted_address': '332C Anchorvale Link, Blk 332B, Singapore', 'geometry': {'location': {'lat': 1.3951513, 'lng': 103.8914065}, 'viewport': {'northeast': {'lat': 1.396653029892722, 'lng': 103.8927848798927}, 'southwest': {'lat': 1.393953370107278, 'lng': 103.8900852201073}}}, 'icon': 'https://maps.gstatic.com/mapfiles/place_api/icons/geocode-71.png', 'id': 'ab1858eec551a3a03f9e06f4f47a9462f8096e86', 'name': 'Blk 332B', 'place_id': 'ChIJA8KQywwW2jER25Qi-vZH2-Y', 'reference': 'ChIJA8KQywwW2jER25Qi-vZH2-Y', 'types': ['premise']}\n",
      "{'formatted_address': '424 Yishun Ave 11, Singapore', 'geometry': {'location': {'lat': 1.422952, 'lng': 103.8490538}, 'viewport': {'northeast': {'lat': 1.424577629892722, 'lng': 103.8503981298927}, 'southwest': {'lat': 1.421877970107278, 'lng': 103.8476984701073}}}, 'icon': 'https://maps.gstatic.com/mapfiles/place_api/icons/geocode-71.png', 'id': 'e5a5ea3bf7793035218c4bc3cfc16e084b4fc069', 'name': '424 Yishun Ave 11', 'place_id': 'ChIJgU0gCEEU2jERMonUjskYENU', 'plus_code': {'compound_code': 'CRFX+5J Singapore', 'global_code': '6PH5CRFX+5J'}, 'reference': 'ChIJgU0gCEEU2jERMonUjskYENU', 'types': ['street_address']}\n",
      "{'formatted_address': '431 Yishun Ave 1, Singapore', 'geometry': {'location': {'lat': 1.4201968, 'lng': 103.8475762}, 'viewport': {'northeast': {'lat': 1.421324329892722, 'lng': 103.8488649298927}, 'southwest': {'lat': 1.418624670107278, 'lng': 103.8461652701073}}}, 'icon': 'https://maps.gstatic.com/mapfiles/place_api/icons/geocode-71.png', 'id': 'b45cf8f4ec8fea0cf7d343cf771102719d27fc83', 'name': '431 Yishun Ave 1', 'place_id': 'ChIJbaSLf0AU2jERT1gKtXOXn50', 'reference': 'ChIJbaSLf0AU2jERT1gKtXOXn50', 'types': ['premise']}\n",
      "{'formatted_address': '431 Yishun Ave 1, Singapore', 'geometry': {'location': {'lat': 1.4201968, 'lng': 103.8475762}, 'viewport': {'northeast': {'lat': 1.421324329892722, 'lng': 103.8488649298927}, 'southwest': {'lat': 1.418624670107278, 'lng': 103.8461652701073}}}, 'icon': 'https://maps.gstatic.com/mapfiles/place_api/icons/geocode-71.png', 'id': 'b45cf8f4ec8fea0cf7d343cf771102719d27fc83', 'name': '431 Yishun Ave 1', 'place_id': 'ChIJbaSLf0AU2jERT1gKtXOXn50', 'reference': 'ChIJbaSLf0AU2jERT1gKtXOXn50', 'types': ['premise']}\n",
      "{'formatted_address': 'Yishun Ave 11, Singapore', 'geometry': {'location': {'lat': 1.4246671, 'lng': 103.8446169}, 'viewport': {'northeast': {'lat': 1.425993329892722, 'lng': 103.8459458298927}, 'southwest': {'lat': 1.423293670107278, 'lng': 103.8432461701073}}}, 'icon': 'https://maps.gstatic.com/mapfiles/place_api/icons/generic_business-71.png', 'id': '71175fb8b8f425e34ea39d84459c64033a7bac92', 'name': 'Blk 428A', 'place_id': 'ChIJqWK-yzEV2jERzYzdUQYad9o', 'plus_code': {'compound_code': 'CRFV+VR Singapore', 'global_code': '6PH5CRFV+VR'}, 'rating': 0, 'reference': 'ChIJqWK-yzEV2jERzYzdUQYad9o', 'types': ['point_of_interest', 'establishment'], 'user_ratings_total': 0}\n",
      "{'formatted_address': '547B Segar Rd, Singapore', 'geometry': {'location': {'lat': 1.3883496, 'lng': 103.7692895}, 'viewport': {'northeast': {'lat': 1.389994879892722, 'lng': 103.7702657798927}, 'southwest': {'lat': 1.387295220107278, 'lng': 103.7675661201073}}}, 'icon': 'https://maps.gstatic.com/mapfiles/place_api/icons/geocode-71.png', 'id': '601c8a3f36a518ca825e7f57081691677ce5233b', 'name': '547B Segar Rd', 'place_id': 'ChIJSyD59psR2jERLEpHF22LVOQ', 'plus_code': {'compound_code': '9QQ9+8P Singapore', 'global_code': '6PH59QQ9+8P'}, 'reference': 'ChIJSyD59psR2jERLEpHF22LVOQ', 'types': ['street_address']}\n",
      "{'formatted_address': '333 Anchorvale Link, Singapore', 'geometry': {'location': {'lat': 1.3945557, 'lng': 103.8907509}, 'viewport': {'northeast': {'lat': 1.395914679892722, 'lng': 103.8920123298927}, 'southwest': {'lat': 1.393215020107278, 'lng': 103.8893126701073}}}, 'icon': 'https://maps.gstatic.com/mapfiles/place_api/icons/geocode-71.png', 'id': '6544d984c6fc5edc49473a356026fc0d22fcbe7b', 'name': '333 Anchorvale Link', 'place_id': 'ChIJdwUzL3MW2jEReHZhUOBvsFo', 'plus_code': {'compound_code': '9VVR+R8 Singapore', 'global_code': '6PH59VVR+R8'}, 'reference': 'ChIJdwUzL3MW2jEReHZhUOBvsFo', 'types': ['street_address']}\n",
      "{'formatted_address': '453 Fernvale Rd, Singapore', 'geometry': {'location': {'lat': 1.393965, 'lng': 103.8752487}, 'viewport': {'northeast': {'lat': 1.395026279892722, 'lng': 103.8768155298927}, 'southwest': {'lat': 1.392326620107278, 'lng': 103.8741158701073}}}, 'icon': 'https://maps.gstatic.com/mapfiles/place_api/icons/geocode-71.png', 'id': 'a27e0fed80d8d8898662ebc928b0a7be1cdb71bf', 'name': '453 Fernvale Rd', 'place_id': 'ChIJnUICc3sW2jERNFccchTmgHg', 'plus_code': {'compound_code': '9VVG+H3 Singapore', 'global_code': '6PH59VVG+H3'}, 'reference': 'ChIJnUICc3sW2jERNFccchTmgHg', 'types': ['street_address']}\n",
      "{'formatted_address': '868a Tampines Ave 8, Singapore', 'geometry': {'location': {'lat': 1.3554659, 'lng': 103.9325981}, 'viewport': {'northeast': {'lat': 1.356882779892722, 'lng': 103.9338359298927}, 'southwest': {'lat': 1.354183120107278, 'lng': 103.9311362701073}}}, 'icon': 'https://maps.gstatic.com/mapfiles/place_api/icons/geocode-71.png', 'id': '1d63bf481c406a6af28959cbea732019abac3de7', 'name': '868a Tampines Ave 8', 'place_id': 'ChIJ29jePHI92jERkx-8ssS5EjQ', 'plus_code': {'compound_code': '9W4M+52 Singapore', 'global_code': '6PH59W4M+52'}, 'reference': 'ChIJ29jePHI92jERkx-8ssS5EjQ', 'types': ['street_address']}\n",
      "{'formatted_address': '782E Woodlands Cres, Singapore', 'geometry': {'location': {'lat': 1.447974, 'lng': 103.8024503}, 'viewport': {'northeast': {'lat': 1.448890729892722, 'lng': 103.8039673798927}, 'southwest': {'lat': 1.446191070107278, 'lng': 103.8012677201073}}}, 'icon': 'https://maps.gstatic.com/mapfiles/place_api/icons/geocode-71.png', 'id': '3c0e0da8a3746a510f1e952bf0e6d58c9835f324', 'name': '782E Woodlands Cres', 'place_id': 'ChIJbcfXgHIT2jERyx_i29K_BFo', 'plus_code': {'compound_code': 'CRX2+5X Singapore', 'global_code': '6PH5CRX2+5X'}, 'reference': 'ChIJbcfXgHIT2jERyx_i29K_BFo', 'types': ['street_address']}\n",
      "{'formatted_address': '424 Yishun Ave 11, Singapore', 'geometry': {'location': {'lat': 1.422952, 'lng': 103.8490538}, 'viewport': {'northeast': {'lat': 1.424577629892722, 'lng': 103.8503981298927}, 'southwest': {'lat': 1.421877970107278, 'lng': 103.8476984701073}}}, 'icon': 'https://maps.gstatic.com/mapfiles/place_api/icons/geocode-71.png', 'id': 'e5a5ea3bf7793035218c4bc3cfc16e084b4fc069', 'name': '424 Yishun Ave 11', 'place_id': 'ChIJgU0gCEEU2jERMonUjskYENU', 'plus_code': {'compound_code': 'CRFX+5J Singapore', 'global_code': '6PH5CRFX+5J'}, 'reference': 'ChIJgU0gCEEU2jERMonUjskYENU', 'types': ['street_address']}\n",
      "{'formatted_address': '334 Yishun Street 31, Singapore', 'geometry': {'location': {'lat': 1.4317554, 'lng': 103.8461949}, 'viewport': {'northeast': {'lat': 1.433105229892722, 'lng': 103.8475447298927}, 'southwest': {'lat': 1.430405570107278, 'lng': 103.8448450701073}}}, 'icon': 'https://maps.gstatic.com/mapfiles/place_api/icons/geocode-71.png', 'id': 'ca8d31e8223b7833147a0c60bda8c44ac5019729', 'name': '334 Yishun Street 31', 'place_id': 'Eh8zMzQgWWlzaHVuIFN0cmVldCAzMSwgU2luZ2Fwb3JlIhsSGQoUChIJJ7CKcV0U2jERhMRah_zc-kMQzgI', 'reference': 'Eh8zMzQgWWlzaHVuIFN0cmVldCAzMSwgU2luZ2Fwb3JlIhsSGQoUChIJJ7CKcV0U2jERhMRah_zc-kMQzgI', 'types': ['street_address']}\n",
      "{'formatted_address': '432 Yishun Ave 1, Singapore', 'geometry': {'location': {'lat': 1.4196527, 'lng': 103.8475568}, 'viewport': {'northeast': {'lat': 1.420947179892722, 'lng': 103.8489666798927}, 'southwest': {'lat': 1.418247520107278, 'lng': 103.8462670201073}}}, 'icon': 'https://maps.gstatic.com/mapfiles/place_api/icons/geocode-71.png', 'id': 'a5bcddd2491ba52c5c7829e819d5ef841d4c6209', 'name': '432 Yishun Ave 1', 'place_id': 'ChIJL2olgz8U2jERDRdHlogawmQ', 'plus_code': {'compound_code': 'CR9X+V2 Singapore', 'global_code': '6PH5CR9X+V2'}, 'reference': 'ChIJL2olgz8U2jERDRdHlogawmQ', 'types': ['street_address']}\n",
      "{'formatted_address': '432 Yishun Ave 1, Singapore', 'geometry': {'location': {'lat': 1.4196527, 'lng': 103.8475568}, 'viewport': {'northeast': {'lat': 1.420947179892722, 'lng': 103.8489666798927}, 'southwest': {'lat': 1.418247520107278, 'lng': 103.8462670201073}}}, 'icon': 'https://maps.gstatic.com/mapfiles/place_api/icons/geocode-71.png', 'id': 'a5bcddd2491ba52c5c7829e819d5ef841d4c6209', 'name': '432 Yishun Ave 1', 'place_id': 'ChIJL2olgz8U2jERDRdHlogawmQ', 'plus_code': {'compound_code': 'CR9X+V2 Singapore', 'global_code': '6PH5CR9X+V2'}, 'reference': 'ChIJL2olgz8U2jERDRdHlogawmQ', 'types': ['street_address']}\n",
      "{'formatted_address': '175A Yung Kuang Rd, Singapore', 'geometry': {'location': {'lat': 1.3321786, 'lng': 103.7214497}, 'viewport': {'northeast': {'lat': 1.333423329892722, 'lng': 103.7230765798927}, 'southwest': {'lat': 1.330723670107278, 'lng': 103.7203769201073}}}, 'icon': 'https://maps.gstatic.com/mapfiles/place_api/icons/geocode-71.png', 'id': '04709993e140f0d19d9269d17623c1d1e40122bf', 'name': '175A Yung Kuang Rd', 'place_id': 'ChIJ3ey-3vsP2jERrH910RWJFw4', 'reference': 'ChIJ3ey-3vsP2jERrH910RWJFw4', 'types': ['premise']}\n",
      "{'formatted_address': '453 Fernvale Rd, Singapore', 'geometry': {'location': {'lat': 1.393965, 'lng': 103.8752487}, 'viewport': {'northeast': {'lat': 1.395026279892722, 'lng': 103.8768155298927}, 'southwest': {'lat': 1.392326620107278, 'lng': 103.8741158701073}}}, 'icon': 'https://maps.gstatic.com/mapfiles/place_api/icons/geocode-71.png', 'id': 'a27e0fed80d8d8898662ebc928b0a7be1cdb71bf', 'name': '453 Fernvale Rd', 'place_id': 'ChIJnUICc3sW2jERNFccchTmgHg', 'plus_code': {'compound_code': '9VVG+H3 Singapore', 'global_code': '6PH59VVG+H3'}, 'reference': 'ChIJnUICc3sW2jERNFccchTmgHg', 'types': ['street_address']}\n",
      "{'formatted_address': '432 Yishun Ave 1, Singapore', 'geometry': {'location': {'lat': 1.4196527, 'lng': 103.8475568}, 'viewport': {'northeast': {'lat': 1.420947179892722, 'lng': 103.8489666798927}, 'southwest': {'lat': 1.418247520107278, 'lng': 103.8462670201073}}}, 'icon': 'https://maps.gstatic.com/mapfiles/place_api/icons/geocode-71.png', 'id': 'a5bcddd2491ba52c5c7829e819d5ef841d4c6209', 'name': '432 Yishun Ave 1', 'place_id': 'ChIJL2olgz8U2jERDRdHlogawmQ', 'plus_code': {'compound_code': 'CR9X+V2 Singapore', 'global_code': '6PH5CR9X+V2'}, 'reference': 'ChIJL2olgz8U2jERDRdHlogawmQ', 'types': ['street_address']}\n",
      "{'formatted_address': '334 D Yishun Street 31, Singapore', 'geometry': {'location': {'lat': 1.4319983, 'lng': 103.8460819}, 'viewport': {'northeast': {'lat': 1.433226729892722, 'lng': 103.8474882798927}, 'southwest': {'lat': 1.430527070107278, 'lng': 103.8447886201073}}}, 'icon': 'https://maps.gstatic.com/mapfiles/place_api/icons/geocode-71.png', 'id': '8c0178279389900926ef124890b7b4fa64005303', 'name': '334 D Yishun Street 31', 'place_id': 'ChIJQQyupl0U2jERSvPTGrnoIwU', 'plus_code': {'compound_code': 'CRJW+QC Singapore', 'global_code': '6PH5CRJW+QC'}, 'reference': 'ChIJQQyupl0U2jERSvPTGrnoIwU', 'types': ['street_address']}\n",
      "{'formatted_address': '175B Yung Kuang Rd, 175B Yung Kuang, Singapore', 'geometry': {'location': {'lat': 1.3330092, 'lng': 103.7208393}, 'viewport': {'northeast': {'lat': 1.334308229892722, 'lng': 103.7221022798927}, 'southwest': {'lat': 1.331608570107278, 'lng': 103.7194026201073}}}, 'icon': 'https://maps.gstatic.com/mapfiles/place_api/icons/generic_business-71.png', 'id': '1ba650fc26c0b17a96564071dba3a0a63de98be2', 'name': '175B Yung Kuang', 'photos': [{'height': 2268, 'html_attributions': ['<a href=\"https://maps.google.com/maps/contrib/111747820893787288080/photos\">Zik Zack</a>'], 'photo_reference': 'CmRaAAAAxQGS_rnzSV1W7ct9UyvHoBPRH5wn0Je-xM728r7fPgxqrfl7y7VbVh_P7yJIuMeTkw93uEN6HDezTwvvNLf9ykX2FtdW-QkUomU3aQEcuD4IWB0JhB82EhUjIzDyEjwaEhBPIQeEYeb_K-FNiSoHezHeGhSOBVkoxGTnwFeAuZRonpv1_WUMaw', 'width': 4032}], 'place_id': 'ChIJXX4xxvsP2jERKdMvKAJXiFA', 'reference': 'ChIJXX4xxvsP2jERKdMvKAJXiFA', 'types': ['premise', 'establishment']}\n",
      "{'formatted_address': '453D Fernvale Rd, Singapore', 'geometry': {'location': {'lat': 1.3938844, 'lng': 103.875099}, 'viewport': {'northeast': {'lat': 1.395247729892722, 'lng': 103.8762781298927}, 'southwest': {'lat': 1.392548070107278, 'lng': 103.8735784701073}}}, 'icon': 'https://maps.gstatic.com/mapfiles/place_api/icons/geocode-71.png', 'id': '7e2344d16a247459470c85b41c007263877ab76a', 'name': '453D Fernvale Rd', 'place_id': 'ChIJ4zH-EnsW2jERXrEgZmFWzXM', 'plus_code': {'compound_code': '9VVG+H2 Singapore', 'global_code': '6PH59VVG+H2'}, 'reference': 'ChIJ4zH-EnsW2jERXrEgZmFWzXM', 'types': ['street_address']}\n",
      "{'formatted_address': '431 Yishun Ave 1, Singapore', 'geometry': {'location': {'lat': 1.4201968, 'lng': 103.8475762}, 'viewport': {'northeast': {'lat': 1.421324329892722, 'lng': 103.8488649298927}, 'southwest': {'lat': 1.418624670107278, 'lng': 103.8461652701073}}}, 'icon': 'https://maps.gstatic.com/mapfiles/place_api/icons/geocode-71.png', 'id': 'b45cf8f4ec8fea0cf7d343cf771102719d27fc83', 'name': '431 Yishun Ave 1', 'place_id': 'ChIJbaSLf0AU2jERT1gKtXOXn50', 'reference': 'ChIJbaSLf0AU2jERT1gKtXOXn50', 'types': ['premise']}\n",
      "{'formatted_address': '547C Segar Rd, Singapore', 'geometry': {'location': {'lat': 1.388585, 'lng': 103.7688044}, 'viewport': {'northeast': {'lat': 1.389987929892722, 'lng': 103.7700595798927}, 'southwest': {'lat': 1.387288270107278, 'lng': 103.7673599201073}}}, 'icon': 'https://maps.gstatic.com/mapfiles/place_api/icons/geocode-71.png', 'id': '7ca3d58d9d4d268a5b6ac5bd0c1477da34503215', 'name': '547C Segar Rd', 'place_id': 'ChIJKVWD8ZsR2jERH5uR0MXLDwg', 'plus_code': {'compound_code': '9QQ9+CG Singapore', 'global_code': '6PH59QQ9+CG'}, 'reference': 'ChIJKVWD8ZsR2jERH5uR0MXLDwg', 'types': ['street_address']}\n",
      "{'formatted_address': '459 Segar Rd, Singapore', 'geometry': {'location': {'lat': 1.3877258, 'lng': 103.7717778}, 'viewport': {'northeast': {'lat': 1.389184529892722, 'lng': 103.7731942298927}, 'southwest': {'lat': 1.386484870107278, 'lng': 103.7704945701073}}}, 'icon': 'https://maps.gstatic.com/mapfiles/place_api/icons/geocode-71.png', 'id': '4808802bb192e3b39cfaa8179424bdcdd3eaba14', 'name': '459 Segar Rd', 'place_id': 'ChIJ4QVfnZ4R2jERq5xU_noP5wA', 'reference': 'ChIJ4QVfnZ4R2jERq5xU_noP5wA', 'types': ['premise']}\n",
      "{'formatted_address': '440C Fernvale Link, Singapore', 'geometry': {'location': {'lat': 1.3924397, 'lng': 103.8784783}, 'viewport': {'northeast': {'lat': 1.393824129892722, 'lng': 103.8798093798927}, 'southwest': {'lat': 1.391124470107278, 'lng': 103.8771097201073}}}, 'icon': 'https://maps.gstatic.com/mapfiles/place_api/icons/lodging-71.png', 'id': '7b0942a91f1a4df88c91cd6af6ea3b44a639f7de', 'name': '440C Fernvale Link', 'place_id': 'ChIJB2Nf_eYX2jERTRPSooPkp5A', 'plus_code': {'compound_code': '9VRH+X9 Singapore', 'global_code': '6PH59VRH+X9'}, 'rating': 5, 'reference': 'ChIJB2Nf_eYX2jERTRPSooPkp5A', 'types': ['lodging', 'point_of_interest', 'establishment'], 'user_ratings_total': 1}\n",
      "{'formatted_address': '335A Yishun Street 31, Singapore', 'geometry': {'location': {'lat': 1.4330882, 'lng': 103.84446}, 'viewport': {'northeast': {'lat': 1.434405529892722, 'lng': 103.8458370798927}, 'southwest': {'lat': 1.431705870107278, 'lng': 103.8431374201073}}}, 'icon': 'https://maps.gstatic.com/mapfiles/place_api/icons/geocode-71.png', 'id': 'de365e6e93e0f8f77d28c2c1dea291489f3bcf49', 'name': '335A Yishun Street 31', 'place_id': 'ChIJR44qYWcU2jERM29fDdE9dOg', 'plus_code': {'compound_code': 'CRMV+6Q Singapore', 'global_code': '6PH5CRMV+6Q'}, 'reference': 'ChIJR44qYWcU2jERM29fDdE9dOg', 'types': ['street_address']}\n",
      "{'formatted_address': '334 Yishun Street 31, Singapore', 'geometry': {'location': {'lat': 1.4317554, 'lng': 103.8461949}, 'viewport': {'northeast': {'lat': 1.433105229892722, 'lng': 103.8475447298927}, 'southwest': {'lat': 1.430405570107278, 'lng': 103.8448450701073}}}, 'icon': 'https://maps.gstatic.com/mapfiles/place_api/icons/geocode-71.png', 'id': 'ca8d31e8223b7833147a0c60bda8c44ac5019729', 'name': '334 Yishun Street 31', 'place_id': 'Eh8zMzQgWWlzaHVuIFN0cmVldCAzMSwgU2luZ2Fwb3JlIhsSGQoUChIJJ7CKcV0U2jERhMRah_zc-kMQzgI', 'reference': 'Eh8zMzQgWWlzaHVuIFN0cmVldCAzMSwgU2luZ2Fwb3JlIhsSGQoUChIJJ7CKcV0U2jERhMRah_zc-kMQzgI', 'types': ['street_address']}\n"
     ]
    }
   ],
   "source": [
    "cnt_err = 0\n",
    "for key, value in d.items():\n",
    "    try:\n",
    "        print(value['results'][0])\n",
    "#         d[key] = int(value['results'][0]['formatted_address'][-6:])\n",
    "    except:\n",
    "        cnt_err += 1\n",
    "#         print(key, value)\n",
    "# print(cnt_err)"
   ]
  },
  {
   "cell_type": "code",
   "execution_count": null,
   "metadata": {
    "collapsed": true
   },
   "outputs": [],
   "source": [
    "import json\n",
    "\n",
    "with open('address_to_postal.json', 'w') as json_file:\n",
    "  json.dump(d, json_file)"
   ]
  },
  {
   "cell_type": "code",
   "execution_count": null,
   "metadata": {
    "collapsed": true
   },
   "outputs": [],
   "source": []
  },
  {
   "cell_type": "code",
   "execution_count": null,
   "metadata": {
    "collapsed": true
   },
   "outputs": [],
   "source": [
    "df['postal_code'] = df['address'].apply(lambda x: d[x])"
   ]
  },
  {
   "cell_type": "code",
   "execution_count": null,
   "metadata": {
    "collapsed": true
   },
   "outputs": [],
   "source": [
    "df2 = df.sort_values(by = 'postal_code')"
   ]
  },
  {
   "cell_type": "code",
   "execution_count": null,
   "metadata": {
    "collapsed": true
   },
   "outputs": [],
   "source": [
    "df2.head()"
   ]
  },
  {
   "cell_type": "code",
   "execution_count": null,
   "metadata": {
    "collapsed": true
   },
   "outputs": [],
   "source": [
    "income_vs_housing.head()"
   ]
  },
  {
   "cell_type": "code",
   "execution_count": null,
   "metadata": {
    "collapsed": true
   },
   "outputs": [],
   "source": [
    "def price_to_level(price, town):\n",
    "    for level, num in income_vs_housing.loc[town].iteritems():\n",
    "        if price < num:\n",
    "            return level\n",
    "    return \"$8,000 & Over\""
   ]
  },
  {
   "cell_type": "code",
   "execution_count": null,
   "metadata": {
    "collapsed": true
   },
   "outputs": [],
   "source": [
    "df2['income_pred'] = df2.apply(lambda row: price_to_level(row[\"resale_price\"], row['town']), axis = 1)"
   ]
  },
  {
   "cell_type": "code",
   "execution_count": null,
   "metadata": {
    "collapsed": true
   },
   "outputs": [],
   "source": [
    "df2.head(10)"
   ]
  },
  {
   "cell_type": "code",
   "execution_count": null,
   "metadata": {
    "collapsed": true
   },
   "outputs": [],
   "source": [
    "code_lst = df2['postal_code']\n",
    "length = len(code_lst)\n",
    "\n",
    "def postal_code_to_incomes(code, ranging = 10):\n",
    "    target = np.argmin(np.abs(code_lst - code))\n",
    "    lower_bound = max(0, target-ranging)\n",
    "    upper_bound = min(length, lower_bound+2*ranging)\n",
    "    bar = df2[\"income_pred\"].iloc[lower_bound:upper_bound].value_counts()\n",
    "    pred = df2[\"income_pred\"].iloc[target]\n",
    "    return {'Income Prediction': pred, \"Bar Chart\": bar}"
   ]
  },
  {
   "cell_type": "code",
   "execution_count": null,
   "metadata": {
    "collapsed": true
   },
   "outputs": [],
   "source": [
    "result = postal_code_to_incomes(234567,10)"
   ]
  },
  {
   "cell_type": "code",
   "execution_count": null,
   "metadata": {
    "collapsed": true
   },
   "outputs": [],
   "source": [
    "result['Bar Chart']"
   ]
  },
  {
   "cell_type": "code",
   "execution_count": null,
   "metadata": {
    "collapsed": true
   },
   "outputs": [],
   "source": [
    "plt.bar(result['Bar Chart'].keys(), result['Bar Chart'])\n",
    "plt.xticks(rotation='vertical')"
   ]
  },
  {
   "cell_type": "code",
   "execution_count": null,
   "metadata": {
    "collapsed": true
   },
   "outputs": [],
   "source": []
  }
 ],
 "metadata": {
  "kernelspec": {
   "display_name": "Python 3",
   "language": "python",
   "name": "python3"
  }
 },
 "nbformat": 4,
 "nbformat_minor": 2
}
