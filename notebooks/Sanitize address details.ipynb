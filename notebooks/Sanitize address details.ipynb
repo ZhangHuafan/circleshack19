{
 "cells": [
  {
   "cell_type": "code",
   "execution_count": 1,
   "metadata": {},
   "outputs": [
    {
     "name": "stdout",
     "output_type": "stream",
     "text": [
      "Wrong formats: 85\n",
      "No postal code: 222\n"
     ]
    }
   ],
   "source": [
    "import json\n",
    "\n",
    "d = {}\n",
    "l = []\n",
    "\n",
    "cnt = 0\n",
    "cnt_2 = 0\n",
    "\n",
    "with open('address_to_details.txt') as f:\n",
    "    for line in f:\n",
    "        temp = line.split(',', 1)\n",
    "        address = temp[0]\n",
    "        detail = temp[1].replace('\"', '\\\\\"').replace(\"True\", \"true\").replace(\"False\", \"false\")\n",
    "        try:\n",
    "            parsed = json.loads(detail.replace(\"'\", '\"'))\n",
    "            fa = parsed['results'][0]['formatted_address']\n",
    "            try:\n",
    "                postal_code = int(fa[-6:])\n",
    "                d[address] = parsed\n",
    "            except:\n",
    "                cnt_2 += 1\n",
    "        except:\n",
    "            cnt += 1\n",
    "\n",
    "print(\"Wrong formats:\", cnt)\n",
    "print(\"No postal code:\", cnt_2)"
   ]
  },
  {
   "cell_type": "code",
   "execution_count": 2,
   "metadata": {},
   "outputs": [
    {
     "data": {
      "text/plain": [
       "8401"
      ]
     },
     "execution_count": 2,
     "metadata": {},
     "output_type": "execute_result"
    }
   ],
   "source": [
    "len(d)"
   ]
  },
  {
   "cell_type": "code",
   "execution_count": 3,
   "metadata": {
    "scrolled": true
   },
   "outputs": [
    {
     "data": {
      "text/plain": [
       "('BLK 174 ANG MO KIO AVE 4',\n",
       " {'html_attributions': [],\n",
       "  'results': [{'formatted_address': '174 Ang Mo Kio Ave 4, Block 174, Singapore 560174',\n",
       "    'geometry': {'location': {'lat': 1.3752431, 'lng': 103.8374311},\n",
       "     'viewport': {'northeast': {'lat': 1.376661979892722,\n",
       "       'lng': 103.8388044298927},\n",
       "      'southwest': {'lat': 1.373962320107278, 'lng': 103.8361047701073}}},\n",
       "    'icon': 'https://maps.gstatic.com/mapfiles/place_api/icons/geocode-71.png',\n",
       "    'id': '06b33ff018fc5e6c67c4eb97fe58001bfda99874',\n",
       "    'name': 'Block 174',\n",
       "    'place_id': 'ChIJT0jv8sQW2jER2-N98Xpdz6U',\n",
       "    'reference': 'ChIJT0jv8sQW2jER2-N98Xpdz6U',\n",
       "    'types': ['premise']}],\n",
       "  'status': 'OK'})"
      ]
     },
     "execution_count": 3,
     "metadata": {},
     "output_type": "execute_result"
    }
   ],
   "source": [
    "list(d.items())[0]"
   ]
  },
  {
   "cell_type": "code",
   "execution_count": 4,
   "metadata": {
    "collapsed": true
   },
   "outputs": [],
   "source": [
    "with open(\"address_to_details_sanitized.json\", 'w') as save_file:\n",
    "    json.dump(d, save_file)"
   ]
  }
 ],
 "metadata": {
  "kernelspec": {
   "display_name": "Python 3",
   "language": "python",
   "name": "python3"
  },
  "language_info": {
   "codemirror_mode": {
    "name": "ipython",
    "version": 3
   },
   "file_extension": ".py",
   "mimetype": "text/x-python",
   "name": "python",
   "nbconvert_exporter": "python",
   "pygments_lexer": "ipython3",
   "version": "3.6.1"
  }
 },
 "nbformat": 4,
 "nbformat_minor": 2
}
